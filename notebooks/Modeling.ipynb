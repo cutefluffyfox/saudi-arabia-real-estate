{
 "cells": [
  {
   "cell_type": "code",
   "execution_count": 4,
   "id": "97742a3b",
   "metadata": {},
   "outputs": [],
   "source": [
    "import pandas as pd\n",
    "import matplotlib.pyplot as plt"
   ]
  },
  {
   "cell_type": "code",
   "execution_count": 5,
   "id": "a92ccd5c",
   "metadata": {},
   "outputs": [
    {
     "data": {
      "text/html": [
       "<div>\n",
       "<style scoped>\n",
       "    .dataframe tbody tr th:only-of-type {\n",
       "        vertical-align: middle;\n",
       "    }\n",
       "\n",
       "    .dataframe tbody tr th {\n",
       "        vertical-align: top;\n",
       "    }\n",
       "\n",
       "    .dataframe thead th {\n",
       "        text-align: right;\n",
       "    }\n",
       "</style>\n",
       "<table border=\"1\" class=\"dataframe\">\n",
       "  <thead>\n",
       "    <tr style=\"text-align: right;\">\n",
       "      <th></th>\n",
       "      <th>price</th>\n",
       "      <th>category</th>\n",
       "      <th>beds</th>\n",
       "      <th>livings</th>\n",
       "      <th>wc</th>\n",
       "      <th>area</th>\n",
       "      <th>street_width</th>\n",
       "      <th>age</th>\n",
       "      <th>street_direction</th>\n",
       "      <th>ketchen</th>\n",
       "      <th>...</th>\n",
       "      <th>rent_period_2.0</th>\n",
       "      <th>rent_period_3.0</th>\n",
       "      <th>advertiser_type_agent</th>\n",
       "      <th>advertiser_type_exclusive_marketer</th>\n",
       "      <th>advertiser_type_normal_marketer</th>\n",
       "      <th>advertiser_type_owner</th>\n",
       "      <th>daily_rentable_0.0</th>\n",
       "      <th>daily_rentable_1.0</th>\n",
       "      <th>user.iam_verified_0.0</th>\n",
       "      <th>user.iam_verified_1.0</th>\n",
       "    </tr>\n",
       "  </thead>\n",
       "  <tbody>\n",
       "    <tr>\n",
       "      <th>2308</th>\n",
       "      <td>5500.0</td>\n",
       "      <td>1</td>\n",
       "      <td>1.0</td>\n",
       "      <td>1.0</td>\n",
       "      <td>1.0</td>\n",
       "      <td>160.0</td>\n",
       "      <td>18.0</td>\n",
       "      <td>2.0</td>\n",
       "      <td>3.0</td>\n",
       "      <td>1.0</td>\n",
       "      <td>...</td>\n",
       "      <td>True</td>\n",
       "      <td>False</td>\n",
       "      <td>False</td>\n",
       "      <td>True</td>\n",
       "      <td>False</td>\n",
       "      <td>False</td>\n",
       "      <td>True</td>\n",
       "      <td>False</td>\n",
       "      <td>False</td>\n",
       "      <td>True</td>\n",
       "    </tr>\n",
       "    <tr>\n",
       "      <th>2366</th>\n",
       "      <td>2000.0</td>\n",
       "      <td>1</td>\n",
       "      <td>3.0</td>\n",
       "      <td>1.0</td>\n",
       "      <td>1.0</td>\n",
       "      <td>160.0</td>\n",
       "      <td>18.0</td>\n",
       "      <td>0.0</td>\n",
       "      <td>3.0</td>\n",
       "      <td>1.0</td>\n",
       "      <td>...</td>\n",
       "      <td>True</td>\n",
       "      <td>False</td>\n",
       "      <td>True</td>\n",
       "      <td>False</td>\n",
       "      <td>False</td>\n",
       "      <td>False</td>\n",
       "      <td>True</td>\n",
       "      <td>False</td>\n",
       "      <td>False</td>\n",
       "      <td>True</td>\n",
       "    </tr>\n",
       "    <tr>\n",
       "      <th>2405</th>\n",
       "      <td>50000.0</td>\n",
       "      <td>5</td>\n",
       "      <td>7.0</td>\n",
       "      <td>2.0</td>\n",
       "      <td>5.0</td>\n",
       "      <td>900.0</td>\n",
       "      <td>30.0</td>\n",
       "      <td>30.0</td>\n",
       "      <td>8.0</td>\n",
       "      <td>0.0</td>\n",
       "      <td>...</td>\n",
       "      <td>False</td>\n",
       "      <td>True</td>\n",
       "      <td>False</td>\n",
       "      <td>True</td>\n",
       "      <td>False</td>\n",
       "      <td>False</td>\n",
       "      <td>True</td>\n",
       "      <td>False</td>\n",
       "      <td>False</td>\n",
       "      <td>True</td>\n",
       "    </tr>\n",
       "    <tr>\n",
       "      <th>2434</th>\n",
       "      <td>1500.0</td>\n",
       "      <td>1</td>\n",
       "      <td>1.0</td>\n",
       "      <td>1.0</td>\n",
       "      <td>1.0</td>\n",
       "      <td>50.0</td>\n",
       "      <td>5.0</td>\n",
       "      <td>2.0</td>\n",
       "      <td>3.0</td>\n",
       "      <td>1.0</td>\n",
       "      <td>...</td>\n",
       "      <td>True</td>\n",
       "      <td>False</td>\n",
       "      <td>False</td>\n",
       "      <td>False</td>\n",
       "      <td>False</td>\n",
       "      <td>True</td>\n",
       "      <td>True</td>\n",
       "      <td>False</td>\n",
       "      <td>False</td>\n",
       "      <td>True</td>\n",
       "    </tr>\n",
       "    <tr>\n",
       "      <th>2435</th>\n",
       "      <td>1500.0</td>\n",
       "      <td>1</td>\n",
       "      <td>1.0</td>\n",
       "      <td>1.0</td>\n",
       "      <td>1.0</td>\n",
       "      <td>160.0</td>\n",
       "      <td>18.0</td>\n",
       "      <td>2.0</td>\n",
       "      <td>3.0</td>\n",
       "      <td>1.0</td>\n",
       "      <td>...</td>\n",
       "      <td>True</td>\n",
       "      <td>False</td>\n",
       "      <td>False</td>\n",
       "      <td>False</td>\n",
       "      <td>False</td>\n",
       "      <td>True</td>\n",
       "      <td>True</td>\n",
       "      <td>False</td>\n",
       "      <td>False</td>\n",
       "      <td>True</td>\n",
       "    </tr>\n",
       "  </tbody>\n",
       "</table>\n",
       "<p>5 rows × 48 columns</p>\n",
       "</div>"
      ],
      "text/plain": [
       "        price  category  beds  livings   wc   area  street_width   age  \\\n",
       "2308   5500.0         1   1.0      1.0  1.0  160.0          18.0   2.0   \n",
       "2366   2000.0         1   3.0      1.0  1.0  160.0          18.0   0.0   \n",
       "2405  50000.0         5   7.0      2.0  5.0  900.0          30.0  30.0   \n",
       "2434   1500.0         1   1.0      1.0  1.0   50.0           5.0   2.0   \n",
       "2435   1500.0         1   1.0      1.0  1.0  160.0          18.0   2.0   \n",
       "\n",
       "      street_direction  ketchen  ...  rent_period_2.0  rent_period_3.0  \\\n",
       "2308               3.0      1.0  ...             True            False   \n",
       "2366               3.0      1.0  ...             True            False   \n",
       "2405               8.0      0.0  ...            False             True   \n",
       "2434               3.0      1.0  ...             True            False   \n",
       "2435               3.0      1.0  ...             True            False   \n",
       "\n",
       "      advertiser_type_agent  advertiser_type_exclusive_marketer  \\\n",
       "2308                  False                                True   \n",
       "2366                   True                               False   \n",
       "2405                  False                                True   \n",
       "2434                  False                               False   \n",
       "2435                  False                               False   \n",
       "\n",
       "      advertiser_type_normal_marketer  advertiser_type_owner  \\\n",
       "2308                            False                  False   \n",
       "2366                            False                  False   \n",
       "2405                            False                  False   \n",
       "2434                            False                   True   \n",
       "2435                            False                   True   \n",
       "\n",
       "      daily_rentable_0.0  daily_rentable_1.0  user.iam_verified_0.0  \\\n",
       "2308                True               False                  False   \n",
       "2366                True               False                  False   \n",
       "2405                True               False                  False   \n",
       "2434                True               False                  False   \n",
       "2435                True               False                  False   \n",
       "\n",
       "      user.iam_verified_1.0  \n",
       "2308                   True  \n",
       "2366                   True  \n",
       "2405                   True  \n",
       "2434                   True  \n",
       "2435                   True  \n",
       "\n",
       "[5 rows x 48 columns]"
      ]
     },
     "execution_count": 5,
     "metadata": {},
     "output_type": "execute_result"
    }
   ],
   "source": [
    "df = pd.read_csv('../data/processed/processed.csv', index_col=0)\n",
    "\n",
    "df.head()"
   ]
  },
  {
   "cell_type": "code",
   "execution_count": 6,
   "id": "d16bdb5e",
   "metadata": {},
   "outputs": [],
   "source": [
    "# important = ['advertiser_type_normal_marketer',\n",
    "#  'advertiser_type_agent',\n",
    "#  'all_inclusive',\n",
    "#  'rent_period_1.0',\n",
    "#  'is_store',\n",
    "#  'furnished',\n",
    "#  'beds',\n",
    "#  'rent_period_2.0',\n",
    "#  'user.review',\n",
    "#  'street_width',\n",
    "#  'street_direction',\n",
    "#  'is_land',\n",
    "#  'create_time',\n",
    "#  'ac',\n",
    "#  'rent_period_3.0',\n",
    "#  'city_id',\n",
    "#  'age',\n",
    "#  'is_villa',\n",
    "#  'number_of_rooms',\n",
    "#  'livings',\n",
    "#  'wc',\n",
    "#  'is_appartement',\n",
    "#  'category',\n",
    "#  'location.lng',\n",
    "#  'area',\n",
    "#  'district_id',\n",
    "#  'location.lat',\n",
    "#  'is_sell',\n",
    "#  'is_rent']"
   ]
  },
  {
   "cell_type": "code",
   "execution_count": 10,
   "id": "15e10694",
   "metadata": {},
   "outputs": [],
   "source": [
    "from sklearn.model_selection import train_test_split\n",
    "\n",
    "X = df.drop(columns=['price'])\n",
    "y = df['price']\n",
    "\n",
    "X_train, X_test, y_train, y_test = train_test_split(X, y, test_size=0.2, random_state=42)\n",
    "\n",
    "X_sell = X[X.is_sell]\n",
    "y_sell = y[X.is_sell]\n",
    "\n",
    "X_rent = X[X.is_rent]\n",
    "y_rent = y[X.is_rent]\n",
    "\n",
    "X_sell_train, X_sell_test, y_sell_train, y_sell_test = train_test_split(X_sell, y_sell, test_size=0.2, random_state=42)\n",
    "X_rent_train, X_rent_test, y_rent_train, y_rent_test = train_test_split(X_rent, y_rent, test_size=0.2, random_state=42)"
   ]
  },
  {
   "cell_type": "code",
   "execution_count": 233,
   "id": "ebe6eae1",
   "metadata": {},
   "outputs": [
    {
     "data": {
      "text/plain": [
       "<catboost.core.CatBoostRegressor at 0x186cbb1e430>"
      ]
     },
     "execution_count": 233,
     "metadata": {},
     "output_type": "execute_result"
    }
   ],
   "source": [
    "import catboost as cb\n",
    "\n",
    "model = cb.CatBoostRegressor(loss_function='RMSE', logging_level='Silent')\n",
    "\n",
    "model"
   ]
  },
  {
   "cell_type": "code",
   "execution_count": 234,
   "id": "c17a972d",
   "metadata": {},
   "outputs": [
    {
     "data": {
      "text/plain": [
       "47"
      ]
     },
     "execution_count": 234,
     "metadata": {},
     "output_type": "execute_result"
    }
   ],
   "source": [
    "len(X.columns)"
   ]
  },
  {
   "cell_type": "code",
   "execution_count": 235,
   "id": "6b749303",
   "metadata": {},
   "outputs": [
    {
     "data": {
      "application/vnd.jupyter.widget-view+json": {
       "model_id": "d7ae64c722424de8a8975ef3f9f47870",
       "version_major": 2,
       "version_minor": 0
      },
      "text/plain": [
       "MetricVisualizer(layout=Layout(align_self='stretch', height='500px'))"
      ]
     },
     "metadata": {},
     "output_type": "display_data"
    },
    {
     "data": {
      "application/vnd.plotly.v1+json": {
       "config": {
        "plotlyServerURL": "https://plot.ly"
       },
       "data": [
        {
         "line": {
          "color": "rgb(51,160,44)"
         },
         "mode": "lines+markers",
         "name": "",
         "text": [
          "",
          "is_chalet",
          "is_farm",
          "is_campsite",
          "is_office",
          "user.iam_verified_1.0",
          "is_warehouse",
          "is_room",
          "user.iam_verified_0.0",
          "is_esterahah",
          "is_store",
          "ketchen",
          "is_house",
          "daily_rentable_1.0",
          "is_floot",
          "has_extended_details",
          "advertiser_type_owner",
          "advertiser_type_agent",
          "daily_rentable_0.0",
          "advertiser_type_exclusive_marketer",
          "all_inclusive",
          "advertiser_type_normal_marketer"
         ],
         "type": "scatter",
         "x": [
          0,
          1,
          2,
          3,
          4,
          5,
          6,
          7,
          8,
          9,
          10,
          11,
          12,
          13,
          14,
          15,
          16,
          17,
          18,
          19,
          20,
          21
         ],
         "y": [
          22578.160127563566,
          22578.16178139686,
          22578.16178139686,
          22578.16178139686,
          22578.153830114792,
          22578.099556089543,
          22577.98978344332,
          22577.85904452054,
          22577.61321556088,
          22577.30638626155,
          22576.616178018794,
          22575.32869126354,
          22574.01003681396,
          22571.33424943975,
          22568.35671226171,
          22565.135622932787,
          22560.085945612933,
          22554.687892382837,
          22549.248414331312,
          22540.653753287268,
          22526.270727055577,
          22503.001255557912
         ]
        },
        {
         "marker": {
          "size": 10,
          "symbol": "square"
         },
         "mode": "markers",
         "name": "",
         "text": [
          "",
          "advertiser_type_normal_marketer"
         ],
         "type": "scatter",
         "x": [
          0,
          21
         ],
         "y": [
          22578.160127563566,
          22503.001255557912
         ]
        },
        {
         "mode": "text",
         "name": "",
         "text": [
          "",
          "32",
          "27",
          "30",
          "28",
          "46",
          "29",
          "31",
          "45",
          "26",
          "24",
          "8",
          "25",
          "44",
          "22",
          "17",
          "42",
          "39",
          "43",
          "40",
          "35",
          "41"
         ],
         "textfont": {
          "color": "rgb(51,160,44)",
          "family": "sans serif",
          "size": 18
         },
         "textposition": "bottom center",
         "type": "scatter",
         "visible": false,
         "x": [
          0,
          1,
          2,
          3,
          4,
          5,
          6,
          7,
          8,
          9,
          10,
          11,
          12,
          13,
          14,
          15,
          16,
          17,
          18,
          19,
          20,
          21
         ],
         "y": [
          22578.160127563566,
          22578.16178139686,
          22578.16178139686,
          22578.16178139686,
          22578.153830114792,
          22578.099556089543,
          22577.98978344332,
          22577.85904452054,
          22577.61321556088,
          22577.30638626155,
          22576.616178018794,
          22575.32869126354,
          22574.01003681396,
          22571.33424943975,
          22568.35671226171,
          22565.135622932787,
          22560.085945612933,
          22554.687892382837,
          22549.248414331312,
          22540.653753287268,
          22526.270727055577,
          22503.001255557912
         ]
        },
        {
         "mode": "text",
         "name": "",
         "text": [
          "",
          "is_chalet",
          "is_farm",
          "is_campsite",
          "is_office",
          "user.iam_verified_1.0",
          "is_warehouse",
          "is_room",
          "user.iam_verified_0.0",
          "is_esterahah",
          "is_store",
          "ketchen",
          "is_house",
          "daily_rentable_1.0",
          "is_floot",
          "has_extended_details",
          "advertiser_type_owner",
          "advertiser_type_agent",
          "daily_rentable_0.0",
          "advertiser_type_exclusive_marketer",
          "all_inclusive",
          "advertiser_type_normal_marketer"
         ],
         "textfont": {
          "color": "rgb(51,160,44)",
          "family": "sans serif",
          "size": 18
         },
         "textposition": "bottom center",
         "type": "scatter",
         "visible": false,
         "x": [
          0,
          1,
          2,
          3,
          4,
          5,
          6,
          7,
          8,
          9,
          10,
          11,
          12,
          13,
          14,
          15,
          16,
          17,
          18,
          19,
          20,
          21
         ],
         "y": [
          22578.160127563566,
          22578.16178139686,
          22578.16178139686,
          22578.16178139686,
          22578.153830114792,
          22578.099556089543,
          22577.98978344332,
          22577.85904452054,
          22577.61321556088,
          22577.30638626155,
          22576.616178018794,
          22575.32869126354,
          22574.01003681396,
          22571.33424943975,
          22568.35671226171,
          22565.135622932787,
          22560.085945612933,
          22554.687892382837,
          22549.248414331312,
          22540.653753287268,
          22526.270727055577,
          22503.001255557912
         ]
        }
       ],
       "layout": {
        "showlegend": false,
        "template": {
         "data": {
          "bar": [
           {
            "error_x": {
             "color": "#2a3f5f"
            },
            "error_y": {
             "color": "#2a3f5f"
            },
            "marker": {
             "line": {
              "color": "#E5ECF6",
              "width": 0.5
             },
             "pattern": {
              "fillmode": "overlay",
              "size": 10,
              "solidity": 0.2
             }
            },
            "type": "bar"
           }
          ],
          "barpolar": [
           {
            "marker": {
             "line": {
              "color": "#E5ECF6",
              "width": 0.5
             },
             "pattern": {
              "fillmode": "overlay",
              "size": 10,
              "solidity": 0.2
             }
            },
            "type": "barpolar"
           }
          ],
          "carpet": [
           {
            "aaxis": {
             "endlinecolor": "#2a3f5f",
             "gridcolor": "white",
             "linecolor": "white",
             "minorgridcolor": "white",
             "startlinecolor": "#2a3f5f"
            },
            "baxis": {
             "endlinecolor": "#2a3f5f",
             "gridcolor": "white",
             "linecolor": "white",
             "minorgridcolor": "white",
             "startlinecolor": "#2a3f5f"
            },
            "type": "carpet"
           }
          ],
          "choropleth": [
           {
            "colorbar": {
             "outlinewidth": 0,
             "ticks": ""
            },
            "type": "choropleth"
           }
          ],
          "contour": [
           {
            "colorbar": {
             "outlinewidth": 0,
             "ticks": ""
            },
            "colorscale": [
             [
              0,
              "#0d0887"
             ],
             [
              0.1111111111111111,
              "#46039f"
             ],
             [
              0.2222222222222222,
              "#7201a8"
             ],
             [
              0.3333333333333333,
              "#9c179e"
             ],
             [
              0.4444444444444444,
              "#bd3786"
             ],
             [
              0.5555555555555556,
              "#d8576b"
             ],
             [
              0.6666666666666666,
              "#ed7953"
             ],
             [
              0.7777777777777778,
              "#fb9f3a"
             ],
             [
              0.8888888888888888,
              "#fdca26"
             ],
             [
              1,
              "#f0f921"
             ]
            ],
            "type": "contour"
           }
          ],
          "contourcarpet": [
           {
            "colorbar": {
             "outlinewidth": 0,
             "ticks": ""
            },
            "type": "contourcarpet"
           }
          ],
          "heatmap": [
           {
            "colorbar": {
             "outlinewidth": 0,
             "ticks": ""
            },
            "colorscale": [
             [
              0,
              "#0d0887"
             ],
             [
              0.1111111111111111,
              "#46039f"
             ],
             [
              0.2222222222222222,
              "#7201a8"
             ],
             [
              0.3333333333333333,
              "#9c179e"
             ],
             [
              0.4444444444444444,
              "#bd3786"
             ],
             [
              0.5555555555555556,
              "#d8576b"
             ],
             [
              0.6666666666666666,
              "#ed7953"
             ],
             [
              0.7777777777777778,
              "#fb9f3a"
             ],
             [
              0.8888888888888888,
              "#fdca26"
             ],
             [
              1,
              "#f0f921"
             ]
            ],
            "type": "heatmap"
           }
          ],
          "heatmapgl": [
           {
            "colorbar": {
             "outlinewidth": 0,
             "ticks": ""
            },
            "colorscale": [
             [
              0,
              "#0d0887"
             ],
             [
              0.1111111111111111,
              "#46039f"
             ],
             [
              0.2222222222222222,
              "#7201a8"
             ],
             [
              0.3333333333333333,
              "#9c179e"
             ],
             [
              0.4444444444444444,
              "#bd3786"
             ],
             [
              0.5555555555555556,
              "#d8576b"
             ],
             [
              0.6666666666666666,
              "#ed7953"
             ],
             [
              0.7777777777777778,
              "#fb9f3a"
             ],
             [
              0.8888888888888888,
              "#fdca26"
             ],
             [
              1,
              "#f0f921"
             ]
            ],
            "type": "heatmapgl"
           }
          ],
          "histogram": [
           {
            "marker": {
             "pattern": {
              "fillmode": "overlay",
              "size": 10,
              "solidity": 0.2
             }
            },
            "type": "histogram"
           }
          ],
          "histogram2d": [
           {
            "colorbar": {
             "outlinewidth": 0,
             "ticks": ""
            },
            "colorscale": [
             [
              0,
              "#0d0887"
             ],
             [
              0.1111111111111111,
              "#46039f"
             ],
             [
              0.2222222222222222,
              "#7201a8"
             ],
             [
              0.3333333333333333,
              "#9c179e"
             ],
             [
              0.4444444444444444,
              "#bd3786"
             ],
             [
              0.5555555555555556,
              "#d8576b"
             ],
             [
              0.6666666666666666,
              "#ed7953"
             ],
             [
              0.7777777777777778,
              "#fb9f3a"
             ],
             [
              0.8888888888888888,
              "#fdca26"
             ],
             [
              1,
              "#f0f921"
             ]
            ],
            "type": "histogram2d"
           }
          ],
          "histogram2dcontour": [
           {
            "colorbar": {
             "outlinewidth": 0,
             "ticks": ""
            },
            "colorscale": [
             [
              0,
              "#0d0887"
             ],
             [
              0.1111111111111111,
              "#46039f"
             ],
             [
              0.2222222222222222,
              "#7201a8"
             ],
             [
              0.3333333333333333,
              "#9c179e"
             ],
             [
              0.4444444444444444,
              "#bd3786"
             ],
             [
              0.5555555555555556,
              "#d8576b"
             ],
             [
              0.6666666666666666,
              "#ed7953"
             ],
             [
              0.7777777777777778,
              "#fb9f3a"
             ],
             [
              0.8888888888888888,
              "#fdca26"
             ],
             [
              1,
              "#f0f921"
             ]
            ],
            "type": "histogram2dcontour"
           }
          ],
          "mesh3d": [
           {
            "colorbar": {
             "outlinewidth": 0,
             "ticks": ""
            },
            "type": "mesh3d"
           }
          ],
          "parcoords": [
           {
            "line": {
             "colorbar": {
              "outlinewidth": 0,
              "ticks": ""
             }
            },
            "type": "parcoords"
           }
          ],
          "pie": [
           {
            "automargin": true,
            "type": "pie"
           }
          ],
          "scatter": [
           {
            "fillpattern": {
             "fillmode": "overlay",
             "size": 10,
             "solidity": 0.2
            },
            "type": "scatter"
           }
          ],
          "scatter3d": [
           {
            "line": {
             "colorbar": {
              "outlinewidth": 0,
              "ticks": ""
             }
            },
            "marker": {
             "colorbar": {
              "outlinewidth": 0,
              "ticks": ""
             }
            },
            "type": "scatter3d"
           }
          ],
          "scattercarpet": [
           {
            "marker": {
             "colorbar": {
              "outlinewidth": 0,
              "ticks": ""
             }
            },
            "type": "scattercarpet"
           }
          ],
          "scattergeo": [
           {
            "marker": {
             "colorbar": {
              "outlinewidth": 0,
              "ticks": ""
             }
            },
            "type": "scattergeo"
           }
          ],
          "scattergl": [
           {
            "marker": {
             "colorbar": {
              "outlinewidth": 0,
              "ticks": ""
             }
            },
            "type": "scattergl"
           }
          ],
          "scattermapbox": [
           {
            "marker": {
             "colorbar": {
              "outlinewidth": 0,
              "ticks": ""
             }
            },
            "type": "scattermapbox"
           }
          ],
          "scatterpolar": [
           {
            "marker": {
             "colorbar": {
              "outlinewidth": 0,
              "ticks": ""
             }
            },
            "type": "scatterpolar"
           }
          ],
          "scatterpolargl": [
           {
            "marker": {
             "colorbar": {
              "outlinewidth": 0,
              "ticks": ""
             }
            },
            "type": "scatterpolargl"
           }
          ],
          "scatterternary": [
           {
            "marker": {
             "colorbar": {
              "outlinewidth": 0,
              "ticks": ""
             }
            },
            "type": "scatterternary"
           }
          ],
          "surface": [
           {
            "colorbar": {
             "outlinewidth": 0,
             "ticks": ""
            },
            "colorscale": [
             [
              0,
              "#0d0887"
             ],
             [
              0.1111111111111111,
              "#46039f"
             ],
             [
              0.2222222222222222,
              "#7201a8"
             ],
             [
              0.3333333333333333,
              "#9c179e"
             ],
             [
              0.4444444444444444,
              "#bd3786"
             ],
             [
              0.5555555555555556,
              "#d8576b"
             ],
             [
              0.6666666666666666,
              "#ed7953"
             ],
             [
              0.7777777777777778,
              "#fb9f3a"
             ],
             [
              0.8888888888888888,
              "#fdca26"
             ],
             [
              1,
              "#f0f921"
             ]
            ],
            "type": "surface"
           }
          ],
          "table": [
           {
            "cells": {
             "fill": {
              "color": "#EBF0F8"
             },
             "line": {
              "color": "white"
             }
            },
            "header": {
             "fill": {
              "color": "#C8D4E3"
             },
             "line": {
              "color": "white"
             }
            },
            "type": "table"
           }
          ]
         },
         "layout": {
          "annotationdefaults": {
           "arrowcolor": "#2a3f5f",
           "arrowhead": 0,
           "arrowwidth": 1
          },
          "autotypenumbers": "strict",
          "coloraxis": {
           "colorbar": {
            "outlinewidth": 0,
            "ticks": ""
           }
          },
          "colorscale": {
           "diverging": [
            [
             0,
             "#8e0152"
            ],
            [
             0.1,
             "#c51b7d"
            ],
            [
             0.2,
             "#de77ae"
            ],
            [
             0.3,
             "#f1b6da"
            ],
            [
             0.4,
             "#fde0ef"
            ],
            [
             0.5,
             "#f7f7f7"
            ],
            [
             0.6,
             "#e6f5d0"
            ],
            [
             0.7,
             "#b8e186"
            ],
            [
             0.8,
             "#7fbc41"
            ],
            [
             0.9,
             "#4d9221"
            ],
            [
             1,
             "#276419"
            ]
           ],
           "sequential": [
            [
             0,
             "#0d0887"
            ],
            [
             0.1111111111111111,
             "#46039f"
            ],
            [
             0.2222222222222222,
             "#7201a8"
            ],
            [
             0.3333333333333333,
             "#9c179e"
            ],
            [
             0.4444444444444444,
             "#bd3786"
            ],
            [
             0.5555555555555556,
             "#d8576b"
            ],
            [
             0.6666666666666666,
             "#ed7953"
            ],
            [
             0.7777777777777778,
             "#fb9f3a"
            ],
            [
             0.8888888888888888,
             "#fdca26"
            ],
            [
             1,
             "#f0f921"
            ]
           ],
           "sequentialminus": [
            [
             0,
             "#0d0887"
            ],
            [
             0.1111111111111111,
             "#46039f"
            ],
            [
             0.2222222222222222,
             "#7201a8"
            ],
            [
             0.3333333333333333,
             "#9c179e"
            ],
            [
             0.4444444444444444,
             "#bd3786"
            ],
            [
             0.5555555555555556,
             "#d8576b"
            ],
            [
             0.6666666666666666,
             "#ed7953"
            ],
            [
             0.7777777777777778,
             "#fb9f3a"
            ],
            [
             0.8888888888888888,
             "#fdca26"
            ],
            [
             1,
             "#f0f921"
            ]
           ]
          },
          "colorway": [
           "#636efa",
           "#EF553B",
           "#00cc96",
           "#ab63fa",
           "#FFA15A",
           "#19d3f3",
           "#FF6692",
           "#B6E880",
           "#FF97FF",
           "#FECB52"
          ],
          "font": {
           "color": "#2a3f5f"
          },
          "geo": {
           "bgcolor": "white",
           "lakecolor": "white",
           "landcolor": "#E5ECF6",
           "showlakes": true,
           "showland": true,
           "subunitcolor": "white"
          },
          "hoverlabel": {
           "align": "left"
          },
          "hovermode": "closest",
          "mapbox": {
           "style": "light"
          },
          "paper_bgcolor": "white",
          "plot_bgcolor": "#E5ECF6",
          "polar": {
           "angularaxis": {
            "gridcolor": "white",
            "linecolor": "white",
            "ticks": ""
           },
           "bgcolor": "#E5ECF6",
           "radialaxis": {
            "gridcolor": "white",
            "linecolor": "white",
            "ticks": ""
           }
          },
          "scene": {
           "xaxis": {
            "backgroundcolor": "#E5ECF6",
            "gridcolor": "white",
            "gridwidth": 2,
            "linecolor": "white",
            "showbackground": true,
            "ticks": "",
            "zerolinecolor": "white"
           },
           "yaxis": {
            "backgroundcolor": "#E5ECF6",
            "gridcolor": "white",
            "gridwidth": 2,
            "linecolor": "white",
            "showbackground": true,
            "ticks": "",
            "zerolinecolor": "white"
           },
           "zaxis": {
            "backgroundcolor": "#E5ECF6",
            "gridcolor": "white",
            "gridwidth": 2,
            "linecolor": "white",
            "showbackground": true,
            "ticks": "",
            "zerolinecolor": "white"
           }
          },
          "shapedefaults": {
           "line": {
            "color": "#2a3f5f"
           }
          },
          "ternary": {
           "aaxis": {
            "gridcolor": "white",
            "linecolor": "white",
            "ticks": ""
           },
           "baxis": {
            "gridcolor": "white",
            "linecolor": "white",
            "ticks": ""
           },
           "bgcolor": "#E5ECF6",
           "caxis": {
            "gridcolor": "white",
            "linecolor": "white",
            "ticks": ""
           }
          },
          "title": {
           "x": 0.05
          },
          "xaxis": {
           "automargin": true,
           "gridcolor": "white",
           "linecolor": "white",
           "ticks": "",
           "title": {
            "standoff": 15
           },
           "zerolinecolor": "white",
           "zerolinewidth": 2
          },
          "yaxis": {
           "automargin": true,
           "gridcolor": "white",
           "linecolor": "white",
           "ticks": "",
           "title": {
            "standoff": 15
           },
           "zerolinecolor": "white",
           "zerolinewidth": 2
          }
         }
        },
        "title": {
         "text": "Loss by eliminated features"
        },
        "updatemenus": [
         {
          "active": 0,
          "buttons": [
           {
            "args": [
             {
              "visible": [
               true,
               true,
               false,
               false
              ]
             }
            ],
            "label": "Hide features",
            "method": "update"
           },
           {
            "args": [
             {
              "visible": [
               true,
               true,
               true,
               false
              ]
             }
            ],
            "label": "Show indices",
            "method": "update"
           },
           {
            "args": [
             {
              "visible": [
               true,
               true,
               false,
               true
              ]
             }
            ],
            "label": "Show names",
            "method": "update"
           }
          ],
          "pad": {
           "r": 10,
           "t": 10
          },
          "showactive": true,
          "x": -0.25,
          "xanchor": "left",
          "y": 1.03,
          "yanchor": "top"
         }
        ],
        "xaxis": {
         "gridcolor": "rgb(255,255,255)",
         "showgrid": true,
         "showline": false,
         "showticklabels": true,
         "tickcolor": "rgb(127,127,127)",
         "ticks": "outside",
         "title": {
          "text": "number of removed features"
         },
         "zeroline": false
        },
        "yaxis": {
         "gridcolor": "rgb(255,255,255)",
         "showgrid": true,
         "showline": false,
         "showticklabels": true,
         "tickcolor": "rgb(127,127,127)",
         "tickfont": {
          "color": "rgb(51,160,44)"
         },
         "ticks": "outside",
         "title": {
          "font": {
           "color": "rgb(51,160,44)"
          },
          "text": "loss value"
         },
         "zeroline": false
        }
       }
      },
      "text/html": [
       "<div>                            <div id=\"5119341c-6040-4b96-aa3f-c1e55630b04b\" class=\"plotly-graph-div\" style=\"height:525px; width:100%;\"></div>            <script type=\"text/javascript\">                require([\"plotly\"], function(Plotly) {                    window.PLOTLYENV=window.PLOTLYENV || {};                                    if (document.getElementById(\"5119341c-6040-4b96-aa3f-c1e55630b04b\")) {                    Plotly.newPlot(                        \"5119341c-6040-4b96-aa3f-c1e55630b04b\",                        [{\"line\":{\"color\":\"rgb(51,160,44)\"},\"mode\":\"lines+markers\",\"name\":\"\",\"text\":[\"\",\"is_chalet\",\"is_farm\",\"is_campsite\",\"is_office\",\"user.iam_verified_1.0\",\"is_warehouse\",\"is_room\",\"user.iam_verified_0.0\",\"is_esterahah\",\"is_store\",\"ketchen\",\"is_house\",\"daily_rentable_1.0\",\"is_floot\",\"has_extended_details\",\"advertiser_type_owner\",\"advertiser_type_agent\",\"daily_rentable_0.0\",\"advertiser_type_exclusive_marketer\",\"all_inclusive\",\"advertiser_type_normal_marketer\"],\"x\":[0,1,2,3,4,5,6,7,8,9,10,11,12,13,14,15,16,17,18,19,20,21],\"y\":[22578.160127563566,22578.16178139686,22578.16178139686,22578.16178139686,22578.153830114792,22578.099556089543,22577.98978344332,22577.85904452054,22577.61321556088,22577.30638626155,22576.616178018794,22575.32869126354,22574.01003681396,22571.33424943975,22568.35671226171,22565.135622932787,22560.085945612933,22554.687892382837,22549.248414331312,22540.653753287268,22526.270727055577,22503.001255557912],\"type\":\"scatter\"},{\"marker\":{\"size\":10,\"symbol\":\"square\"},\"mode\":\"markers\",\"name\":\"\",\"text\":[\"\",\"advertiser_type_normal_marketer\"],\"x\":[0,21],\"y\":[22578.160127563566,22503.001255557912],\"type\":\"scatter\"},{\"mode\":\"text\",\"name\":\"\",\"text\":[\"\",\"32\",\"27\",\"30\",\"28\",\"46\",\"29\",\"31\",\"45\",\"26\",\"24\",\"8\",\"25\",\"44\",\"22\",\"17\",\"42\",\"39\",\"43\",\"40\",\"35\",\"41\"],\"textfont\":{\"color\":\"rgb(51,160,44)\",\"family\":\"sans serif\",\"size\":18},\"textposition\":\"bottom center\",\"visible\":false,\"x\":[0,1,2,3,4,5,6,7,8,9,10,11,12,13,14,15,16,17,18,19,20,21],\"y\":[22578.160127563566,22578.16178139686,22578.16178139686,22578.16178139686,22578.153830114792,22578.099556089543,22577.98978344332,22577.85904452054,22577.61321556088,22577.30638626155,22576.616178018794,22575.32869126354,22574.01003681396,22571.33424943975,22568.35671226171,22565.135622932787,22560.085945612933,22554.687892382837,22549.248414331312,22540.653753287268,22526.270727055577,22503.001255557912],\"type\":\"scatter\"},{\"mode\":\"text\",\"name\":\"\",\"text\":[\"\",\"is_chalet\",\"is_farm\",\"is_campsite\",\"is_office\",\"user.iam_verified_1.0\",\"is_warehouse\",\"is_room\",\"user.iam_verified_0.0\",\"is_esterahah\",\"is_store\",\"ketchen\",\"is_house\",\"daily_rentable_1.0\",\"is_floot\",\"has_extended_details\",\"advertiser_type_owner\",\"advertiser_type_agent\",\"daily_rentable_0.0\",\"advertiser_type_exclusive_marketer\",\"all_inclusive\",\"advertiser_type_normal_marketer\"],\"textfont\":{\"color\":\"rgb(51,160,44)\",\"family\":\"sans serif\",\"size\":18},\"textposition\":\"bottom center\",\"visible\":false,\"x\":[0,1,2,3,4,5,6,7,8,9,10,11,12,13,14,15,16,17,18,19,20,21],\"y\":[22578.160127563566,22578.16178139686,22578.16178139686,22578.16178139686,22578.153830114792,22578.099556089543,22577.98978344332,22577.85904452054,22577.61321556088,22577.30638626155,22576.616178018794,22575.32869126354,22574.01003681396,22571.33424943975,22568.35671226171,22565.135622932787,22560.085945612933,22554.687892382837,22549.248414331312,22540.653753287268,22526.270727055577,22503.001255557912],\"type\":\"scatter\"}],                        {\"template\":{\"data\":{\"histogram2dcontour\":[{\"type\":\"histogram2dcontour\",\"colorbar\":{\"outlinewidth\":0,\"ticks\":\"\"},\"colorscale\":[[0.0,\"#0d0887\"],[0.1111111111111111,\"#46039f\"],[0.2222222222222222,\"#7201a8\"],[0.3333333333333333,\"#9c179e\"],[0.4444444444444444,\"#bd3786\"],[0.5555555555555556,\"#d8576b\"],[0.6666666666666666,\"#ed7953\"],[0.7777777777777778,\"#fb9f3a\"],[0.8888888888888888,\"#fdca26\"],[1.0,\"#f0f921\"]]}],\"choropleth\":[{\"type\":\"choropleth\",\"colorbar\":{\"outlinewidth\":0,\"ticks\":\"\"}}],\"histogram2d\":[{\"type\":\"histogram2d\",\"colorbar\":{\"outlinewidth\":0,\"ticks\":\"\"},\"colorscale\":[[0.0,\"#0d0887\"],[0.1111111111111111,\"#46039f\"],[0.2222222222222222,\"#7201a8\"],[0.3333333333333333,\"#9c179e\"],[0.4444444444444444,\"#bd3786\"],[0.5555555555555556,\"#d8576b\"],[0.6666666666666666,\"#ed7953\"],[0.7777777777777778,\"#fb9f3a\"],[0.8888888888888888,\"#fdca26\"],[1.0,\"#f0f921\"]]}],\"heatmap\":[{\"type\":\"heatmap\",\"colorbar\":{\"outlinewidth\":0,\"ticks\":\"\"},\"colorscale\":[[0.0,\"#0d0887\"],[0.1111111111111111,\"#46039f\"],[0.2222222222222222,\"#7201a8\"],[0.3333333333333333,\"#9c179e\"],[0.4444444444444444,\"#bd3786\"],[0.5555555555555556,\"#d8576b\"],[0.6666666666666666,\"#ed7953\"],[0.7777777777777778,\"#fb9f3a\"],[0.8888888888888888,\"#fdca26\"],[1.0,\"#f0f921\"]]}],\"heatmapgl\":[{\"type\":\"heatmapgl\",\"colorbar\":{\"outlinewidth\":0,\"ticks\":\"\"},\"colorscale\":[[0.0,\"#0d0887\"],[0.1111111111111111,\"#46039f\"],[0.2222222222222222,\"#7201a8\"],[0.3333333333333333,\"#9c179e\"],[0.4444444444444444,\"#bd3786\"],[0.5555555555555556,\"#d8576b\"],[0.6666666666666666,\"#ed7953\"],[0.7777777777777778,\"#fb9f3a\"],[0.8888888888888888,\"#fdca26\"],[1.0,\"#f0f921\"]]}],\"contourcarpet\":[{\"type\":\"contourcarpet\",\"colorbar\":{\"outlinewidth\":0,\"ticks\":\"\"}}],\"contour\":[{\"type\":\"contour\",\"colorbar\":{\"outlinewidth\":0,\"ticks\":\"\"},\"colorscale\":[[0.0,\"#0d0887\"],[0.1111111111111111,\"#46039f\"],[0.2222222222222222,\"#7201a8\"],[0.3333333333333333,\"#9c179e\"],[0.4444444444444444,\"#bd3786\"],[0.5555555555555556,\"#d8576b\"],[0.6666666666666666,\"#ed7953\"],[0.7777777777777778,\"#fb9f3a\"],[0.8888888888888888,\"#fdca26\"],[1.0,\"#f0f921\"]]}],\"surface\":[{\"type\":\"surface\",\"colorbar\":{\"outlinewidth\":0,\"ticks\":\"\"},\"colorscale\":[[0.0,\"#0d0887\"],[0.1111111111111111,\"#46039f\"],[0.2222222222222222,\"#7201a8\"],[0.3333333333333333,\"#9c179e\"],[0.4444444444444444,\"#bd3786\"],[0.5555555555555556,\"#d8576b\"],[0.6666666666666666,\"#ed7953\"],[0.7777777777777778,\"#fb9f3a\"],[0.8888888888888888,\"#fdca26\"],[1.0,\"#f0f921\"]]}],\"mesh3d\":[{\"type\":\"mesh3d\",\"colorbar\":{\"outlinewidth\":0,\"ticks\":\"\"}}],\"scatter\":[{\"fillpattern\":{\"fillmode\":\"overlay\",\"size\":10,\"solidity\":0.2},\"type\":\"scatter\"}],\"parcoords\":[{\"type\":\"parcoords\",\"line\":{\"colorbar\":{\"outlinewidth\":0,\"ticks\":\"\"}}}],\"scatterpolargl\":[{\"type\":\"scatterpolargl\",\"marker\":{\"colorbar\":{\"outlinewidth\":0,\"ticks\":\"\"}}}],\"bar\":[{\"error_x\":{\"color\":\"#2a3f5f\"},\"error_y\":{\"color\":\"#2a3f5f\"},\"marker\":{\"line\":{\"color\":\"#E5ECF6\",\"width\":0.5},\"pattern\":{\"fillmode\":\"overlay\",\"size\":10,\"solidity\":0.2}},\"type\":\"bar\"}],\"scattergeo\":[{\"type\":\"scattergeo\",\"marker\":{\"colorbar\":{\"outlinewidth\":0,\"ticks\":\"\"}}}],\"scatterpolar\":[{\"type\":\"scatterpolar\",\"marker\":{\"colorbar\":{\"outlinewidth\":0,\"ticks\":\"\"}}}],\"histogram\":[{\"marker\":{\"pattern\":{\"fillmode\":\"overlay\",\"size\":10,\"solidity\":0.2}},\"type\":\"histogram\"}],\"scattergl\":[{\"type\":\"scattergl\",\"marker\":{\"colorbar\":{\"outlinewidth\":0,\"ticks\":\"\"}}}],\"scatter3d\":[{\"type\":\"scatter3d\",\"line\":{\"colorbar\":{\"outlinewidth\":0,\"ticks\":\"\"}},\"marker\":{\"colorbar\":{\"outlinewidth\":0,\"ticks\":\"\"}}}],\"scattermapbox\":[{\"type\":\"scattermapbox\",\"marker\":{\"colorbar\":{\"outlinewidth\":0,\"ticks\":\"\"}}}],\"scatterternary\":[{\"type\":\"scatterternary\",\"marker\":{\"colorbar\":{\"outlinewidth\":0,\"ticks\":\"\"}}}],\"scattercarpet\":[{\"type\":\"scattercarpet\",\"marker\":{\"colorbar\":{\"outlinewidth\":0,\"ticks\":\"\"}}}],\"carpet\":[{\"aaxis\":{\"endlinecolor\":\"#2a3f5f\",\"gridcolor\":\"white\",\"linecolor\":\"white\",\"minorgridcolor\":\"white\",\"startlinecolor\":\"#2a3f5f\"},\"baxis\":{\"endlinecolor\":\"#2a3f5f\",\"gridcolor\":\"white\",\"linecolor\":\"white\",\"minorgridcolor\":\"white\",\"startlinecolor\":\"#2a3f5f\"},\"type\":\"carpet\"}],\"table\":[{\"cells\":{\"fill\":{\"color\":\"#EBF0F8\"},\"line\":{\"color\":\"white\"}},\"header\":{\"fill\":{\"color\":\"#C8D4E3\"},\"line\":{\"color\":\"white\"}},\"type\":\"table\"}],\"barpolar\":[{\"marker\":{\"line\":{\"color\":\"#E5ECF6\",\"width\":0.5},\"pattern\":{\"fillmode\":\"overlay\",\"size\":10,\"solidity\":0.2}},\"type\":\"barpolar\"}],\"pie\":[{\"automargin\":true,\"type\":\"pie\"}]},\"layout\":{\"autotypenumbers\":\"strict\",\"colorway\":[\"#636efa\",\"#EF553B\",\"#00cc96\",\"#ab63fa\",\"#FFA15A\",\"#19d3f3\",\"#FF6692\",\"#B6E880\",\"#FF97FF\",\"#FECB52\"],\"font\":{\"color\":\"#2a3f5f\"},\"hovermode\":\"closest\",\"hoverlabel\":{\"align\":\"left\"},\"paper_bgcolor\":\"white\",\"plot_bgcolor\":\"#E5ECF6\",\"polar\":{\"bgcolor\":\"#E5ECF6\",\"angularaxis\":{\"gridcolor\":\"white\",\"linecolor\":\"white\",\"ticks\":\"\"},\"radialaxis\":{\"gridcolor\":\"white\",\"linecolor\":\"white\",\"ticks\":\"\"}},\"ternary\":{\"bgcolor\":\"#E5ECF6\",\"aaxis\":{\"gridcolor\":\"white\",\"linecolor\":\"white\",\"ticks\":\"\"},\"baxis\":{\"gridcolor\":\"white\",\"linecolor\":\"white\",\"ticks\":\"\"},\"caxis\":{\"gridcolor\":\"white\",\"linecolor\":\"white\",\"ticks\":\"\"}},\"coloraxis\":{\"colorbar\":{\"outlinewidth\":0,\"ticks\":\"\"}},\"colorscale\":{\"sequential\":[[0.0,\"#0d0887\"],[0.1111111111111111,\"#46039f\"],[0.2222222222222222,\"#7201a8\"],[0.3333333333333333,\"#9c179e\"],[0.4444444444444444,\"#bd3786\"],[0.5555555555555556,\"#d8576b\"],[0.6666666666666666,\"#ed7953\"],[0.7777777777777778,\"#fb9f3a\"],[0.8888888888888888,\"#fdca26\"],[1.0,\"#f0f921\"]],\"sequentialminus\":[[0.0,\"#0d0887\"],[0.1111111111111111,\"#46039f\"],[0.2222222222222222,\"#7201a8\"],[0.3333333333333333,\"#9c179e\"],[0.4444444444444444,\"#bd3786\"],[0.5555555555555556,\"#d8576b\"],[0.6666666666666666,\"#ed7953\"],[0.7777777777777778,\"#fb9f3a\"],[0.8888888888888888,\"#fdca26\"],[1.0,\"#f0f921\"]],\"diverging\":[[0,\"#8e0152\"],[0.1,\"#c51b7d\"],[0.2,\"#de77ae\"],[0.3,\"#f1b6da\"],[0.4,\"#fde0ef\"],[0.5,\"#f7f7f7\"],[0.6,\"#e6f5d0\"],[0.7,\"#b8e186\"],[0.8,\"#7fbc41\"],[0.9,\"#4d9221\"],[1,\"#276419\"]]},\"xaxis\":{\"gridcolor\":\"white\",\"linecolor\":\"white\",\"ticks\":\"\",\"title\":{\"standoff\":15},\"zerolinecolor\":\"white\",\"automargin\":true,\"zerolinewidth\":2},\"yaxis\":{\"gridcolor\":\"white\",\"linecolor\":\"white\",\"ticks\":\"\",\"title\":{\"standoff\":15},\"zerolinecolor\":\"white\",\"automargin\":true,\"zerolinewidth\":2},\"scene\":{\"xaxis\":{\"backgroundcolor\":\"#E5ECF6\",\"gridcolor\":\"white\",\"linecolor\":\"white\",\"showbackground\":true,\"ticks\":\"\",\"zerolinecolor\":\"white\",\"gridwidth\":2},\"yaxis\":{\"backgroundcolor\":\"#E5ECF6\",\"gridcolor\":\"white\",\"linecolor\":\"white\",\"showbackground\":true,\"ticks\":\"\",\"zerolinecolor\":\"white\",\"gridwidth\":2},\"zaxis\":{\"backgroundcolor\":\"#E5ECF6\",\"gridcolor\":\"white\",\"linecolor\":\"white\",\"showbackground\":true,\"ticks\":\"\",\"zerolinecolor\":\"white\",\"gridwidth\":2}},\"shapedefaults\":{\"line\":{\"color\":\"#2a3f5f\"}},\"annotationdefaults\":{\"arrowcolor\":\"#2a3f5f\",\"arrowhead\":0,\"arrowwidth\":1},\"geo\":{\"bgcolor\":\"white\",\"landcolor\":\"#E5ECF6\",\"subunitcolor\":\"white\",\"showland\":true,\"showlakes\":true,\"lakecolor\":\"white\"},\"title\":{\"x\":0.05},\"mapbox\":{\"style\":\"light\"}}},\"title\":{\"text\":\"Loss by eliminated features\"},\"xaxis\":{\"title\":{\"text\":\"number of removed features\"},\"gridcolor\":\"rgb(255,255,255)\",\"showgrid\":true,\"showline\":false,\"showticklabels\":true,\"tickcolor\":\"rgb(127,127,127)\",\"ticks\":\"outside\",\"zeroline\":false},\"yaxis\":{\"title\":{\"text\":\"loss value\",\"font\":{\"color\":\"rgb(51,160,44)\"}},\"tickfont\":{\"color\":\"rgb(51,160,44)\"},\"gridcolor\":\"rgb(255,255,255)\",\"showgrid\":true,\"showline\":false,\"showticklabels\":true,\"tickcolor\":\"rgb(127,127,127)\",\"ticks\":\"outside\",\"zeroline\":false},\"updatemenus\":[{\"active\":0,\"buttons\":[{\"args\":[{\"visible\":[true,true,false,false]}],\"label\":\"Hide features\",\"method\":\"update\"},{\"args\":[{\"visible\":[true,true,true,false]}],\"label\":\"Show indices\",\"method\":\"update\"},{\"args\":[{\"visible\":[true,true,false,true]}],\"label\":\"Show names\",\"method\":\"update\"}],\"pad\":{\"r\":10,\"t\":10},\"showactive\":true,\"x\":-0.25,\"xanchor\":\"left\",\"y\":1.03,\"yanchor\":\"top\"}],\"showlegend\":false},                        {\"responsive\": true}                    ).then(function(){\n",
       "                            \n",
       "var gd = document.getElementById('5119341c-6040-4b96-aa3f-c1e55630b04b');\n",
       "var x = new MutationObserver(function (mutations, observer) {{\n",
       "        var display = window.getComputedStyle(gd).display;\n",
       "        if (!display || display === 'none') {{\n",
       "            console.log([gd, 'removed!']);\n",
       "            Plotly.purge(gd);\n",
       "            observer.disconnect();\n",
       "        }}\n",
       "}});\n",
       "\n",
       "// Listen for the removal of the full notebook cells\n",
       "var notebookContainer = gd.closest('#notebook-container');\n",
       "if (notebookContainer) {{\n",
       "    x.observe(notebookContainer, {childList: true});\n",
       "}}\n",
       "\n",
       "// Listen for the clearing of the current output cell\n",
       "var outputEl = gd.closest('.output');\n",
       "if (outputEl) {{\n",
       "    x.observe(outputEl, {childList: true});\n",
       "}}\n",
       "\n",
       "                        })                };                });            </script>        </div>"
      ]
     },
     "metadata": {},
     "output_type": "display_data"
    }
   ],
   "source": [
    "res = model.select_features(X, y=y, eval_set=(X_test, y_test), features_for_select=X.columns, num_features_to_select=26, plot=True)"
   ]
  },
  {
   "cell_type": "code",
   "execution_count": 236,
   "id": "e82cd94b",
   "metadata": {},
   "outputs": [
    {
     "data": {
      "text/plain": [
       "['category',\n",
       " 'beds',\n",
       " 'livings',\n",
       " 'wc',\n",
       " 'area',\n",
       " 'street_width',\n",
       " 'age',\n",
       " 'street_direction',\n",
       " 'ac',\n",
       " 'furnished',\n",
       " 'location.lat',\n",
       " 'location.lng',\n",
       " 'user.review',\n",
       " 'city_id',\n",
       " 'district_id',\n",
       " 'create_time',\n",
       " 'number_of_rooms',\n",
       " 'is_appartement',\n",
       " 'is_land',\n",
       " 'is_villa',\n",
       " 'is_building',\n",
       " 'is_sell',\n",
       " 'is_rent',\n",
       " 'rent_period_1.0',\n",
       " 'rent_period_2.0',\n",
       " 'rent_period_3.0']"
      ]
     },
     "execution_count": 236,
     "metadata": {},
     "output_type": "execute_result"
    }
   ],
   "source": [
    "selected = res['selected_features_names']\n",
    "selected"
   ]
  },
  {
   "cell_type": "code",
   "execution_count": 226,
   "id": "cda16e56",
   "metadata": {},
   "outputs": [],
   "source": [
    "# grid = {'iterations': [200, 300, 500],\n",
    "#         'learning_rate': [3e-4, 0.01, 0.03, 0.1],\n",
    "#         'depth': [2, 4, 6, 8],\n",
    "#         'l2_leaf_reg': [0.2, 0.5, 1, 3]}\n",
    "\n",
    "# model = cb.CatBoostRegressor(loss_function='RMSE', logging_level='Silent')\n",
    "\n",
    "# # model.fit(X_train[selected], y_train)\n",
    "# grid_search_result = model.grid_search(\n",
    "#     grid,\n",
    "#     X=X_train[selected],\n",
    "#     y=y_train,\n",
    "#     plot=True\n",
    "# )"
   ]
  },
  {
   "cell_type": "code",
   "execution_count": 227,
   "id": "2c50cd53",
   "metadata": {},
   "outputs": [],
   "source": [
    "# grid_search_result['params']"
   ]
  },
  {
   "cell_type": "code",
   "execution_count": 244,
   "id": "c390d1b2",
   "metadata": {},
   "outputs": [
    {
     "data": {
      "image/svg+xml": [
       "<?xml version=\"1.0\" encoding=\"UTF-8\" standalone=\"no\"?>\n",
       "<!DOCTYPE svg PUBLIC \"-//W3C//DTD SVG 1.1//EN\"\n",
       " \"http://www.w3.org/Graphics/SVG/1.1/DTD/svg11.dtd\">\n",
       "<!-- Generated by graphviz version 8.0.2 (20230410.1723)\n",
       " -->\n",
       "<!-- Pages: 1 -->\n",
       "<svg width=\"7429pt\" height=\"566pt\"\n",
       " viewBox=\"0.00 0.00 7428.50 566.00\" xmlns=\"http://www.w3.org/2000/svg\" xmlns:xlink=\"http://www.w3.org/1999/xlink\">\n",
       "<g id=\"graph0\" class=\"graph\" transform=\"scale(1 1) rotate(0) translate(4 562)\">\n",
       "<polygon fill=\"white\" stroke=\"none\" points=\"-4,4 -4,-562 7424.5,-562 7424.5,4 -4,4\"/>\n",
       "<!-- 0 -->\n",
       "<g id=\"node1\" class=\"node\">\n",
       "<title>0</title>\n",
       "<ellipse fill=\"none\" stroke=\"black\" cx=\"3980.5\" cy=\"-540\" rx=\"107.78\" ry=\"18\"/>\n",
       "<text text-anchor=\"middle\" x=\"3980.5\" y=\"-536.3\" font-family=\"Times New Roman,serif\" font-size=\"14.00\">location.lat, value&gt;24.6999</text>\n",
       "</g>\n",
       "<!-- 1 -->\n",
       "<g id=\"node2\" class=\"node\">\n",
       "<title>1</title>\n",
       "<ellipse fill=\"none\" stroke=\"black\" cx=\"2728.5\" cy=\"-453\" rx=\"89.08\" ry=\"18\"/>\n",
       "<text text-anchor=\"middle\" x=\"2728.5\" y=\"-449.3\" font-family=\"Times New Roman,serif\" font-size=\"14.00\">district_id, value&gt;467</text>\n",
       "</g>\n",
       "<!-- 0&#45;&gt;1 -->\n",
       "<g id=\"edge1\" class=\"edge\">\n",
       "<title>0&#45;&gt;1</title>\n",
       "<path fill=\"none\" stroke=\"black\" d=\"M3882.26,-532.33C3646.91,-516.35 3053.28,-476.05 2822.4,-460.38\"/>\n",
       "<polygon fill=\"black\" stroke=\"black\" points=\"2822.9,-456.83 2812.69,-459.65 2822.43,-463.82 2822.9,-456.83\"/>\n",
       "<text text-anchor=\"middle\" x=\"3438.5\" y=\"-492.8\" font-family=\"Times New Roman,serif\" font-size=\"14.00\">No</text>\n",
       "</g>\n",
       "<!-- 2 -->\n",
       "<g id=\"node3\" class=\"node\">\n",
       "<title>2</title>\n",
       "<ellipse fill=\"none\" stroke=\"black\" cx=\"4625.5\" cy=\"-453\" rx=\"89.08\" ry=\"18\"/>\n",
       "<text text-anchor=\"middle\" x=\"4625.5\" y=\"-449.3\" font-family=\"Times New Roman,serif\" font-size=\"14.00\">district_id, value&gt;467</text>\n",
       "</g>\n",
       "<!-- 0&#45;&gt;2 -->\n",
       "<g id=\"edge2\" class=\"edge\">\n",
       "<title>0&#45;&gt;2</title>\n",
       "<path fill=\"none\" stroke=\"black\" d=\"M4063.17,-528.11C4186.71,-511.83 4418.17,-481.32 4542.12,-464.99\"/>\n",
       "<polygon fill=\"black\" stroke=\"black\" points=\"4542.22,-468.37 4551.67,-463.6 4541.3,-461.43 4542.22,-468.37\"/>\n",
       "<text text-anchor=\"middle\" x=\"4353.5\" y=\"-492.8\" font-family=\"Times New Roman,serif\" font-size=\"14.00\">Yes</text>\n",
       "</g>\n",
       "<!-- 3 -->\n",
       "<g id=\"node4\" class=\"node\">\n",
       "<title>3</title>\n",
       "<ellipse fill=\"none\" stroke=\"black\" cx=\"1276.5\" cy=\"-366\" rx=\"61.99\" ry=\"18\"/>\n",
       "<text text-anchor=\"middle\" x=\"1276.5\" y=\"-362.3\" font-family=\"Times New Roman,serif\" font-size=\"14.00\">wc, value&gt;2.5</text>\n",
       "</g>\n",
       "<!-- 1&#45;&gt;3 -->\n",
       "<g id=\"edge3\" class=\"edge\">\n",
       "<title>1&#45;&gt;3</title>\n",
       "<path fill=\"none\" stroke=\"black\" d=\"M2643.89,-447.05C2382.37,-431.74 1590.04,-385.35 1347.69,-371.17\"/>\n",
       "<polygon fill=\"black\" stroke=\"black\" points=\"1348.1,-367.63 1337.91,-370.54 1347.69,-374.61 1348.1,-367.63\"/>\n",
       "<text text-anchor=\"middle\" x=\"2098.5\" y=\"-405.8\" font-family=\"Times New Roman,serif\" font-size=\"14.00\">No</text>\n",
       "</g>\n",
       "<!-- 4 -->\n",
       "<g id=\"node5\" class=\"node\">\n",
       "<title>4</title>\n",
       "<ellipse fill=\"none\" stroke=\"black\" cx=\"2728.5\" cy=\"-366\" rx=\"61.99\" ry=\"18\"/>\n",
       "<text text-anchor=\"middle\" x=\"2728.5\" y=\"-362.3\" font-family=\"Times New Roman,serif\" font-size=\"14.00\">wc, value&gt;2.5</text>\n",
       "</g>\n",
       "<!-- 1&#45;&gt;4 -->\n",
       "<g id=\"edge4\" class=\"edge\">\n",
       "<title>1&#45;&gt;4</title>\n",
       "<path fill=\"none\" stroke=\"black\" d=\"M2728.5,-434.8C2728.5,-423.47 2728.5,-408.36 2728.5,-395.29\"/>\n",
       "<polygon fill=\"black\" stroke=\"black\" points=\"2732,-395.47 2728.5,-385.47 2725,-395.47 2732,-395.47\"/>\n",
       "<text text-anchor=\"middle\" x=\"2739.5\" y=\"-405.8\" font-family=\"Times New Roman,serif\" font-size=\"14.00\">Yes</text>\n",
       "</g>\n",
       "<!-- 5 -->\n",
       "<g id=\"node6\" class=\"node\">\n",
       "<title>5</title>\n",
       "<ellipse fill=\"none\" stroke=\"black\" cx=\"4625.5\" cy=\"-366\" rx=\"61.99\" ry=\"18\"/>\n",
       "<text text-anchor=\"middle\" x=\"4625.5\" y=\"-362.3\" font-family=\"Times New Roman,serif\" font-size=\"14.00\">wc, value&gt;2.5</text>\n",
       "</g>\n",
       "<!-- 2&#45;&gt;5 -->\n",
       "<g id=\"edge5\" class=\"edge\">\n",
       "<title>2&#45;&gt;5</title>\n",
       "<path fill=\"none\" stroke=\"black\" d=\"M4625.5,-434.8C4625.5,-423.47 4625.5,-408.36 4625.5,-395.29\"/>\n",
       "<polygon fill=\"black\" stroke=\"black\" points=\"4629,-395.47 4625.5,-385.47 4622,-395.47 4629,-395.47\"/>\n",
       "<text text-anchor=\"middle\" x=\"4634.5\" y=\"-405.8\" font-family=\"Times New Roman,serif\" font-size=\"14.00\">No</text>\n",
       "</g>\n",
       "<!-- 6 -->\n",
       "<g id=\"node7\" class=\"node\">\n",
       "<title>6</title>\n",
       "<ellipse fill=\"none\" stroke=\"black\" cx=\"5932.5\" cy=\"-366\" rx=\"61.99\" ry=\"18\"/>\n",
       "<text text-anchor=\"middle\" x=\"5932.5\" y=\"-362.3\" font-family=\"Times New Roman,serif\" font-size=\"14.00\">wc, value&gt;2.5</text>\n",
       "</g>\n",
       "<!-- 2&#45;&gt;6 -->\n",
       "<g id=\"edge6\" class=\"edge\">\n",
       "<title>2&#45;&gt;6</title>\n",
       "<path fill=\"none\" stroke=\"black\" d=\"M4709.25,-446.55C4949.43,-430.93 5637.68,-386.17 5861.35,-371.63\"/>\n",
       "<polygon fill=\"black\" stroke=\"black\" points=\"5861.52,-375.06 5871.28,-370.92 5861.07,-368.07 5861.52,-375.06\"/>\n",
       "<text text-anchor=\"middle\" x=\"5368.5\" y=\"-405.8\" font-family=\"Times New Roman,serif\" font-size=\"14.00\">Yes</text>\n",
       "</g>\n",
       "<!-- 7 -->\n",
       "<g id=\"node8\" class=\"node\">\n",
       "<title>7</title>\n",
       "<ellipse fill=\"none\" stroke=\"black\" cx=\"635.5\" cy=\"-279\" rx=\"89.08\" ry=\"18\"/>\n",
       "<text text-anchor=\"middle\" x=\"635.5\" y=\"-275.3\" font-family=\"Times New Roman,serif\" font-size=\"14.00\">district_id, value&gt;647</text>\n",
       "</g>\n",
       "<!-- 3&#45;&gt;7 -->\n",
       "<g id=\"edge7\" class=\"edge\">\n",
       "<title>3&#45;&gt;7</title>\n",
       "<path fill=\"none\" stroke=\"black\" d=\"M1221.02,-357.64C1108.27,-342.69 851.84,-308.69 718.9,-291.06\"/>\n",
       "<polygon fill=\"black\" stroke=\"black\" points=\"719.75,-287.51 709.37,-289.66 718.83,-294.45 719.75,-287.51\"/>\n",
       "<text text-anchor=\"middle\" x=\"1003.5\" y=\"-318.8\" font-family=\"Times New Roman,serif\" font-size=\"14.00\">No</text>\n",
       "</g>\n",
       "<!-- 8 -->\n",
       "<g id=\"node9\" class=\"node\">\n",
       "<title>8</title>\n",
       "<ellipse fill=\"none\" stroke=\"black\" cx=\"1276.5\" cy=\"-279\" rx=\"89.08\" ry=\"18\"/>\n",
       "<text text-anchor=\"middle\" x=\"1276.5\" y=\"-275.3\" font-family=\"Times New Roman,serif\" font-size=\"14.00\">district_id, value&gt;647</text>\n",
       "</g>\n",
       "<!-- 3&#45;&gt;8 -->\n",
       "<g id=\"edge8\" class=\"edge\">\n",
       "<title>3&#45;&gt;8</title>\n",
       "<path fill=\"none\" stroke=\"black\" d=\"M1276.5,-347.8C1276.5,-336.47 1276.5,-321.36 1276.5,-308.29\"/>\n",
       "<polygon fill=\"black\" stroke=\"black\" points=\"1280,-308.47 1276.5,-298.47 1273,-308.47 1280,-308.47\"/>\n",
       "<text text-anchor=\"middle\" x=\"1287.5\" y=\"-318.8\" font-family=\"Times New Roman,serif\" font-size=\"14.00\">Yes</text>\n",
       "</g>\n",
       "<!-- 9 -->\n",
       "<g id=\"node10\" class=\"node\">\n",
       "<title>9</title>\n",
       "<ellipse fill=\"none\" stroke=\"black\" cx=\"2417.5\" cy=\"-279\" rx=\"89.08\" ry=\"18\"/>\n",
       "<text text-anchor=\"middle\" x=\"2417.5\" y=\"-275.3\" font-family=\"Times New Roman,serif\" font-size=\"14.00\">district_id, value&gt;647</text>\n",
       "</g>\n",
       "<!-- 4&#45;&gt;9 -->\n",
       "<g id=\"edge9\" class=\"edge\">\n",
       "<title>4&#45;&gt;9</title>\n",
       "<path fill=\"none\" stroke=\"black\" d=\"M2684.6,-353C2631.06,-338.37 2540.19,-313.53 2479.52,-296.95\"/>\n",
       "<polygon fill=\"black\" stroke=\"black\" points=\"2480.5,-293.32 2469.94,-294.06 2478.66,-300.07 2480.5,-293.32\"/>\n",
       "<text text-anchor=\"middle\" x=\"2601.5\" y=\"-318.8\" font-family=\"Times New Roman,serif\" font-size=\"14.00\">No</text>\n",
       "</g>\n",
       "<!-- 10 -->\n",
       "<g id=\"node11\" class=\"node\">\n",
       "<title>10</title>\n",
       "<ellipse fill=\"none\" stroke=\"black\" cx=\"3034.5\" cy=\"-279\" rx=\"89.08\" ry=\"18\"/>\n",
       "<text text-anchor=\"middle\" x=\"3034.5\" y=\"-275.3\" font-family=\"Times New Roman,serif\" font-size=\"14.00\">district_id, value&gt;647</text>\n",
       "</g>\n",
       "<!-- 4&#45;&gt;10 -->\n",
       "<g id=\"edge10\" class=\"edge\">\n",
       "<title>4&#45;&gt;10</title>\n",
       "<path fill=\"none\" stroke=\"black\" d=\"M2772.34,-352.82C2825.04,-338.18 2913.77,-313.54 2973.22,-297.02\"/>\n",
       "<polygon fill=\"black\" stroke=\"black\" points=\"2973.9,-300.19 2982.6,-294.14 2972.03,-293.44 2973.9,-300.19\"/>\n",
       "<text text-anchor=\"middle\" x=\"2911.5\" y=\"-318.8\" font-family=\"Times New Roman,serif\" font-size=\"14.00\">Yes</text>\n",
       "</g>\n",
       "<!-- 11 -->\n",
       "<g id=\"node12\" class=\"node\">\n",
       "<title>11</title>\n",
       "<ellipse fill=\"none\" stroke=\"black\" cx=\"4367.5\" cy=\"-279\" rx=\"89.08\" ry=\"18\"/>\n",
       "<text text-anchor=\"middle\" x=\"4367.5\" y=\"-275.3\" font-family=\"Times New Roman,serif\" font-size=\"14.00\">district_id, value&gt;647</text>\n",
       "</g>\n",
       "<!-- 5&#45;&gt;11 -->\n",
       "<g id=\"edge11\" class=\"edge\">\n",
       "<title>5&#45;&gt;11</title>\n",
       "<path fill=\"none\" stroke=\"black\" d=\"M4585.47,-351.81C4541.96,-337.48 4472.11,-314.46 4423.24,-298.36\"/>\n",
       "<polygon fill=\"black\" stroke=\"black\" points=\"4424.43,-294.74 4413.84,-294.94 4422.24,-301.39 4424.43,-294.74\"/>\n",
       "<text text-anchor=\"middle\" x=\"4521.5\" y=\"-318.8\" font-family=\"Times New Roman,serif\" font-size=\"14.00\">No</text>\n",
       "</g>\n",
       "<!-- 12 -->\n",
       "<g id=\"node13\" class=\"node\">\n",
       "<title>12</title>\n",
       "<ellipse fill=\"none\" stroke=\"black\" cx=\"4893.5\" cy=\"-279\" rx=\"89.08\" ry=\"18\"/>\n",
       "<text text-anchor=\"middle\" x=\"4893.5\" y=\"-275.3\" font-family=\"Times New Roman,serif\" font-size=\"14.00\">district_id, value&gt;647</text>\n",
       "</g>\n",
       "<!-- 5&#45;&gt;12 -->\n",
       "<g id=\"edge12\" class=\"edge\">\n",
       "<title>5&#45;&gt;12</title>\n",
       "<path fill=\"none\" stroke=\"black\" d=\"M4666.2,-352.09C4711.68,-337.67 4785.63,-314.21 4836.77,-297.99\"/>\n",
       "<polygon fill=\"black\" stroke=\"black\" points=\"4837.53,-301.11 4846,-294.75 4835.41,-294.44 4837.53,-301.11\"/>\n",
       "<text text-anchor=\"middle\" x=\"4787.5\" y=\"-318.8\" font-family=\"Times New Roman,serif\" font-size=\"14.00\">Yes</text>\n",
       "</g>\n",
       "<!-- 13 -->\n",
       "<g id=\"node14\" class=\"node\">\n",
       "<title>13</title>\n",
       "<ellipse fill=\"none\" stroke=\"black\" cx=\"5932.5\" cy=\"-279\" rx=\"89.08\" ry=\"18\"/>\n",
       "<text text-anchor=\"middle\" x=\"5932.5\" y=\"-275.3\" font-family=\"Times New Roman,serif\" font-size=\"14.00\">district_id, value&gt;647</text>\n",
       "</g>\n",
       "<!-- 6&#45;&gt;13 -->\n",
       "<g id=\"edge13\" class=\"edge\">\n",
       "<title>6&#45;&gt;13</title>\n",
       "<path fill=\"none\" stroke=\"black\" d=\"M5932.5,-347.8C5932.5,-336.47 5932.5,-321.36 5932.5,-308.29\"/>\n",
       "<polygon fill=\"black\" stroke=\"black\" points=\"5936,-308.47 5932.5,-298.47 5929,-308.47 5936,-308.47\"/>\n",
       "<text text-anchor=\"middle\" x=\"5941.5\" y=\"-318.8\" font-family=\"Times New Roman,serif\" font-size=\"14.00\">No</text>\n",
       "</g>\n",
       "<!-- 14 -->\n",
       "<g id=\"node15\" class=\"node\">\n",
       "<title>14</title>\n",
       "<ellipse fill=\"none\" stroke=\"black\" cx=\"6688.5\" cy=\"-279\" rx=\"89.08\" ry=\"18\"/>\n",
       "<text text-anchor=\"middle\" x=\"6688.5\" y=\"-275.3\" font-family=\"Times New Roman,serif\" font-size=\"14.00\">district_id, value&gt;647</text>\n",
       "</g>\n",
       "<!-- 6&#45;&gt;14 -->\n",
       "<g id=\"edge14\" class=\"edge\">\n",
       "<title>6&#45;&gt;14</title>\n",
       "<path fill=\"none\" stroke=\"black\" d=\"M5989.63,-358.58C6121.03,-343.8 6445.34,-307.34 6601.6,-289.77\"/>\n",
       "<polygon fill=\"black\" stroke=\"black\" points=\"6601.55,-293.19 6611.1,-288.59 6600.77,-286.23 6601.55,-293.19\"/>\n",
       "<text text-anchor=\"middle\" x=\"6367.5\" y=\"-318.8\" font-family=\"Times New Roman,serif\" font-size=\"14.00\">Yes</text>\n",
       "</g>\n",
       "<!-- 15 -->\n",
       "<g id=\"node16\" class=\"node\">\n",
       "<title>15</title>\n",
       "<ellipse fill=\"none\" stroke=\"black\" cx=\"371.5\" cy=\"-192\" rx=\"105.88\" ry=\"18\"/>\n",
       "<text text-anchor=\"middle\" x=\"371.5\" y=\"-188.3\" font-family=\"Times New Roman,serif\" font-size=\"14.00\">is_appartement, value&gt;0.5</text>\n",
       "</g>\n",
       "<!-- 7&#45;&gt;15 -->\n",
       "<g id=\"edge15\" class=\"edge\">\n",
       "<title>7&#45;&gt;15</title>\n",
       "<path fill=\"none\" stroke=\"black\" d=\"M589.51,-263.19C545.2,-248.93 477.97,-227.28 429.89,-211.8\"/>\n",
       "<polygon fill=\"black\" stroke=\"black\" points=\"431.23,-208.23 420.63,-208.5 429.08,-214.89 431.23,-208.23\"/>\n",
       "<text text-anchor=\"middle\" x=\"528.5\" y=\"-231.8\" font-family=\"Times New Roman,serif\" font-size=\"14.00\">No</text>\n",
       "</g>\n",
       "<!-- 16 -->\n",
       "<g id=\"node17\" class=\"node\">\n",
       "<title>16</title>\n",
       "<ellipse fill=\"none\" stroke=\"black\" cx=\"635.5\" cy=\"-192\" rx=\"105.88\" ry=\"18\"/>\n",
       "<text text-anchor=\"middle\" x=\"635.5\" y=\"-188.3\" font-family=\"Times New Roman,serif\" font-size=\"14.00\">is_appartement, value&gt;0.5</text>\n",
       "</g>\n",
       "<!-- 7&#45;&gt;16 -->\n",
       "<g id=\"edge16\" class=\"edge\">\n",
       "<title>7&#45;&gt;16</title>\n",
       "<path fill=\"none\" stroke=\"black\" d=\"M635.5,-260.8C635.5,-249.47 635.5,-234.36 635.5,-221.29\"/>\n",
       "<polygon fill=\"black\" stroke=\"black\" points=\"639,-221.47 635.5,-211.47 632,-221.47 639,-221.47\"/>\n",
       "<text text-anchor=\"middle\" x=\"646.5\" y=\"-231.8\" font-family=\"Times New Roman,serif\" font-size=\"14.00\">Yes</text>\n",
       "</g>\n",
       "<!-- 17 -->\n",
       "<g id=\"node18\" class=\"node\">\n",
       "<title>17</title>\n",
       "<ellipse fill=\"none\" stroke=\"black\" cx=\"1208.5\" cy=\"-192\" rx=\"105.88\" ry=\"18\"/>\n",
       "<text text-anchor=\"middle\" x=\"1208.5\" y=\"-188.3\" font-family=\"Times New Roman,serif\" font-size=\"14.00\">is_appartement, value&gt;0.5</text>\n",
       "</g>\n",
       "<!-- 8&#45;&gt;17 -->\n",
       "<g id=\"edge17\" class=\"edge\">\n",
       "<title>8&#45;&gt;17</title>\n",
       "<path fill=\"none\" stroke=\"black\" d=\"M1262.74,-260.8C1253.06,-248.7 1239.94,-232.3 1229.03,-218.67\"/>\n",
       "<polygon fill=\"black\" stroke=\"black\" points=\"1231.22,-216.8 1222.24,-211.18 1225.75,-221.17 1231.22,-216.8\"/>\n",
       "<text text-anchor=\"middle\" x=\"1256.5\" y=\"-231.8\" font-family=\"Times New Roman,serif\" font-size=\"14.00\">No</text>\n",
       "</g>\n",
       "<!-- 18 -->\n",
       "<g id=\"node19\" class=\"node\">\n",
       "<title>18</title>\n",
       "<ellipse fill=\"none\" stroke=\"black\" cx=\"1438.5\" cy=\"-192\" rx=\"105.88\" ry=\"18\"/>\n",
       "<text text-anchor=\"middle\" x=\"1438.5\" y=\"-188.3\" font-family=\"Times New Roman,serif\" font-size=\"14.00\">is_appartement, value&gt;0.5</text>\n",
       "</g>\n",
       "<!-- 8&#45;&gt;18 -->\n",
       "<g id=\"edge18\" class=\"edge\">\n",
       "<title>8&#45;&gt;18</title>\n",
       "<path fill=\"none\" stroke=\"black\" d=\"M1307.35,-261.81C1332.89,-248.41 1369.4,-229.26 1397.41,-214.56\"/>\n",
       "<polygon fill=\"black\" stroke=\"black\" points=\"1398.7,-217.31 1405.93,-209.56 1395.45,-211.11 1398.7,-217.31\"/>\n",
       "<text text-anchor=\"middle\" x=\"1378.5\" y=\"-231.8\" font-family=\"Times New Roman,serif\" font-size=\"14.00\">Yes</text>\n",
       "</g>\n",
       "<!-- 19 -->\n",
       "<g id=\"node20\" class=\"node\">\n",
       "<title>19</title>\n",
       "<ellipse fill=\"none\" stroke=\"black\" cx=\"2157.5\" cy=\"-192\" rx=\"105.88\" ry=\"18\"/>\n",
       "<text text-anchor=\"middle\" x=\"2157.5\" y=\"-188.3\" font-family=\"Times New Roman,serif\" font-size=\"14.00\">is_appartement, value&gt;0.5</text>\n",
       "</g>\n",
       "<!-- 9&#45;&gt;19 -->\n",
       "<g id=\"edge19\" class=\"edge\">\n",
       "<title>9&#45;&gt;19</title>\n",
       "<path fill=\"none\" stroke=\"black\" d=\"M2371.91,-263.1C2328.32,-248.84 2262.4,-227.29 2215.17,-211.85\"/>\n",
       "<polygon fill=\"black\" stroke=\"black\" points=\"2216.39,-208.24 2205.79,-208.46 2214.21,-214.9 2216.39,-208.24\"/>\n",
       "<text text-anchor=\"middle\" x=\"2312.5\" y=\"-231.8\" font-family=\"Times New Roman,serif\" font-size=\"14.00\">No</text>\n",
       "</g>\n",
       "<!-- 20 -->\n",
       "<g id=\"node21\" class=\"node\">\n",
       "<title>20</title>\n",
       "<ellipse fill=\"none\" stroke=\"black\" cx=\"2417.5\" cy=\"-192\" rx=\"105.88\" ry=\"18\"/>\n",
       "<text text-anchor=\"middle\" x=\"2417.5\" y=\"-188.3\" font-family=\"Times New Roman,serif\" font-size=\"14.00\">is_appartement, value&gt;0.5</text>\n",
       "</g>\n",
       "<!-- 9&#45;&gt;20 -->\n",
       "<g id=\"edge20\" class=\"edge\">\n",
       "<title>9&#45;&gt;20</title>\n",
       "<path fill=\"none\" stroke=\"black\" d=\"M2417.5,-260.8C2417.5,-249.47 2417.5,-234.36 2417.5,-221.29\"/>\n",
       "<polygon fill=\"black\" stroke=\"black\" points=\"2421,-221.47 2417.5,-211.47 2414,-221.47 2421,-221.47\"/>\n",
       "<text text-anchor=\"middle\" x=\"2428.5\" y=\"-231.8\" font-family=\"Times New Roman,serif\" font-size=\"14.00\">Yes</text>\n",
       "</g>\n",
       "<!-- 21 -->\n",
       "<g id=\"node22\" class=\"node\">\n",
       "<title>21</title>\n",
       "<ellipse fill=\"none\" stroke=\"black\" cx=\"3034.5\" cy=\"-192\" rx=\"105.88\" ry=\"18\"/>\n",
       "<text text-anchor=\"middle\" x=\"3034.5\" y=\"-188.3\" font-family=\"Times New Roman,serif\" font-size=\"14.00\">is_appartement, value&gt;0.5</text>\n",
       "</g>\n",
       "<!-- 10&#45;&gt;21 -->\n",
       "<g id=\"edge21\" class=\"edge\">\n",
       "<title>10&#45;&gt;21</title>\n",
       "<path fill=\"none\" stroke=\"black\" d=\"M3034.5,-260.8C3034.5,-249.47 3034.5,-234.36 3034.5,-221.29\"/>\n",
       "<polygon fill=\"black\" stroke=\"black\" points=\"3038,-221.47 3034.5,-211.47 3031,-221.47 3038,-221.47\"/>\n",
       "<text text-anchor=\"middle\" x=\"3043.5\" y=\"-231.8\" font-family=\"Times New Roman,serif\" font-size=\"14.00\">No</text>\n",
       "</g>\n",
       "<!-- 22 -->\n",
       "<g id=\"node23\" class=\"node\">\n",
       "<title>22</title>\n",
       "<ellipse fill=\"none\" stroke=\"black\" cx=\"3300.5\" cy=\"-192\" rx=\"105.88\" ry=\"18\"/>\n",
       "<text text-anchor=\"middle\" x=\"3300.5\" y=\"-188.3\" font-family=\"Times New Roman,serif\" font-size=\"14.00\">is_appartement, value&gt;0.5</text>\n",
       "</g>\n",
       "<!-- 10&#45;&gt;22 -->\n",
       "<g id=\"edge22\" class=\"edge\">\n",
       "<title>10&#45;&gt;22</title>\n",
       "<path fill=\"none\" stroke=\"black\" d=\"M3080.83,-263.19C3125.63,-248.88 3193.65,-227.15 3242.12,-211.66\"/>\n",
       "<polygon fill=\"black\" stroke=\"black\" points=\"3242.99,-214.73 3251.45,-208.35 3240.86,-208.06 3242.99,-214.73\"/>\n",
       "<text text-anchor=\"middle\" x=\"3194.5\" y=\"-231.8\" font-family=\"Times New Roman,serif\" font-size=\"14.00\">Yes</text>\n",
       "</g>\n",
       "<!-- 23 -->\n",
       "<g id=\"node24\" class=\"node\">\n",
       "<title>23</title>\n",
       "<ellipse fill=\"none\" stroke=\"black\" cx=\"4086.5\" cy=\"-192\" rx=\"105.88\" ry=\"18\"/>\n",
       "<text text-anchor=\"middle\" x=\"4086.5\" y=\"-188.3\" font-family=\"Times New Roman,serif\" font-size=\"14.00\">is_appartement, value&gt;0.5</text>\n",
       "</g>\n",
       "<!-- 11&#45;&gt;23 -->\n",
       "<g id=\"edge23\" class=\"edge\">\n",
       "<title>11&#45;&gt;23</title>\n",
       "<path fill=\"none\" stroke=\"black\" d=\"M4319.51,-263.48C4271.85,-249.07 4198.62,-226.92 4147,-211.3\"/>\n",
       "<polygon fill=\"black\" stroke=\"black\" points=\"4148.24,-207.72 4137.66,-208.17 4146.22,-214.42 4148.24,-207.72\"/>\n",
       "<text text-anchor=\"middle\" x=\"4253.5\" y=\"-231.8\" font-family=\"Times New Roman,serif\" font-size=\"14.00\">No</text>\n",
       "</g>\n",
       "<!-- 24 -->\n",
       "<g id=\"node25\" class=\"node\">\n",
       "<title>24</title>\n",
       "<ellipse fill=\"none\" stroke=\"black\" cx=\"4367.5\" cy=\"-192\" rx=\"105.88\" ry=\"18\"/>\n",
       "<text text-anchor=\"middle\" x=\"4367.5\" y=\"-188.3\" font-family=\"Times New Roman,serif\" font-size=\"14.00\">is_appartement, value&gt;0.5</text>\n",
       "</g>\n",
       "<!-- 11&#45;&gt;24 -->\n",
       "<g id=\"edge24\" class=\"edge\">\n",
       "<title>11&#45;&gt;24</title>\n",
       "<path fill=\"none\" stroke=\"black\" d=\"M4367.5,-260.8C4367.5,-249.47 4367.5,-234.36 4367.5,-221.29\"/>\n",
       "<polygon fill=\"black\" stroke=\"black\" points=\"4371,-221.47 4367.5,-211.47 4364,-221.47 4371,-221.47\"/>\n",
       "<text text-anchor=\"middle\" x=\"4378.5\" y=\"-231.8\" font-family=\"Times New Roman,serif\" font-size=\"14.00\">Yes</text>\n",
       "</g>\n",
       "<!-- 25 -->\n",
       "<g id=\"node26\" class=\"node\">\n",
       "<title>25</title>\n",
       "<ellipse fill=\"none\" stroke=\"black\" cx=\"4893.5\" cy=\"-192\" rx=\"105.88\" ry=\"18\"/>\n",
       "<text text-anchor=\"middle\" x=\"4893.5\" y=\"-188.3\" font-family=\"Times New Roman,serif\" font-size=\"14.00\">is_appartement, value&gt;0.5</text>\n",
       "</g>\n",
       "<!-- 12&#45;&gt;25 -->\n",
       "<g id=\"edge25\" class=\"edge\">\n",
       "<title>12&#45;&gt;25</title>\n",
       "<path fill=\"none\" stroke=\"black\" d=\"M4893.5,-260.8C4893.5,-249.47 4893.5,-234.36 4893.5,-221.29\"/>\n",
       "<polygon fill=\"black\" stroke=\"black\" points=\"4897,-221.47 4893.5,-211.47 4890,-221.47 4897,-221.47\"/>\n",
       "<text text-anchor=\"middle\" x=\"4902.5\" y=\"-231.8\" font-family=\"Times New Roman,serif\" font-size=\"14.00\">No</text>\n",
       "</g>\n",
       "<!-- 26 -->\n",
       "<g id=\"node27\" class=\"node\">\n",
       "<title>26</title>\n",
       "<ellipse fill=\"none\" stroke=\"black\" cx=\"5139.5\" cy=\"-192\" rx=\"105.88\" ry=\"18\"/>\n",
       "<text text-anchor=\"middle\" x=\"5139.5\" y=\"-188.3\" font-family=\"Times New Roman,serif\" font-size=\"14.00\">is_appartement, value&gt;0.5</text>\n",
       "</g>\n",
       "<!-- 12&#45;&gt;26 -->\n",
       "<g id=\"edge26\" class=\"edge\">\n",
       "<title>12&#45;&gt;26</title>\n",
       "<path fill=\"none\" stroke=\"black\" d=\"M4937.2,-262.9C4978.1,-248.77 5039.4,-227.59 5083.8,-212.25\"/>\n",
       "<polygon fill=\"black\" stroke=\"black\" points=\"5084.82,-215.25 5093.13,-208.68 5082.53,-208.63 5084.82,-215.25\"/>\n",
       "<text text-anchor=\"middle\" x=\"5042.5\" y=\"-231.8\" font-family=\"Times New Roman,serif\" font-size=\"14.00\">Yes</text>\n",
       "</g>\n",
       "<!-- 27 -->\n",
       "<g id=\"node28\" class=\"node\">\n",
       "<title>27</title>\n",
       "<ellipse fill=\"none\" stroke=\"black\" cx=\"5830.5\" cy=\"-192\" rx=\"105.88\" ry=\"18\"/>\n",
       "<text text-anchor=\"middle\" x=\"5830.5\" y=\"-188.3\" font-family=\"Times New Roman,serif\" font-size=\"14.00\">is_appartement, value&gt;0.5</text>\n",
       "</g>\n",
       "<!-- 13&#45;&gt;27 -->\n",
       "<g id=\"edge27\" class=\"edge\">\n",
       "<title>13&#45;&gt;27</title>\n",
       "<path fill=\"none\" stroke=\"black\" d=\"M5912.35,-261.21C5897.22,-248.6 5876.29,-231.16 5859.38,-217.07\"/>\n",
       "<polygon fill=\"black\" stroke=\"black\" points=\"5861.88,-213.76 5851.96,-210.05 5857.4,-219.14 5861.88,-213.76\"/>\n",
       "<text text-anchor=\"middle\" x=\"5897.5\" y=\"-231.8\" font-family=\"Times New Roman,serif\" font-size=\"14.00\">No</text>\n",
       "</g>\n",
       "<!-- 28 -->\n",
       "<g id=\"node29\" class=\"node\">\n",
       "<title>28</title>\n",
       "<ellipse fill=\"none\" stroke=\"black\" cx=\"6071.5\" cy=\"-192\" rx=\"105.88\" ry=\"18\"/>\n",
       "<text text-anchor=\"middle\" x=\"6071.5\" y=\"-188.3\" font-family=\"Times New Roman,serif\" font-size=\"14.00\">is_appartement, value&gt;0.5</text>\n",
       "</g>\n",
       "<!-- 13&#45;&gt;28 -->\n",
       "<g id=\"edge28\" class=\"edge\">\n",
       "<title>13&#45;&gt;28</title>\n",
       "<path fill=\"none\" stroke=\"black\" d=\"M5959.63,-261.41C5981.02,-248.33 6011.06,-229.96 6034.63,-215.55\"/>\n",
       "<polygon fill=\"black\" stroke=\"black\" points=\"6036.26,-218.04 6042.96,-209.84 6032.61,-212.07 6036.26,-218.04\"/>\n",
       "<text text-anchor=\"middle\" x=\"6021.5\" y=\"-231.8\" font-family=\"Times New Roman,serif\" font-size=\"14.00\">Yes</text>\n",
       "</g>\n",
       "<!-- 29 -->\n",
       "<g id=\"node30\" class=\"node\">\n",
       "<title>29</title>\n",
       "<ellipse fill=\"none\" stroke=\"black\" cx=\"6688.5\" cy=\"-192\" rx=\"105.88\" ry=\"18\"/>\n",
       "<text text-anchor=\"middle\" x=\"6688.5\" y=\"-188.3\" font-family=\"Times New Roman,serif\" font-size=\"14.00\">is_appartement, value&gt;0.5</text>\n",
       "</g>\n",
       "<!-- 14&#45;&gt;29 -->\n",
       "<g id=\"edge29\" class=\"edge\">\n",
       "<title>14&#45;&gt;29</title>\n",
       "<path fill=\"none\" stroke=\"black\" d=\"M6688.5,-260.8C6688.5,-249.47 6688.5,-234.36 6688.5,-221.29\"/>\n",
       "<polygon fill=\"black\" stroke=\"black\" points=\"6692,-221.47 6688.5,-211.47 6685,-221.47 6692,-221.47\"/>\n",
       "<text text-anchor=\"middle\" x=\"6697.5\" y=\"-231.8\" font-family=\"Times New Roman,serif\" font-size=\"14.00\">No</text>\n",
       "</g>\n",
       "<!-- 30 -->\n",
       "<g id=\"node31\" class=\"node\">\n",
       "<title>30</title>\n",
       "<ellipse fill=\"none\" stroke=\"black\" cx=\"7038.5\" cy=\"-192\" rx=\"105.88\" ry=\"18\"/>\n",
       "<text text-anchor=\"middle\" x=\"7038.5\" y=\"-188.3\" font-family=\"Times New Roman,serif\" font-size=\"14.00\">is_appartement, value&gt;0.5</text>\n",
       "</g>\n",
       "<!-- 14&#45;&gt;30 -->\n",
       "<g id=\"edge30\" class=\"edge\">\n",
       "<title>14&#45;&gt;30</title>\n",
       "<path fill=\"none\" stroke=\"black\" d=\"M6743.96,-264.53C6804.98,-249.71 6903.14,-225.87 6969.19,-209.83\"/>\n",
       "<polygon fill=\"black\" stroke=\"black\" points=\"6969.61,-213.09 6978.5,-207.33 6967.96,-206.29 6969.61,-213.09\"/>\n",
       "<text text-anchor=\"middle\" x=\"6895.5\" y=\"-231.8\" font-family=\"Times New Roman,serif\" font-size=\"14.00\">Yes</text>\n",
       "</g>\n",
       "<!-- 31 -->\n",
       "<g id=\"node32\" class=\"node\">\n",
       "<title>31</title>\n",
       "<ellipse fill=\"none\" stroke=\"black\" cx=\"165.5\" cy=\"-105\" rx=\"75.29\" ry=\"18\"/>\n",
       "<text text-anchor=\"middle\" x=\"165.5\" y=\"-101.3\" font-family=\"Times New Roman,serif\" font-size=\"14.00\">is_rent, value&gt;0.5</text>\n",
       "</g>\n",
       "<!-- 15&#45;&gt;31 -->\n",
       "<g id=\"edge31\" class=\"edge\">\n",
       "<title>15&#45;&gt;31</title>\n",
       "<path fill=\"none\" stroke=\"black\" d=\"M332.27,-174.81C298.02,-160.68 248.25,-140.15 212.01,-125.19\"/>\n",
       "<polygon fill=\"black\" stroke=\"black\" points=\"213.74,-121.71 203.16,-121.13 211.07,-128.18 213.74,-121.71\"/>\n",
       "<text text-anchor=\"middle\" x=\"290.5\" y=\"-144.8\" font-family=\"Times New Roman,serif\" font-size=\"14.00\">No</text>\n",
       "</g>\n",
       "<!-- 32 -->\n",
       "<g id=\"node33\" class=\"node\">\n",
       "<title>32</title>\n",
       "<ellipse fill=\"none\" stroke=\"black\" cx=\"371.5\" cy=\"-105\" rx=\"75.29\" ry=\"18\"/>\n",
       "<text text-anchor=\"middle\" x=\"371.5\" y=\"-101.3\" font-family=\"Times New Roman,serif\" font-size=\"14.00\">is_rent, value&gt;0.5</text>\n",
       "</g>\n",
       "<!-- 15&#45;&gt;32 -->\n",
       "<g id=\"edge32\" class=\"edge\">\n",
       "<title>15&#45;&gt;32</title>\n",
       "<path fill=\"none\" stroke=\"black\" d=\"M371.5,-173.8C371.5,-162.47 371.5,-147.36 371.5,-134.29\"/>\n",
       "<polygon fill=\"black\" stroke=\"black\" points=\"375,-134.47 371.5,-124.47 368,-134.47 375,-134.47\"/>\n",
       "<text text-anchor=\"middle\" x=\"382.5\" y=\"-144.8\" font-family=\"Times New Roman,serif\" font-size=\"14.00\">Yes</text>\n",
       "</g>\n",
       "<!-- 33 -->\n",
       "<g id=\"node34\" class=\"node\">\n",
       "<title>33</title>\n",
       "<ellipse fill=\"none\" stroke=\"black\" cx=\"582.5\" cy=\"-105\" rx=\"75.29\" ry=\"18\"/>\n",
       "<text text-anchor=\"middle\" x=\"582.5\" y=\"-101.3\" font-family=\"Times New Roman,serif\" font-size=\"14.00\">is_rent, value&gt;0.5</text>\n",
       "</g>\n",
       "<!-- 16&#45;&gt;33 -->\n",
       "<g id=\"edge33\" class=\"edge\">\n",
       "<title>16&#45;&gt;33</title>\n",
       "<path fill=\"none\" stroke=\"black\" d=\"M624.77,-173.8C617.38,-161.93 607.4,-145.93 598.99,-132.45\"/>\n",
       "<polygon fill=\"black\" stroke=\"black\" points=\"601.47,-130.81 593.21,-124.18 595.53,-134.51 601.47,-130.81\"/>\n",
       "<text text-anchor=\"middle\" x=\"621.5\" y=\"-144.8\" font-family=\"Times New Roman,serif\" font-size=\"14.00\">No</text>\n",
       "</g>\n",
       "<!-- 34 -->\n",
       "<g id=\"node35\" class=\"node\">\n",
       "<title>34</title>\n",
       "<ellipse fill=\"none\" stroke=\"black\" cx=\"751.5\" cy=\"-105\" rx=\"75.29\" ry=\"18\"/>\n",
       "<text text-anchor=\"middle\" x=\"751.5\" y=\"-101.3\" font-family=\"Times New Roman,serif\" font-size=\"14.00\">is_rent, value&gt;0.5</text>\n",
       "</g>\n",
       "<!-- 16&#45;&gt;34 -->\n",
       "<g id=\"edge34\" class=\"edge\">\n",
       "<title>16&#45;&gt;34</title>\n",
       "<path fill=\"none\" stroke=\"black\" d=\"M658.7,-174C676.39,-161.04 700.94,-143.05 720.35,-128.83\"/>\n",
       "<polygon fill=\"black\" stroke=\"black\" points=\"722.14,-131.12 728.13,-122.39 718,-125.48 722.14,-131.12\"/>\n",
       "<text text-anchor=\"middle\" x=\"711.5\" y=\"-144.8\" font-family=\"Times New Roman,serif\" font-size=\"14.00\">Yes</text>\n",
       "</g>\n",
       "<!-- 35 -->\n",
       "<g id=\"node36\" class=\"node\">\n",
       "<title>35</title>\n",
       "<ellipse fill=\"none\" stroke=\"black\" cx=\"1046.5\" cy=\"-105\" rx=\"75.29\" ry=\"18\"/>\n",
       "<text text-anchor=\"middle\" x=\"1046.5\" y=\"-101.3\" font-family=\"Times New Roman,serif\" font-size=\"14.00\">is_rent, value&gt;0.5</text>\n",
       "</g>\n",
       "<!-- 17&#45;&gt;35 -->\n",
       "<g id=\"edge35\" class=\"edge\">\n",
       "<title>17&#45;&gt;35</title>\n",
       "<path fill=\"none\" stroke=\"black\" d=\"M1176.88,-174.41C1150.93,-160.8 1114.06,-141.45 1086.14,-126.8\"/>\n",
       "<polygon fill=\"black\" stroke=\"black\" points=\"1088.15,-123.38 1077.67,-121.83 1084.9,-129.58 1088.15,-123.38\"/>\n",
       "<text text-anchor=\"middle\" x=\"1146.5\" y=\"-144.8\" font-family=\"Times New Roman,serif\" font-size=\"14.00\">No</text>\n",
       "</g>\n",
       "<!-- 36 -->\n",
       "<g id=\"node37\" class=\"node\">\n",
       "<title>36</title>\n",
       "<ellipse fill=\"none\" stroke=\"black\" cx=\"1215.5\" cy=\"-105\" rx=\"75.29\" ry=\"18\"/>\n",
       "<text text-anchor=\"middle\" x=\"1215.5\" y=\"-101.3\" font-family=\"Times New Roman,serif\" font-size=\"14.00\">is_rent, value&gt;0.5</text>\n",
       "</g>\n",
       "<!-- 17&#45;&gt;36 -->\n",
       "<g id=\"edge36\" class=\"edge\">\n",
       "<title>17&#45;&gt;36</title>\n",
       "<path fill=\"none\" stroke=\"black\" d=\"M1209.92,-173.8C1210.85,-162.47 1212.09,-147.36 1213.17,-134.29\"/>\n",
       "<polygon fill=\"black\" stroke=\"black\" points=\"1216.73,-134.72 1214.06,-124.47 1209.75,-134.15 1216.73,-134.72\"/>\n",
       "<text text-anchor=\"middle\" x=\"1223.5\" y=\"-144.8\" font-family=\"Times New Roman,serif\" font-size=\"14.00\">Yes</text>\n",
       "</g>\n",
       "<!-- 37 -->\n",
       "<g id=\"node38\" class=\"node\">\n",
       "<title>37</title>\n",
       "<ellipse fill=\"none\" stroke=\"black\" cx=\"1427.5\" cy=\"-105\" rx=\"75.29\" ry=\"18\"/>\n",
       "<text text-anchor=\"middle\" x=\"1427.5\" y=\"-101.3\" font-family=\"Times New Roman,serif\" font-size=\"14.00\">is_rent, value&gt;0.5</text>\n",
       "</g>\n",
       "<!-- 18&#45;&gt;37 -->\n",
       "<g id=\"edge37\" class=\"edge\">\n",
       "<title>18&#45;&gt;37</title>\n",
       "<path fill=\"none\" stroke=\"black\" d=\"M1436.27,-173.8C1434.81,-162.47 1432.85,-147.36 1431.16,-134.29\"/>\n",
       "<polygon fill=\"black\" stroke=\"black\" points=\"1434.52,-133.94 1429.76,-124.47 1427.57,-134.83 1434.52,-133.94\"/>\n",
       "<text text-anchor=\"middle\" x=\"1443.5\" y=\"-144.8\" font-family=\"Times New Roman,serif\" font-size=\"14.00\">No</text>\n",
       "</g>\n",
       "<!-- 38 -->\n",
       "<g id=\"node39\" class=\"node\">\n",
       "<title>38</title>\n",
       "<ellipse fill=\"none\" stroke=\"black\" cx=\"1596.5\" cy=\"-105\" rx=\"75.29\" ry=\"18\"/>\n",
       "<text text-anchor=\"middle\" x=\"1596.5\" y=\"-101.3\" font-family=\"Times New Roman,serif\" font-size=\"14.00\">is_rent, value&gt;0.5</text>\n",
       "</g>\n",
       "<!-- 18&#45;&gt;38 -->\n",
       "<g id=\"edge38\" class=\"edge\">\n",
       "<title>18&#45;&gt;38</title>\n",
       "<path fill=\"none\" stroke=\"black\" d=\"M1469.34,-174.41C1494.45,-160.9 1530.07,-141.74 1557.22,-127.13\"/>\n",
       "<polygon fill=\"black\" stroke=\"black\" points=\"1558.66,-129.79 1565.81,-121.97 1555.34,-123.63 1558.66,-129.79\"/>\n",
       "<text text-anchor=\"middle\" x=\"1538.5\" y=\"-144.8\" font-family=\"Times New Roman,serif\" font-size=\"14.00\">Yes</text>\n",
       "</g>\n",
       "<!-- 39 -->\n",
       "<g id=\"node40\" class=\"node\">\n",
       "<title>39</title>\n",
       "<ellipse fill=\"none\" stroke=\"black\" cx=\"1924.5\" cy=\"-105\" rx=\"75.29\" ry=\"18\"/>\n",
       "<text text-anchor=\"middle\" x=\"1924.5\" y=\"-101.3\" font-family=\"Times New Roman,serif\" font-size=\"14.00\">is_rent, value&gt;0.5</text>\n",
       "</g>\n",
       "<!-- 19&#45;&gt;39 -->\n",
       "<g id=\"edge39\" class=\"edge\">\n",
       "<title>19&#45;&gt;39</title>\n",
       "<path fill=\"none\" stroke=\"black\" d=\"M2114.22,-175.21C2074.67,-160.78 2016.18,-139.45 1974.62,-124.28\"/>\n",
       "<polygon fill=\"black\" stroke=\"black\" points=\"1976.03,-120.71 1965.44,-120.57 1973.63,-127.28 1976.03,-120.71\"/>\n",
       "<text text-anchor=\"middle\" x=\"2064.5\" y=\"-144.8\" font-family=\"Times New Roman,serif\" font-size=\"14.00\">No</text>\n",
       "</g>\n",
       "<!-- 40 -->\n",
       "<g id=\"node41\" class=\"node\">\n",
       "<title>40</title>\n",
       "<ellipse fill=\"none\" stroke=\"black\" cx=\"2157.5\" cy=\"-105\" rx=\"75.29\" ry=\"18\"/>\n",
       "<text text-anchor=\"middle\" x=\"2157.5\" y=\"-101.3\" font-family=\"Times New Roman,serif\" font-size=\"14.00\">is_rent, value&gt;0.5</text>\n",
       "</g>\n",
       "<!-- 19&#45;&gt;40 -->\n",
       "<g id=\"edge40\" class=\"edge\">\n",
       "<title>19&#45;&gt;40</title>\n",
       "<path fill=\"none\" stroke=\"black\" d=\"M2157.5,-173.8C2157.5,-162.47 2157.5,-147.36 2157.5,-134.29\"/>\n",
       "<polygon fill=\"black\" stroke=\"black\" points=\"2161,-134.47 2157.5,-124.47 2154,-134.47 2161,-134.47\"/>\n",
       "<text text-anchor=\"middle\" x=\"2168.5\" y=\"-144.8\" font-family=\"Times New Roman,serif\" font-size=\"14.00\">Yes</text>\n",
       "</g>\n",
       "<!-- 41 -->\n",
       "<g id=\"node42\" class=\"node\">\n",
       "<title>41</title>\n",
       "<ellipse fill=\"none\" stroke=\"black\" cx=\"2384.5\" cy=\"-105\" rx=\"75.29\" ry=\"18\"/>\n",
       "<text text-anchor=\"middle\" x=\"2384.5\" y=\"-101.3\" font-family=\"Times New Roman,serif\" font-size=\"14.00\">is_rent, value&gt;0.5</text>\n",
       "</g>\n",
       "<!-- 20&#45;&gt;41 -->\n",
       "<g id=\"edge41\" class=\"edge\">\n",
       "<title>20&#45;&gt;41</title>\n",
       "<path fill=\"none\" stroke=\"black\" d=\"M2410.82,-173.8C2406.3,-162.16 2400.24,-146.55 2395.07,-133.24\"/>\n",
       "<polygon fill=\"black\" stroke=\"black\" points=\"2398.05,-132.23 2391.17,-124.18 2391.52,-134.76 2398.05,-132.23\"/>\n",
       "<text text-anchor=\"middle\" x=\"2412.5\" y=\"-144.8\" font-family=\"Times New Roman,serif\" font-size=\"14.00\">No</text>\n",
       "</g>\n",
       "<!-- 42 -->\n",
       "<g id=\"node43\" class=\"node\">\n",
       "<title>42</title>\n",
       "<ellipse fill=\"none\" stroke=\"black\" cx=\"2553.5\" cy=\"-105\" rx=\"75.29\" ry=\"18\"/>\n",
       "<text text-anchor=\"middle\" x=\"2553.5\" y=\"-101.3\" font-family=\"Times New Roman,serif\" font-size=\"14.00\">is_rent, value&gt;0.5</text>\n",
       "</g>\n",
       "<!-- 20&#45;&gt;42 -->\n",
       "<g id=\"edge42\" class=\"edge\">\n",
       "<title>20&#45;&gt;42</title>\n",
       "<path fill=\"none\" stroke=\"black\" d=\"M2444.37,-174.21C2465.6,-160.94 2495.39,-142.32 2518.48,-127.88\"/>\n",
       "<polygon fill=\"black\" stroke=\"black\" points=\"2519.98,-130.45 2526.61,-122.18 2516.27,-124.51 2519.98,-130.45\"/>\n",
       "<text text-anchor=\"middle\" x=\"2505.5\" y=\"-144.8\" font-family=\"Times New Roman,serif\" font-size=\"14.00\">Yes</text>\n",
       "</g>\n",
       "<!-- 43 -->\n",
       "<g id=\"node44\" class=\"node\">\n",
       "<title>43</title>\n",
       "<ellipse fill=\"none\" stroke=\"black\" cx=\"2897.5\" cy=\"-105\" rx=\"75.29\" ry=\"18\"/>\n",
       "<text text-anchor=\"middle\" x=\"2897.5\" y=\"-101.3\" font-family=\"Times New Roman,serif\" font-size=\"14.00\">is_rent, value&gt;0.5</text>\n",
       "</g>\n",
       "<!-- 21&#45;&gt;43 -->\n",
       "<g id=\"edge43\" class=\"edge\">\n",
       "<title>21&#45;&gt;43</title>\n",
       "<path fill=\"none\" stroke=\"black\" d=\"M3007.43,-174.21C2986.05,-160.94 2956.04,-142.32 2932.77,-127.88\"/>\n",
       "<polygon fill=\"black\" stroke=\"black\" points=\"2934.92,-124.48 2924.58,-122.18 2931.23,-130.43 2934.92,-124.48\"/>\n",
       "<text text-anchor=\"middle\" x=\"2983.5\" y=\"-144.8\" font-family=\"Times New Roman,serif\" font-size=\"14.00\">No</text>\n",
       "</g>\n",
       "<!-- 44 -->\n",
       "<g id=\"node45\" class=\"node\">\n",
       "<title>44</title>\n",
       "<ellipse fill=\"none\" stroke=\"black\" cx=\"3066.5\" cy=\"-105\" rx=\"75.29\" ry=\"18\"/>\n",
       "<text text-anchor=\"middle\" x=\"3066.5\" y=\"-101.3\" font-family=\"Times New Roman,serif\" font-size=\"14.00\">is_rent, value&gt;0.5</text>\n",
       "</g>\n",
       "<!-- 21&#45;&gt;44 -->\n",
       "<g id=\"edge44\" class=\"edge\">\n",
       "<title>21&#45;&gt;44</title>\n",
       "<path fill=\"none\" stroke=\"black\" d=\"M3040.98,-173.8C3045.36,-162.16 3051.23,-146.55 3056.25,-133.24\"/>\n",
       "<polygon fill=\"black\" stroke=\"black\" points=\"3059.79,-134.77 3060.03,-124.18 3053.24,-132.3 3059.79,-134.77\"/>\n",
       "<text text-anchor=\"middle\" x=\"3063.5\" y=\"-144.8\" font-family=\"Times New Roman,serif\" font-size=\"14.00\">Yes</text>\n",
       "</g>\n",
       "<!-- 45 -->\n",
       "<g id=\"node46\" class=\"node\">\n",
       "<title>45</title>\n",
       "<ellipse fill=\"none\" stroke=\"black\" cx=\"3300.5\" cy=\"-105\" rx=\"75.29\" ry=\"18\"/>\n",
       "<text text-anchor=\"middle\" x=\"3300.5\" y=\"-101.3\" font-family=\"Times New Roman,serif\" font-size=\"14.00\">is_rent, value&gt;0.5</text>\n",
       "</g>\n",
       "<!-- 22&#45;&gt;45 -->\n",
       "<g id=\"edge45\" class=\"edge\">\n",
       "<title>22&#45;&gt;45</title>\n",
       "<path fill=\"none\" stroke=\"black\" d=\"M3300.5,-173.8C3300.5,-162.47 3300.5,-147.36 3300.5,-134.29\"/>\n",
       "<polygon fill=\"black\" stroke=\"black\" points=\"3304,-134.47 3300.5,-124.47 3297,-134.47 3304,-134.47\"/>\n",
       "<text text-anchor=\"middle\" x=\"3309.5\" y=\"-144.8\" font-family=\"Times New Roman,serif\" font-size=\"14.00\">No</text>\n",
       "</g>\n",
       "<!-- 46 -->\n",
       "<g id=\"node47\" class=\"node\">\n",
       "<title>46</title>\n",
       "<ellipse fill=\"none\" stroke=\"black\" cx=\"3523.5\" cy=\"-105\" rx=\"75.29\" ry=\"18\"/>\n",
       "<text text-anchor=\"middle\" x=\"3523.5\" y=\"-101.3\" font-family=\"Times New Roman,serif\" font-size=\"14.00\">is_rent, value&gt;0.5</text>\n",
       "</g>\n",
       "<!-- 22&#45;&gt;46 -->\n",
       "<g id=\"edge46\" class=\"edge\">\n",
       "<title>22&#45;&gt;46</title>\n",
       "<path fill=\"none\" stroke=\"black\" d=\"M3342.44,-175.01C3379.97,-160.71 3434.99,-139.74 3474.53,-124.67\"/>\n",
       "<polygon fill=\"black\" stroke=\"black\" points=\"3475.63,-127.61 3483.73,-120.78 3473.14,-121.07 3475.63,-127.61\"/>\n",
       "<text text-anchor=\"middle\" x=\"3436.5\" y=\"-144.8\" font-family=\"Times New Roman,serif\" font-size=\"14.00\">Yes</text>\n",
       "</g>\n",
       "<!-- 47 -->\n",
       "<g id=\"node48\" class=\"node\">\n",
       "<title>47</title>\n",
       "<ellipse fill=\"none\" stroke=\"black\" cx=\"3897.5\" cy=\"-105\" rx=\"75.29\" ry=\"18\"/>\n",
       "<text text-anchor=\"middle\" x=\"3897.5\" y=\"-101.3\" font-family=\"Times New Roman,serif\" font-size=\"14.00\">is_rent, value&gt;0.5</text>\n",
       "</g>\n",
       "<!-- 23&#45;&gt;47 -->\n",
       "<g id=\"edge47\" class=\"edge\">\n",
       "<title>23&#45;&gt;47</title>\n",
       "<path fill=\"none\" stroke=\"black\" d=\"M4050.51,-174.81C4019.54,-160.89 3974.77,-140.75 3941.64,-125.85\"/>\n",
       "<polygon fill=\"black\" stroke=\"black\" points=\"3943.32,-122.32 3932.77,-121.41 3940.45,-128.71 3943.32,-122.32\"/>\n",
       "<text text-anchor=\"middle\" x=\"4012.5\" y=\"-144.8\" font-family=\"Times New Roman,serif\" font-size=\"14.00\">No</text>\n",
       "</g>\n",
       "<!-- 48 -->\n",
       "<g id=\"node49\" class=\"node\">\n",
       "<title>48</title>\n",
       "<ellipse fill=\"none\" stroke=\"black\" cx=\"4086.5\" cy=\"-105\" rx=\"75.29\" ry=\"18\"/>\n",
       "<text text-anchor=\"middle\" x=\"4086.5\" y=\"-101.3\" font-family=\"Times New Roman,serif\" font-size=\"14.00\">is_rent, value&gt;0.5</text>\n",
       "</g>\n",
       "<!-- 23&#45;&gt;48 -->\n",
       "<g id=\"edge48\" class=\"edge\">\n",
       "<title>23&#45;&gt;48</title>\n",
       "<path fill=\"none\" stroke=\"black\" d=\"M4086.5,-173.8C4086.5,-162.47 4086.5,-147.36 4086.5,-134.29\"/>\n",
       "<polygon fill=\"black\" stroke=\"black\" points=\"4090,-134.47 4086.5,-124.47 4083,-134.47 4090,-134.47\"/>\n",
       "<text text-anchor=\"middle\" x=\"4097.5\" y=\"-144.8\" font-family=\"Times New Roman,serif\" font-size=\"14.00\">Yes</text>\n",
       "</g>\n",
       "<!-- 49 -->\n",
       "<g id=\"node50\" class=\"node\">\n",
       "<title>49</title>\n",
       "<ellipse fill=\"none\" stroke=\"black\" cx=\"4312.5\" cy=\"-105\" rx=\"75.29\" ry=\"18\"/>\n",
       "<text text-anchor=\"middle\" x=\"4312.5\" y=\"-101.3\" font-family=\"Times New Roman,serif\" font-size=\"14.00\">is_rent, value&gt;0.5</text>\n",
       "</g>\n",
       "<!-- 24&#45;&gt;49 -->\n",
       "<g id=\"edge49\" class=\"edge\">\n",
       "<title>24&#45;&gt;49</title>\n",
       "<path fill=\"none\" stroke=\"black\" d=\"M4356.37,-173.8C4348.62,-161.82 4338.13,-145.62 4329.36,-132.06\"/>\n",
       "<polygon fill=\"black\" stroke=\"black\" points=\"4331.98,-130.67 4323.61,-124.18 4326.11,-134.47 4331.98,-130.67\"/>\n",
       "<text text-anchor=\"middle\" x=\"4352.5\" y=\"-144.8\" font-family=\"Times New Roman,serif\" font-size=\"14.00\">No</text>\n",
       "</g>\n",
       "<!-- 50 -->\n",
       "<g id=\"node51\" class=\"node\">\n",
       "<title>50</title>\n",
       "<ellipse fill=\"none\" stroke=\"black\" cx=\"4481.5\" cy=\"-105\" rx=\"75.29\" ry=\"18\"/>\n",
       "<text text-anchor=\"middle\" x=\"4481.5\" y=\"-101.3\" font-family=\"Times New Roman,serif\" font-size=\"14.00\">is_rent, value&gt;0.5</text>\n",
       "</g>\n",
       "<!-- 24&#45;&gt;50 -->\n",
       "<g id=\"edge50\" class=\"edge\">\n",
       "<title>24&#45;&gt;50</title>\n",
       "<path fill=\"none\" stroke=\"black\" d=\"M4390.3,-174C4407.68,-161.04 4431.81,-143.05 4450.88,-128.83\"/>\n",
       "<polygon fill=\"black\" stroke=\"black\" points=\"4452.59,-131.17 4458.52,-122.39 4448.41,-125.56 4452.59,-131.17\"/>\n",
       "<text text-anchor=\"middle\" x=\"4442.5\" y=\"-144.8\" font-family=\"Times New Roman,serif\" font-size=\"14.00\">Yes</text>\n",
       "</g>\n",
       "<!-- 51 -->\n",
       "<g id=\"node52\" class=\"node\">\n",
       "<title>51</title>\n",
       "<ellipse fill=\"none\" stroke=\"black\" cx=\"4772.5\" cy=\"-105\" rx=\"75.29\" ry=\"18\"/>\n",
       "<text text-anchor=\"middle\" x=\"4772.5\" y=\"-101.3\" font-family=\"Times New Roman,serif\" font-size=\"14.00\">is_rent, value&gt;0.5</text>\n",
       "</g>\n",
       "<!-- 25&#45;&gt;51 -->\n",
       "<g id=\"edge51\" class=\"edge\">\n",
       "<title>25&#45;&gt;51</title>\n",
       "<path fill=\"none\" stroke=\"black\" d=\"M4869.3,-174C4850.76,-160.98 4825.01,-142.88 4804.72,-128.63\"/>\n",
       "<polygon fill=\"black\" stroke=\"black\" points=\"4807.03,-125.27 4796.83,-122.39 4803,-131 4807.03,-125.27\"/>\n",
       "<text text-anchor=\"middle\" x=\"4849.5\" y=\"-144.8\" font-family=\"Times New Roman,serif\" font-size=\"14.00\">No</text>\n",
       "</g>\n",
       "<!-- 52 -->\n",
       "<g id=\"node53\" class=\"node\">\n",
       "<title>52</title>\n",
       "<ellipse fill=\"none\" stroke=\"black\" cx=\"4941.5\" cy=\"-105\" rx=\"75.29\" ry=\"18\"/>\n",
       "<text text-anchor=\"middle\" x=\"4941.5\" y=\"-101.3\" font-family=\"Times New Roman,serif\" font-size=\"14.00\">is_rent, value&gt;0.5</text>\n",
       "</g>\n",
       "<!-- 25&#45;&gt;52 -->\n",
       "<g id=\"edge52\" class=\"edge\">\n",
       "<title>25&#45;&gt;52</title>\n",
       "<path fill=\"none\" stroke=\"black\" d=\"M4903.21,-173.8C4909.91,-161.93 4918.95,-145.93 4926.56,-132.45\"/>\n",
       "<polygon fill=\"black\" stroke=\"black\" points=\"4929.93,-134.6 4931.8,-124.18 4923.84,-131.16 4929.93,-134.6\"/>\n",
       "<text text-anchor=\"middle\" x=\"4931.5\" y=\"-144.8\" font-family=\"Times New Roman,serif\" font-size=\"14.00\">Yes</text>\n",
       "</g>\n",
       "<!-- 53 -->\n",
       "<g id=\"node54\" class=\"node\">\n",
       "<title>53</title>\n",
       "<ellipse fill=\"none\" stroke=\"black\" cx=\"5139.5\" cy=\"-105\" rx=\"75.29\" ry=\"18\"/>\n",
       "<text text-anchor=\"middle\" x=\"5139.5\" y=\"-101.3\" font-family=\"Times New Roman,serif\" font-size=\"14.00\">is_rent, value&gt;0.5</text>\n",
       "</g>\n",
       "<!-- 26&#45;&gt;53 -->\n",
       "<g id=\"edge53\" class=\"edge\">\n",
       "<title>26&#45;&gt;53</title>\n",
       "<path fill=\"none\" stroke=\"black\" d=\"M5139.5,-173.8C5139.5,-162.47 5139.5,-147.36 5139.5,-134.29\"/>\n",
       "<polygon fill=\"black\" stroke=\"black\" points=\"5143,-134.47 5139.5,-124.47 5136,-134.47 5143,-134.47\"/>\n",
       "<text text-anchor=\"middle\" x=\"5148.5\" y=\"-144.8\" font-family=\"Times New Roman,serif\" font-size=\"14.00\">No</text>\n",
       "</g>\n",
       "<!-- 54 -->\n",
       "<g id=\"node55\" class=\"node\">\n",
       "<title>54</title>\n",
       "<ellipse fill=\"none\" stroke=\"black\" cx=\"5316.5\" cy=\"-105\" rx=\"75.29\" ry=\"18\"/>\n",
       "<text text-anchor=\"middle\" x=\"5316.5\" y=\"-101.3\" font-family=\"Times New Roman,serif\" font-size=\"14.00\">is_rent, value&gt;0.5</text>\n",
       "</g>\n",
       "<!-- 26&#45;&gt;54 -->\n",
       "<g id=\"edge54\" class=\"edge\">\n",
       "<title>26&#45;&gt;54</title>\n",
       "<path fill=\"none\" stroke=\"black\" d=\"M5173.63,-174.61C5202.36,-160.81 5243.58,-141.02 5274.37,-126.23\"/>\n",
       "<polygon fill=\"black\" stroke=\"black\" points=\"5275.47,-129.11 5282.97,-121.62 5272.44,-122.8 5275.47,-129.11\"/>\n",
       "<text text-anchor=\"middle\" x=\"5250.5\" y=\"-144.8\" font-family=\"Times New Roman,serif\" font-size=\"14.00\">Yes</text>\n",
       "</g>\n",
       "<!-- 55 -->\n",
       "<g id=\"node56\" class=\"node\">\n",
       "<title>55</title>\n",
       "<ellipse fill=\"none\" stroke=\"black\" cx=\"5651.5\" cy=\"-105\" rx=\"75.29\" ry=\"18\"/>\n",
       "<text text-anchor=\"middle\" x=\"5651.5\" y=\"-101.3\" font-family=\"Times New Roman,serif\" font-size=\"14.00\">is_rent, value&gt;0.5</text>\n",
       "</g>\n",
       "<!-- 27&#45;&gt;55 -->\n",
       "<g id=\"edge55\" class=\"edge\">\n",
       "<title>27&#45;&gt;55</title>\n",
       "<path fill=\"none\" stroke=\"black\" d=\"M5795.99,-174.61C5766.93,-160.81 5725.24,-141.02 5694.11,-126.23\"/>\n",
       "<polygon fill=\"black\" stroke=\"black\" points=\"5695.93,-122.75 5685.4,-121.62 5692.93,-129.07 5695.93,-122.75\"/>\n",
       "<text text-anchor=\"middle\" x=\"5761.5\" y=\"-144.8\" font-family=\"Times New Roman,serif\" font-size=\"14.00\">No</text>\n",
       "</g>\n",
       "<!-- 56 -->\n",
       "<g id=\"node57\" class=\"node\">\n",
       "<title>56</title>\n",
       "<ellipse fill=\"none\" stroke=\"black\" cx=\"5830.5\" cy=\"-105\" rx=\"75.29\" ry=\"18\"/>\n",
       "<text text-anchor=\"middle\" x=\"5830.5\" y=\"-101.3\" font-family=\"Times New Roman,serif\" font-size=\"14.00\">is_rent, value&gt;0.5</text>\n",
       "</g>\n",
       "<!-- 27&#45;&gt;56 -->\n",
       "<g id=\"edge56\" class=\"edge\">\n",
       "<title>27&#45;&gt;56</title>\n",
       "<path fill=\"none\" stroke=\"black\" d=\"M5830.5,-173.8C5830.5,-162.47 5830.5,-147.36 5830.5,-134.29\"/>\n",
       "<polygon fill=\"black\" stroke=\"black\" points=\"5834,-134.47 5830.5,-124.47 5827,-134.47 5834,-134.47\"/>\n",
       "<text text-anchor=\"middle\" x=\"5841.5\" y=\"-144.8\" font-family=\"Times New Roman,serif\" font-size=\"14.00\">Yes</text>\n",
       "</g>\n",
       "<!-- 57 -->\n",
       "<g id=\"node58\" class=\"node\">\n",
       "<title>57</title>\n",
       "<ellipse fill=\"none\" stroke=\"black\" cx=\"6071.5\" cy=\"-105\" rx=\"75.29\" ry=\"18\"/>\n",
       "<text text-anchor=\"middle\" x=\"6071.5\" y=\"-101.3\" font-family=\"Times New Roman,serif\" font-size=\"14.00\">is_rent, value&gt;0.5</text>\n",
       "</g>\n",
       "<!-- 28&#45;&gt;57 -->\n",
       "<g id=\"edge57\" class=\"edge\">\n",
       "<title>28&#45;&gt;57</title>\n",
       "<path fill=\"none\" stroke=\"black\" d=\"M6071.5,-173.8C6071.5,-162.47 6071.5,-147.36 6071.5,-134.29\"/>\n",
       "<polygon fill=\"black\" stroke=\"black\" points=\"6075,-134.47 6071.5,-124.47 6068,-134.47 6075,-134.47\"/>\n",
       "<text text-anchor=\"middle\" x=\"6080.5\" y=\"-144.8\" font-family=\"Times New Roman,serif\" font-size=\"14.00\">No</text>\n",
       "</g>\n",
       "<!-- 58 -->\n",
       "<g id=\"node59\" class=\"node\">\n",
       "<title>58</title>\n",
       "<ellipse fill=\"none\" stroke=\"black\" cx=\"6260.5\" cy=\"-105\" rx=\"75.29\" ry=\"18\"/>\n",
       "<text text-anchor=\"middle\" x=\"6260.5\" y=\"-101.3\" font-family=\"Times New Roman,serif\" font-size=\"14.00\">is_rent, value&gt;0.5</text>\n",
       "</g>\n",
       "<!-- 28&#45;&gt;58 -->\n",
       "<g id=\"edge58\" class=\"edge\">\n",
       "<title>28&#45;&gt;58</title>\n",
       "<path fill=\"none\" stroke=\"black\" d=\"M6107.49,-174.81C6138.46,-160.89 6183.23,-140.75 6216.36,-125.85\"/>\n",
       "<polygon fill=\"black\" stroke=\"black\" points=\"6217.55,-128.71 6225.23,-121.41 6214.68,-122.32 6217.55,-128.71\"/>\n",
       "<text text-anchor=\"middle\" x=\"6188.5\" y=\"-144.8\" font-family=\"Times New Roman,serif\" font-size=\"14.00\">Yes</text>\n",
       "</g>\n",
       "<!-- 59 -->\n",
       "<g id=\"node60\" class=\"node\">\n",
       "<title>59</title>\n",
       "<ellipse fill=\"none\" stroke=\"black\" cx=\"6610.5\" cy=\"-105\" rx=\"75.29\" ry=\"18\"/>\n",
       "<text text-anchor=\"middle\" x=\"6610.5\" y=\"-101.3\" font-family=\"Times New Roman,serif\" font-size=\"14.00\">is_rent, value&gt;0.5</text>\n",
       "</g>\n",
       "<!-- 29&#45;&gt;59 -->\n",
       "<g id=\"edge59\" class=\"edge\">\n",
       "<title>29&#45;&gt;59</title>\n",
       "<path fill=\"none\" stroke=\"black\" d=\"M6672.72,-173.8C6661.33,-161.39 6645.79,-144.46 6633.09,-130.62\"/>\n",
       "<polygon fill=\"black\" stroke=\"black\" points=\"6636.33,-128.89 6626.99,-123.89 6631.18,-133.62 6636.33,-128.89\"/>\n",
       "<text text-anchor=\"middle\" x=\"6663.5\" y=\"-144.8\" font-family=\"Times New Roman,serif\" font-size=\"14.00\">No</text>\n",
       "</g>\n",
       "<!-- 60 -->\n",
       "<g id=\"node61\" class=\"node\">\n",
       "<title>60</title>\n",
       "<ellipse fill=\"none\" stroke=\"black\" cx=\"6779.5\" cy=\"-105\" rx=\"75.29\" ry=\"18\"/>\n",
       "<text text-anchor=\"middle\" x=\"6779.5\" y=\"-101.3\" font-family=\"Times New Roman,serif\" font-size=\"14.00\">is_rent, value&gt;0.5</text>\n",
       "</g>\n",
       "<!-- 29&#45;&gt;60 -->\n",
       "<g id=\"edge60\" class=\"edge\">\n",
       "<title>29&#45;&gt;60</title>\n",
       "<path fill=\"none\" stroke=\"black\" d=\"M6706.92,-173.8C6720.32,-161.27 6738.67,-144.14 6753.56,-130.23\"/>\n",
       "<polygon fill=\"black\" stroke=\"black\" points=\"6755.5,-133.27 6760.42,-123.89 6750.73,-128.15 6755.5,-133.27\"/>\n",
       "<text text-anchor=\"middle\" x=\"6750.5\" y=\"-144.8\" font-family=\"Times New Roman,serif\" font-size=\"14.00\">Yes</text>\n",
       "</g>\n",
       "<!-- 61 -->\n",
       "<g id=\"node62\" class=\"node\">\n",
       "<title>61</title>\n",
       "<ellipse fill=\"none\" stroke=\"black\" cx=\"7038.5\" cy=\"-105\" rx=\"75.29\" ry=\"18\"/>\n",
       "<text text-anchor=\"middle\" x=\"7038.5\" y=\"-101.3\" font-family=\"Times New Roman,serif\" font-size=\"14.00\">is_rent, value&gt;0.5</text>\n",
       "</g>\n",
       "<!-- 30&#45;&gt;61 -->\n",
       "<g id=\"edge61\" class=\"edge\">\n",
       "<title>30&#45;&gt;61</title>\n",
       "<path fill=\"none\" stroke=\"black\" d=\"M7038.5,-173.8C7038.5,-162.47 7038.5,-147.36 7038.5,-134.29\"/>\n",
       "<polygon fill=\"black\" stroke=\"black\" points=\"7042,-134.47 7038.5,-124.47 7035,-134.47 7042,-134.47\"/>\n",
       "<text text-anchor=\"middle\" x=\"7047.5\" y=\"-144.8\" font-family=\"Times New Roman,serif\" font-size=\"14.00\">No</text>\n",
       "</g>\n",
       "<!-- 62 -->\n",
       "<g id=\"node63\" class=\"node\">\n",
       "<title>62</title>\n",
       "<ellipse fill=\"none\" stroke=\"black\" cx=\"7245.5\" cy=\"-105\" rx=\"75.29\" ry=\"18\"/>\n",
       "<text text-anchor=\"middle\" x=\"7245.5\" y=\"-101.3\" font-family=\"Times New Roman,serif\" font-size=\"14.00\">is_rent, value&gt;0.5</text>\n",
       "</g>\n",
       "<!-- 30&#45;&gt;62 -->\n",
       "<g id=\"edge62\" class=\"edge\">\n",
       "<title>30&#45;&gt;62</title>\n",
       "<path fill=\"none\" stroke=\"black\" d=\"M7077.44,-175.01C7111.91,-160.86 7162.28,-140.17 7198.89,-125.14\"/>\n",
       "<polygon fill=\"black\" stroke=\"black\" points=\"7199.9,-128.1 7207.82,-121.06 7197.24,-121.62 7199.9,-128.1\"/>\n",
       "<text text-anchor=\"middle\" x=\"7165.5\" y=\"-144.8\" font-family=\"Times New Roman,serif\" font-size=\"14.00\">Yes</text>\n",
       "</g>\n",
       "<!-- 63 -->\n",
       "<g id=\"node64\" class=\"node\">\n",
       "<title>63</title>\n",
       "<polygon fill=\"none\" stroke=\"red\" points=\"99,-36 0,-36 0,0 99,0 99,-36\"/>\n",
       "<text text-anchor=\"middle\" x=\"49.5\" y=\"-14.3\" font-family=\"Times New Roman,serif\" font-size=\"14.00\">val = 8133.271</text>\n",
       "</g>\n",
       "<!-- 31&#45;&gt;63 -->\n",
       "<g id=\"edge63\" class=\"edge\">\n",
       "<title>31&#45;&gt;63</title>\n",
       "<path fill=\"none\" stroke=\"black\" d=\"M142.86,-87.41C125.56,-74.73 101.46,-57.08 82.09,-42.88\"/>\n",
       "<polygon fill=\"black\" stroke=\"black\" points=\"84.42,-39.51 74.28,-36.43 80.28,-45.16 84.42,-39.51\"/>\n",
       "<text text-anchor=\"middle\" x=\"123.5\" y=\"-57.8\" font-family=\"Times New Roman,serif\" font-size=\"14.00\">No</text>\n",
       "</g>\n",
       "<!-- 64 -->\n",
       "<g id=\"node65\" class=\"node\">\n",
       "<title>64</title>\n",
       "<polygon fill=\"none\" stroke=\"red\" points=\"214,-36 117,-36 117,0 214,0 214,-36\"/>\n",
       "<text text-anchor=\"middle\" x=\"165.5\" y=\"-14.3\" font-family=\"Times New Roman,serif\" font-size=\"14.00\">val = &#45;966.690</text>\n",
       "</g>\n",
       "<!-- 31&#45;&gt;64 -->\n",
       "<g id=\"edge64\" class=\"edge\">\n",
       "<title>31&#45;&gt;64</title>\n",
       "<path fill=\"none\" stroke=\"black\" d=\"M165.5,-86.8C165.5,-75.47 165.5,-60.36 165.5,-47.29\"/>\n",
       "<polygon fill=\"black\" stroke=\"black\" points=\"169,-47.47 165.5,-37.47 162,-47.47 169,-47.47\"/>\n",
       "<text text-anchor=\"middle\" x=\"176.5\" y=\"-57.8\" font-family=\"Times New Roman,serif\" font-size=\"14.00\">Yes</text>\n",
       "</g>\n",
       "<!-- 65 -->\n",
       "<g id=\"node66\" class=\"node\">\n",
       "<title>65</title>\n",
       "<polygon fill=\"none\" stroke=\"red\" points=\"338.5,-36 232.5,-36 232.5,0 338.5,0 338.5,-36\"/>\n",
       "<text text-anchor=\"middle\" x=\"285.5\" y=\"-14.3\" font-family=\"Times New Roman,serif\" font-size=\"14.00\">val = 21873.185</text>\n",
       "</g>\n",
       "<!-- 32&#45;&gt;65 -->\n",
       "<g id=\"edge65\" class=\"edge\">\n",
       "<title>32&#45;&gt;65</title>\n",
       "<path fill=\"none\" stroke=\"black\" d=\"M354.51,-87.21C341.95,-74.8 324.66,-57.7 310.52,-43.73\"/>\n",
       "<polygon fill=\"black\" stroke=\"black\" points=\"313.62,-41.88 304.05,-37.34 308.7,-46.86 313.62,-41.88\"/>\n",
       "<text text-anchor=\"middle\" x=\"343.5\" y=\"-57.8\" font-family=\"Times New Roman,serif\" font-size=\"14.00\">No</text>\n",
       "</g>\n",
       "<!-- 66 -->\n",
       "<g id=\"node67\" class=\"node\">\n",
       "<title>66</title>\n",
       "<polygon fill=\"none\" stroke=\"red\" points=\"460.5,-36 356.5,-36 356.5,0 460.5,0 460.5,-36\"/>\n",
       "<text text-anchor=\"middle\" x=\"408.5\" y=\"-14.3\" font-family=\"Times New Roman,serif\" font-size=\"14.00\">val = &#45;3996.162</text>\n",
       "</g>\n",
       "<!-- 32&#45;&gt;66 -->\n",
       "<g id=\"edge66\" class=\"edge\">\n",
       "<title>32&#45;&gt;66</title>\n",
       "<path fill=\"none\" stroke=\"black\" d=\"M378.99,-86.8C384.02,-75.24 390.76,-59.75 396.53,-46.5\"/>\n",
       "<polygon fill=\"black\" stroke=\"black\" points=\"400.11,-48.03 400.9,-37.47 393.7,-45.24 400.11,-48.03\"/>\n",
       "<text text-anchor=\"middle\" x=\"403.5\" y=\"-57.8\" font-family=\"Times New Roman,serif\" font-size=\"14.00\">Yes</text>\n",
       "</g>\n",
       "<!-- 67 -->\n",
       "<g id=\"node68\" class=\"node\">\n",
       "<title>67</title>\n",
       "<polygon fill=\"none\" stroke=\"red\" points=\"558,-36 479,-36 479,0 558,0 558,-36\"/>\n",
       "<text text-anchor=\"middle\" x=\"518.5\" y=\"-14.3\" font-family=\"Times New Roman,serif\" font-size=\"14.00\">val = 0.000</text>\n",
       "</g>\n",
       "<!-- 33&#45;&gt;67 -->\n",
       "<g id=\"edge67\" class=\"edge\">\n",
       "<title>33&#45;&gt;67</title>\n",
       "<path fill=\"none\" stroke=\"black\" d=\"M569.55,-86.8C560.5,-74.78 548.26,-58.52 538.03,-44.94\"/>\n",
       "<polygon fill=\"black\" stroke=\"black\" points=\"540.46,-43.35 531.65,-37.47 534.87,-47.56 540.46,-43.35\"/>\n",
       "<text text-anchor=\"middle\" x=\"563.5\" y=\"-57.8\" font-family=\"Times New Roman,serif\" font-size=\"14.00\">No</text>\n",
       "</g>\n",
       "<!-- 68 -->\n",
       "<g id=\"node69\" class=\"node\">\n",
       "<title>68</title>\n",
       "<polygon fill=\"none\" stroke=\"red\" points=\"655,-36 576,-36 576,0 655,0 655,-36\"/>\n",
       "<text text-anchor=\"middle\" x=\"615.5\" y=\"-14.3\" font-family=\"Times New Roman,serif\" font-size=\"14.00\">val = 0.000</text>\n",
       "</g>\n",
       "<!-- 33&#45;&gt;68 -->\n",
       "<g id=\"edge68\" class=\"edge\">\n",
       "<title>33&#45;&gt;68</title>\n",
       "<path fill=\"none\" stroke=\"black\" d=\"M589.18,-86.8C593.67,-75.24 599.68,-59.75 604.82,-46.5\"/>\n",
       "<polygon fill=\"black\" stroke=\"black\" points=\"608.36,-48.06 608.72,-37.47 601.84,-45.52 608.36,-48.06\"/>\n",
       "<text text-anchor=\"middle\" x=\"612.5\" y=\"-57.8\" font-family=\"Times New Roman,serif\" font-size=\"14.00\">Yes</text>\n",
       "</g>\n",
       "<!-- 69 -->\n",
       "<g id=\"node70\" class=\"node\">\n",
       "<title>69</title>\n",
       "<polygon fill=\"none\" stroke=\"red\" points=\"752,-36 673,-36 673,0 752,0 752,-36\"/>\n",
       "<text text-anchor=\"middle\" x=\"712.5\" y=\"-14.3\" font-family=\"Times New Roman,serif\" font-size=\"14.00\">val = 0.000</text>\n",
       "</g>\n",
       "<!-- 34&#45;&gt;69 -->\n",
       "<g id=\"edge69\" class=\"edge\">\n",
       "<title>34&#45;&gt;69</title>\n",
       "<path fill=\"none\" stroke=\"black\" d=\"M743.61,-86.8C738.25,-75.12 731.06,-59.45 724.94,-46.11\"/>\n",
       "<polygon fill=\"black\" stroke=\"black\" points=\"727.87,-45.1 720.51,-37.47 721.5,-48.02 727.87,-45.1\"/>\n",
       "<text text-anchor=\"middle\" x=\"743.5\" y=\"-57.8\" font-family=\"Times New Roman,serif\" font-size=\"14.00\">No</text>\n",
       "</g>\n",
       "<!-- 70 -->\n",
       "<g id=\"node71\" class=\"node\">\n",
       "<title>70</title>\n",
       "<polygon fill=\"none\" stroke=\"red\" points=\"849,-36 770,-36 770,0 849,0 849,-36\"/>\n",
       "<text text-anchor=\"middle\" x=\"809.5\" y=\"-14.3\" font-family=\"Times New Roman,serif\" font-size=\"14.00\">val = 0.000</text>\n",
       "</g>\n",
       "<!-- 34&#45;&gt;70 -->\n",
       "<g id=\"edge70\" class=\"edge\">\n",
       "<title>34&#45;&gt;70</title>\n",
       "<path fill=\"none\" stroke=\"black\" d=\"M763.24,-86.8C771.36,-74.9 782.32,-58.83 791.54,-45.32\"/>\n",
       "<polygon fill=\"black\" stroke=\"black\" points=\"794.84,-47.7 797.58,-37.47 789.05,-43.75 794.84,-47.7\"/>\n",
       "<text text-anchor=\"middle\" x=\"795.5\" y=\"-57.8\" font-family=\"Times New Roman,serif\" font-size=\"14.00\">Yes</text>\n",
       "</g>\n",
       "<!-- 71 -->\n",
       "<g id=\"node72\" class=\"node\">\n",
       "<title>71</title>\n",
       "<polygon fill=\"none\" stroke=\"red\" points=\"980,-36 867,-36 867,0 980,0 980,-36\"/>\n",
       "<text text-anchor=\"middle\" x=\"923.5\" y=\"-14.3\" font-family=\"Times New Roman,serif\" font-size=\"14.00\">val = 110248.630</text>\n",
       "</g>\n",
       "<!-- 35&#45;&gt;71 -->\n",
       "<g id=\"edge71\" class=\"edge\">\n",
       "<title>35&#45;&gt;71</title>\n",
       "<path fill=\"none\" stroke=\"black\" d=\"M1022.78,-87.61C1004.18,-74.75 978.03,-56.69 957.24,-42.32\"/>\n",
       "<polygon fill=\"black\" stroke=\"black\" points=\"959.63,-39.02 949.41,-36.21 955.65,-44.78 959.63,-39.02\"/>\n",
       "<text text-anchor=\"middle\" x=\"1001.5\" y=\"-57.8\" font-family=\"Times New Roman,serif\" font-size=\"14.00\">No</text>\n",
       "</g>\n",
       "<!-- 72 -->\n",
       "<g id=\"node73\" class=\"node\">\n",
       "<title>72</title>\n",
       "<polygon fill=\"none\" stroke=\"red\" points=\"1097,-36 998,-36 998,0 1097,0 1097,-36\"/>\n",
       "<text text-anchor=\"middle\" x=\"1047.5\" y=\"-14.3\" font-family=\"Times New Roman,serif\" font-size=\"14.00\">val = 2199.776</text>\n",
       "</g>\n",
       "<!-- 35&#45;&gt;72 -->\n",
       "<g id=\"edge72\" class=\"edge\">\n",
       "<title>35&#45;&gt;72</title>\n",
       "<path fill=\"none\" stroke=\"black\" d=\"M1046.7,-86.8C1046.84,-75.47 1047.01,-60.36 1047.17,-47.29\"/>\n",
       "<polygon fill=\"black\" stroke=\"black\" points=\"1050.68,-47.51 1047.29,-37.47 1043.68,-47.43 1050.68,-47.51\"/>\n",
       "<text text-anchor=\"middle\" x=\"1058.5\" y=\"-57.8\" font-family=\"Times New Roman,serif\" font-size=\"14.00\">Yes</text>\n",
       "</g>\n",
       "<!-- 73 -->\n",
       "<g id=\"node74\" class=\"node\">\n",
       "<title>73</title>\n",
       "<polygon fill=\"none\" stroke=\"red\" points=\"1221.5,-36 1115.5,-36 1115.5,0 1221.5,0 1221.5,-36\"/>\n",
       "<text text-anchor=\"middle\" x=\"1168.5\" y=\"-14.3\" font-family=\"Times New Roman,serif\" font-size=\"14.00\">val = 21628.909</text>\n",
       "</g>\n",
       "<!-- 36&#45;&gt;73 -->\n",
       "<g id=\"edge73\" class=\"edge\">\n",
       "<title>36&#45;&gt;73</title>\n",
       "<path fill=\"none\" stroke=\"black\" d=\"M1205.99,-86.8C1199.47,-75.01 1190.69,-59.14 1183.27,-45.72\"/>\n",
       "<polygon fill=\"black\" stroke=\"black\" points=\"1186.06,-44.52 1178.16,-37.47 1179.93,-47.91 1186.06,-44.52\"/>\n",
       "<text text-anchor=\"middle\" x=\"1204.5\" y=\"-57.8\" font-family=\"Times New Roman,serif\" font-size=\"14.00\">No</text>\n",
       "</g>\n",
       "<!-- 74 -->\n",
       "<g id=\"node75\" class=\"node\">\n",
       "<title>74</title>\n",
       "<polygon fill=\"none\" stroke=\"red\" points=\"1343.5,-36 1239.5,-36 1239.5,0 1343.5,0 1343.5,-36\"/>\n",
       "<text text-anchor=\"middle\" x=\"1291.5\" y=\"-14.3\" font-family=\"Times New Roman,serif\" font-size=\"14.00\">val = &#45;3117.382</text>\n",
       "</g>\n",
       "<!-- 36&#45;&gt;74 -->\n",
       "<g id=\"edge74\" class=\"edge\">\n",
       "<title>36&#45;&gt;74</title>\n",
       "<path fill=\"none\" stroke=\"black\" d=\"M1230.52,-87.21C1241.41,-75.03 1256.33,-58.33 1268.69,-44.51\"/>\n",
       "<polygon fill=\"black\" stroke=\"black\" points=\"1270.94,-47.13 1274.99,-37.34 1265.72,-42.46 1270.94,-47.13\"/>\n",
       "<text text-anchor=\"middle\" x=\"1269.5\" y=\"-57.8\" font-family=\"Times New Roman,serif\" font-size=\"14.00\">Yes</text>\n",
       "</g>\n",
       "<!-- 75 -->\n",
       "<g id=\"node76\" class=\"node\">\n",
       "<title>75</title>\n",
       "<polygon fill=\"none\" stroke=\"red\" points=\"1441,-36 1362,-36 1362,0 1441,0 1441,-36\"/>\n",
       "<text text-anchor=\"middle\" x=\"1401.5\" y=\"-14.3\" font-family=\"Times New Roman,serif\" font-size=\"14.00\">val = 0.000</text>\n",
       "</g>\n",
       "<!-- 37&#45;&gt;75 -->\n",
       "<g id=\"edge75\" class=\"edge\">\n",
       "<title>37&#45;&gt;75</title>\n",
       "<path fill=\"none\" stroke=\"black\" d=\"M1422.24,-86.8C1418.74,-75.35 1414.06,-60.06 1410.03,-46.89\"/>\n",
       "<polygon fill=\"black\" stroke=\"black\" points=\"1413.11,-46.01 1406.84,-37.47 1406.42,-48.05 1413.11,-46.01\"/>\n",
       "<text text-anchor=\"middle\" x=\"1425.5\" y=\"-57.8\" font-family=\"Times New Roman,serif\" font-size=\"14.00\">No</text>\n",
       "</g>\n",
       "<!-- 76 -->\n",
       "<g id=\"node77\" class=\"node\">\n",
       "<title>76</title>\n",
       "<polygon fill=\"none\" stroke=\"red\" points=\"1538,-36 1459,-36 1459,0 1538,0 1538,-36\"/>\n",
       "<text text-anchor=\"middle\" x=\"1498.5\" y=\"-14.3\" font-family=\"Times New Roman,serif\" font-size=\"14.00\">val = 0.000</text>\n",
       "</g>\n",
       "<!-- 37&#45;&gt;76 -->\n",
       "<g id=\"edge76\" class=\"edge\">\n",
       "<title>37&#45;&gt;76</title>\n",
       "<path fill=\"none\" stroke=\"black\" d=\"M1441.53,-87.21C1451.7,-75.03 1465.64,-58.33 1477.19,-44.51\"/>\n",
       "<polygon fill=\"black\" stroke=\"black\" points=\"1480.29,-47.26 1484.01,-37.34 1474.92,-42.77 1480.29,-47.26\"/>\n",
       "<text text-anchor=\"middle\" x=\"1478.5\" y=\"-57.8\" font-family=\"Times New Roman,serif\" font-size=\"14.00\">Yes</text>\n",
       "</g>\n",
       "<!-- 77 -->\n",
       "<g id=\"node78\" class=\"node\">\n",
       "<title>77</title>\n",
       "<polygon fill=\"none\" stroke=\"red\" points=\"1635,-36 1556,-36 1556,0 1635,0 1635,-36\"/>\n",
       "<text text-anchor=\"middle\" x=\"1595.5\" y=\"-14.3\" font-family=\"Times New Roman,serif\" font-size=\"14.00\">val = 0.000</text>\n",
       "</g>\n",
       "<!-- 38&#45;&gt;77 -->\n",
       "<g id=\"edge77\" class=\"edge\">\n",
       "<title>38&#45;&gt;77</title>\n",
       "<path fill=\"none\" stroke=\"black\" d=\"M1596.3,-86.8C1596.16,-75.47 1595.99,-60.36 1595.83,-47.29\"/>\n",
       "<polygon fill=\"black\" stroke=\"black\" points=\"1599.32,-47.43 1595.71,-37.47 1592.32,-47.51 1599.32,-47.43\"/>\n",
       "<text text-anchor=\"middle\" x=\"1605.5\" y=\"-57.8\" font-family=\"Times New Roman,serif\" font-size=\"14.00\">No</text>\n",
       "</g>\n",
       "<!-- 78 -->\n",
       "<g id=\"node79\" class=\"node\">\n",
       "<title>78</title>\n",
       "<polygon fill=\"none\" stroke=\"red\" points=\"1732,-36 1653,-36 1653,0 1732,0 1732,-36\"/>\n",
       "<text text-anchor=\"middle\" x=\"1692.5\" y=\"-14.3\" font-family=\"Times New Roman,serif\" font-size=\"14.00\">val = 0.000</text>\n",
       "</g>\n",
       "<!-- 38&#45;&gt;78 -->\n",
       "<g id=\"edge78\" class=\"edge\">\n",
       "<title>38&#45;&gt;78</title>\n",
       "<path fill=\"none\" stroke=\"black\" d=\"M1615.47,-87.21C1629.61,-74.68 1649.15,-57.39 1665,-43.35\"/>\n",
       "<polygon fill=\"black\" stroke=\"black\" points=\"1666.75,-46.59 1671.91,-37.34 1662.11,-41.35 1666.75,-46.59\"/>\n",
       "<text text-anchor=\"middle\" x=\"1661.5\" y=\"-57.8\" font-family=\"Times New Roman,serif\" font-size=\"14.00\">Yes</text>\n",
       "</g>\n",
       "<!-- 79 -->\n",
       "<g id=\"node80\" class=\"node\">\n",
       "<title>79</title>\n",
       "<polygon fill=\"none\" stroke=\"red\" points=\"1856.5,-36 1750.5,-36 1750.5,0 1856.5,0 1856.5,-36\"/>\n",
       "<text text-anchor=\"middle\" x=\"1803.5\" y=\"-14.3\" font-family=\"Times New Roman,serif\" font-size=\"14.00\">val = 84767.059</text>\n",
       "</g>\n",
       "<!-- 39&#45;&gt;79 -->\n",
       "<g id=\"edge79\" class=\"edge\">\n",
       "<title>39&#45;&gt;79</title>\n",
       "<path fill=\"none\" stroke=\"black\" d=\"M1901.17,-87.61C1882.95,-74.81 1857.38,-56.85 1836.97,-42.51\"/>\n",
       "<polygon fill=\"black\" stroke=\"black\" points=\"1839.2,-39.1 1829,-36.21 1835.18,-44.83 1839.2,-39.1\"/>\n",
       "<text text-anchor=\"middle\" x=\"1880.5\" y=\"-57.8\" font-family=\"Times New Roman,serif\" font-size=\"14.00\">No</text>\n",
       "</g>\n",
       "<!-- 80 -->\n",
       "<g id=\"node81\" class=\"node\">\n",
       "<title>80</title>\n",
       "<polygon fill=\"none\" stroke=\"red\" points=\"1974,-36 1875,-36 1875,0 1974,0 1974,-36\"/>\n",
       "<text text-anchor=\"middle\" x=\"1924.5\" y=\"-14.3\" font-family=\"Times New Roman,serif\" font-size=\"14.00\">val = 1077.726</text>\n",
       "</g>\n",
       "<!-- 39&#45;&gt;80 -->\n",
       "<g id=\"edge80\" class=\"edge\">\n",
       "<title>39&#45;&gt;80</title>\n",
       "<path fill=\"none\" stroke=\"black\" d=\"M1924.5,-86.8C1924.5,-75.47 1924.5,-60.36 1924.5,-47.29\"/>\n",
       "<polygon fill=\"black\" stroke=\"black\" points=\"1928,-47.47 1924.5,-37.47 1921,-47.47 1928,-47.47\"/>\n",
       "<text text-anchor=\"middle\" x=\"1935.5\" y=\"-57.8\" font-family=\"Times New Roman,serif\" font-size=\"14.00\">Yes</text>\n",
       "</g>\n",
       "<!-- 81 -->\n",
       "<g id=\"node82\" class=\"node\">\n",
       "<title>81</title>\n",
       "<polygon fill=\"none\" stroke=\"red\" points=\"2098.5,-36 1992.5,-36 1992.5,0 2098.5,0 2098.5,-36\"/>\n",
       "<text text-anchor=\"middle\" x=\"2045.5\" y=\"-14.3\" font-family=\"Times New Roman,serif\" font-size=\"14.00\">val = 20626.749</text>\n",
       "</g>\n",
       "<!-- 40&#45;&gt;81 -->\n",
       "<g id=\"edge81\" class=\"edge\">\n",
       "<title>40&#45;&gt;81</title>\n",
       "<path fill=\"none\" stroke=\"black\" d=\"M2135.64,-87.41C2119.01,-74.79 2095.88,-57.24 2077.22,-43.07\"/>\n",
       "<polygon fill=\"black\" stroke=\"black\" points=\"2079.54,-39.68 2069.46,-36.43 2075.31,-45.26 2079.54,-39.68\"/>\n",
       "<text text-anchor=\"middle\" x=\"2117.5\" y=\"-57.8\" font-family=\"Times New Roman,serif\" font-size=\"14.00\">No</text>\n",
       "</g>\n",
       "<!-- 82 -->\n",
       "<g id=\"node83\" class=\"node\">\n",
       "<title>82</title>\n",
       "<polygon fill=\"none\" stroke=\"red\" points=\"2220.5,-36 2116.5,-36 2116.5,0 2220.5,0 2220.5,-36\"/>\n",
       "<text text-anchor=\"middle\" x=\"2168.5\" y=\"-14.3\" font-family=\"Times New Roman,serif\" font-size=\"14.00\">val = &#45;2932.029</text>\n",
       "</g>\n",
       "<!-- 40&#45;&gt;82 -->\n",
       "<g id=\"edge82\" class=\"edge\">\n",
       "<title>40&#45;&gt;82</title>\n",
       "<path fill=\"none\" stroke=\"black\" d=\"M2159.73,-86.8C2161.19,-75.47 2163.15,-60.36 2164.84,-47.29\"/>\n",
       "<polygon fill=\"black\" stroke=\"black\" points=\"2168.43,-47.83 2166.24,-37.47 2161.48,-46.94 2168.43,-47.83\"/>\n",
       "<text text-anchor=\"middle\" x=\"2175.5\" y=\"-57.8\" font-family=\"Times New Roman,serif\" font-size=\"14.00\">Yes</text>\n",
       "</g>\n",
       "<!-- 83 -->\n",
       "<g id=\"node84\" class=\"node\">\n",
       "<title>83</title>\n",
       "<polygon fill=\"none\" stroke=\"red\" points=\"2352,-36 2239,-36 2239,0 2352,0 2352,-36\"/>\n",
       "<text text-anchor=\"middle\" x=\"2295.5\" y=\"-14.3\" font-family=\"Times New Roman,serif\" font-size=\"14.00\">val = 112715.550</text>\n",
       "</g>\n",
       "<!-- 41&#45;&gt;83 -->\n",
       "<g id=\"edge83\" class=\"edge\">\n",
       "<title>41&#45;&gt;83</title>\n",
       "<path fill=\"none\" stroke=\"black\" d=\"M2366.92,-87.21C2353.92,-74.8 2336.02,-57.7 2321.4,-43.73\"/>\n",
       "<polygon fill=\"black\" stroke=\"black\" points=\"2324.31,-41.72 2314.66,-37.34 2319.47,-46.78 2324.31,-41.72\"/>\n",
       "<text text-anchor=\"middle\" x=\"2354.5\" y=\"-57.8\" font-family=\"Times New Roman,serif\" font-size=\"14.00\">No</text>\n",
       "</g>\n",
       "<!-- 84 -->\n",
       "<g id=\"node85\" class=\"node\">\n",
       "<title>84</title>\n",
       "<polygon fill=\"none\" stroke=\"red\" points=\"2469,-36 2370,-36 2370,0 2469,0 2469,-36\"/>\n",
       "<text text-anchor=\"middle\" x=\"2419.5\" y=\"-14.3\" font-family=\"Times New Roman,serif\" font-size=\"14.00\">val = 2237.545</text>\n",
       "</g>\n",
       "<!-- 41&#45;&gt;84 -->\n",
       "<g id=\"edge84\" class=\"edge\">\n",
       "<title>41&#45;&gt;84</title>\n",
       "<path fill=\"none\" stroke=\"black\" d=\"M2391.58,-86.8C2396.34,-75.24 2402.72,-59.75 2408.18,-46.5\"/>\n",
       "<polygon fill=\"black\" stroke=\"black\" points=\"2411.74,-48.05 2412.31,-37.47 2405.26,-45.38 2411.74,-48.05\"/>\n",
       "<text text-anchor=\"middle\" x=\"2415.5\" y=\"-57.8\" font-family=\"Times New Roman,serif\" font-size=\"14.00\">Yes</text>\n",
       "</g>\n",
       "<!-- 85 -->\n",
       "<g id=\"node86\" class=\"node\">\n",
       "<title>85</title>\n",
       "<polygon fill=\"none\" stroke=\"red\" points=\"2593.5,-36 2487.5,-36 2487.5,0 2593.5,0 2593.5,-36\"/>\n",
       "<text text-anchor=\"middle\" x=\"2540.5\" y=\"-14.3\" font-family=\"Times New Roman,serif\" font-size=\"14.00\">val = 39603.448</text>\n",
       "</g>\n",
       "<!-- 42&#45;&gt;85 -->\n",
       "<g id=\"edge85\" class=\"edge\">\n",
       "<title>42&#45;&gt;85</title>\n",
       "<path fill=\"none\" stroke=\"black\" d=\"M2550.87,-86.8C2549.14,-75.47 2546.83,-60.36 2544.83,-47.29\"/>\n",
       "<polygon fill=\"black\" stroke=\"black\" points=\"2548.14,-46.82 2543.17,-37.47 2541.22,-47.88 2548.14,-46.82\"/>\n",
       "<text text-anchor=\"middle\" x=\"2557.5\" y=\"-57.8\" font-family=\"Times New Roman,serif\" font-size=\"14.00\">No</text>\n",
       "</g>\n",
       "<!-- 86 -->\n",
       "<g id=\"node87\" class=\"node\">\n",
       "<title>86</title>\n",
       "<polygon fill=\"none\" stroke=\"red\" points=\"2715.5,-36 2611.5,-36 2611.5,0 2715.5,0 2715.5,-36\"/>\n",
       "<text text-anchor=\"middle\" x=\"2663.5\" y=\"-14.3\" font-family=\"Times New Roman,serif\" font-size=\"14.00\">val = &#45;3517.777</text>\n",
       "</g>\n",
       "<!-- 42&#45;&gt;86 -->\n",
       "<g id=\"edge86\" class=\"edge\">\n",
       "<title>42&#45;&gt;86</title>\n",
       "<path fill=\"none\" stroke=\"black\" d=\"M2574.97,-87.41C2591.3,-74.79 2614.02,-57.24 2632.35,-43.07\"/>\n",
       "<polygon fill=\"black\" stroke=\"black\" points=\"2634.18,-45.31 2639.95,-36.43 2629.9,-39.77 2634.18,-45.31\"/>\n",
       "<text text-anchor=\"middle\" x=\"2626.5\" y=\"-57.8\" font-family=\"Times New Roman,serif\" font-size=\"14.00\">Yes</text>\n",
       "</g>\n",
       "<!-- 87 -->\n",
       "<g id=\"node88\" class=\"node\">\n",
       "<title>87</title>\n",
       "<polygon fill=\"none\" stroke=\"red\" points=\"2847,-36 2734,-36 2734,0 2847,0 2847,-36\"/>\n",
       "<text text-anchor=\"middle\" x=\"2790.5\" y=\"-14.3\" font-family=\"Times New Roman,serif\" font-size=\"14.00\">val = 136306.308</text>\n",
       "</g>\n",
       "<!-- 43&#45;&gt;87 -->\n",
       "<g id=\"edge87\" class=\"edge\">\n",
       "<title>43&#45;&gt;87</title>\n",
       "<path fill=\"none\" stroke=\"black\" d=\"M2876.62,-87.41C2860.73,-74.79 2838.63,-57.24 2820.8,-43.07\"/>\n",
       "<polygon fill=\"black\" stroke=\"black\" points=\"2823.44,-39.91 2813.44,-36.43 2819.09,-45.39 2823.44,-39.91\"/>\n",
       "<text text-anchor=\"middle\" x=\"2859.5\" y=\"-57.8\" font-family=\"Times New Roman,serif\" font-size=\"14.00\">No</text>\n",
       "</g>\n",
       "<!-- 88 -->\n",
       "<g id=\"node89\" class=\"node\">\n",
       "<title>88</title>\n",
       "<polygon fill=\"none\" stroke=\"red\" points=\"2964,-36 2865,-36 2865,0 2964,0 2964,-36\"/>\n",
       "<text text-anchor=\"middle\" x=\"2914.5\" y=\"-14.3\" font-family=\"Times New Roman,serif\" font-size=\"14.00\">val = 6428.618</text>\n",
       "</g>\n",
       "<!-- 43&#45;&gt;88 -->\n",
       "<g id=\"edge88\" class=\"edge\">\n",
       "<title>43&#45;&gt;88</title>\n",
       "<path fill=\"none\" stroke=\"black\" d=\"M2900.94,-86.8C2903.23,-75.35 2906.29,-60.06 2908.92,-46.89\"/>\n",
       "<polygon fill=\"black\" stroke=\"black\" points=\"2912.48,-47.96 2911.01,-37.47 2905.61,-46.59 2912.48,-47.96\"/>\n",
       "<text text-anchor=\"middle\" x=\"2918.5\" y=\"-57.8\" font-family=\"Times New Roman,serif\" font-size=\"14.00\">Yes</text>\n",
       "</g>\n",
       "<!-- 89 -->\n",
       "<g id=\"node90\" class=\"node\">\n",
       "<title>89</title>\n",
       "<polygon fill=\"none\" stroke=\"red\" points=\"3088.5,-36 2982.5,-36 2982.5,0 3088.5,0 3088.5,-36\"/>\n",
       "<text text-anchor=\"middle\" x=\"3035.5\" y=\"-14.3\" font-family=\"Times New Roman,serif\" font-size=\"14.00\">val = 49657.974</text>\n",
       "</g>\n",
       "<!-- 44&#45;&gt;89 -->\n",
       "<g id=\"edge89\" class=\"edge\">\n",
       "<title>44&#45;&gt;89</title>\n",
       "<path fill=\"none\" stroke=\"black\" d=\"M3060.23,-86.8C3056.01,-75.24 3050.36,-59.75 3045.53,-46.5\"/>\n",
       "<polygon fill=\"black\" stroke=\"black\" points=\"3048.58,-45.66 3041.87,-37.47 3042.01,-48.06 3048.58,-45.66\"/>\n",
       "<text text-anchor=\"middle\" x=\"3062.5\" y=\"-57.8\" font-family=\"Times New Roman,serif\" font-size=\"14.00\">No</text>\n",
       "</g>\n",
       "<!-- 90 -->\n",
       "<g id=\"node91\" class=\"node\">\n",
       "<title>90</title>\n",
       "<polygon fill=\"none\" stroke=\"red\" points=\"3204,-36 3107,-36 3107,0 3204,0 3204,-36\"/>\n",
       "<text text-anchor=\"middle\" x=\"3155.5\" y=\"-14.3\" font-family=\"Times New Roman,serif\" font-size=\"14.00\">val = &#45;848.596</text>\n",
       "</g>\n",
       "<!-- 44&#45;&gt;90 -->\n",
       "<g id=\"edge90\" class=\"edge\">\n",
       "<title>44&#45;&gt;90</title>\n",
       "<path fill=\"none\" stroke=\"black\" d=\"M3084.08,-87.21C3097.08,-74.8 3114.98,-57.7 3129.6,-43.73\"/>\n",
       "<polygon fill=\"black\" stroke=\"black\" points=\"3131.53,-46.78 3136.34,-37.34 3126.69,-41.72 3131.53,-46.78\"/>\n",
       "<text text-anchor=\"middle\" x=\"3127.5\" y=\"-57.8\" font-family=\"Times New Roman,serif\" font-size=\"14.00\">Yes</text>\n",
       "</g>\n",
       "<!-- 91 -->\n",
       "<g id=\"node92\" class=\"node\">\n",
       "<title>91</title>\n",
       "<polygon fill=\"none\" stroke=\"red\" points=\"3335,-36 3222,-36 3222,0 3335,0 3335,-36\"/>\n",
       "<text text-anchor=\"middle\" x=\"3278.5\" y=\"-14.3\" font-family=\"Times New Roman,serif\" font-size=\"14.00\">val = 120670.898</text>\n",
       "</g>\n",
       "<!-- 45&#45;&gt;91 -->\n",
       "<g id=\"edge91\" class=\"edge\">\n",
       "<title>45&#45;&gt;91</title>\n",
       "<path fill=\"none\" stroke=\"black\" d=\"M3296.05,-86.8C3293.09,-75.35 3289.13,-60.06 3285.72,-46.89\"/>\n",
       "<polygon fill=\"black\" stroke=\"black\" points=\"3288.92,-46.27 3283.02,-37.47 3282.14,-48.03 3288.92,-46.27\"/>\n",
       "<text text-anchor=\"middle\" x=\"3300.5\" y=\"-57.8\" font-family=\"Times New Roman,serif\" font-size=\"14.00\">No</text>\n",
       "</g>\n",
       "<!-- 92 -->\n",
       "<g id=\"node93\" class=\"node\">\n",
       "<title>92</title>\n",
       "<polygon fill=\"none\" stroke=\"red\" points=\"3452,-36 3353,-36 3353,0 3452,0 3452,-36\"/>\n",
       "<text text-anchor=\"middle\" x=\"3402.5\" y=\"-14.3\" font-family=\"Times New Roman,serif\" font-size=\"14.00\">val = 3869.518</text>\n",
       "</g>\n",
       "<!-- 45&#45;&gt;92 -->\n",
       "<g id=\"edge92\" class=\"edge\">\n",
       "<title>45&#45;&gt;92</title>\n",
       "<path fill=\"none\" stroke=\"black\" d=\"M3320.65,-87.21C3335.68,-74.68 3356.44,-57.39 3373.29,-43.35\"/>\n",
       "<polygon fill=\"black\" stroke=\"black\" points=\"3375.25,-45.43 3380.69,-36.34 3370.77,-40.06 3375.25,-45.43\"/>\n",
       "<text text-anchor=\"middle\" x=\"3369.5\" y=\"-57.8\" font-family=\"Times New Roman,serif\" font-size=\"14.00\">Yes</text>\n",
       "</g>\n",
       "<!-- 93 -->\n",
       "<g id=\"node94\" class=\"node\">\n",
       "<title>93</title>\n",
       "<polygon fill=\"none\" stroke=\"red\" points=\"3576.5,-36 3470.5,-36 3470.5,0 3576.5,0 3576.5,-36\"/>\n",
       "<text text-anchor=\"middle\" x=\"3523.5\" y=\"-14.3\" font-family=\"Times New Roman,serif\" font-size=\"14.00\">val = 66005.924</text>\n",
       "</g>\n",
       "<!-- 46&#45;&gt;93 -->\n",
       "<g id=\"edge93\" class=\"edge\">\n",
       "<title>46&#45;&gt;93</title>\n",
       "<path fill=\"none\" stroke=\"black\" d=\"M3523.5,-86.8C3523.5,-75.47 3523.5,-60.36 3523.5,-47.29\"/>\n",
       "<polygon fill=\"black\" stroke=\"black\" points=\"3527,-47.47 3523.5,-37.47 3520,-47.47 3527,-47.47\"/>\n",
       "<text text-anchor=\"middle\" x=\"3532.5\" y=\"-57.8\" font-family=\"Times New Roman,serif\" font-size=\"14.00\">No</text>\n",
       "</g>\n",
       "<!-- 94 -->\n",
       "<g id=\"node95\" class=\"node\">\n",
       "<title>94</title>\n",
       "<polygon fill=\"none\" stroke=\"red\" points=\"3698.5,-36 3594.5,-36 3594.5,0 3698.5,0 3698.5,-36\"/>\n",
       "<text text-anchor=\"middle\" x=\"3646.5\" y=\"-14.3\" font-family=\"Times New Roman,serif\" font-size=\"14.00\">val = &#45;1924.745</text>\n",
       "</g>\n",
       "<!-- 46&#45;&gt;94 -->\n",
       "<g id=\"edge94\" class=\"edge\">\n",
       "<title>46&#45;&gt;94</title>\n",
       "<path fill=\"none\" stroke=\"black\" d=\"M3547.22,-87.61C3565.82,-74.75 3591.97,-56.69 3612.76,-42.32\"/>\n",
       "<polygon fill=\"black\" stroke=\"black\" points=\"3614.35,-44.78 3620.59,-36.21 3610.37,-39.02 3614.35,-44.78\"/>\n",
       "<text text-anchor=\"middle\" x=\"3603.5\" y=\"-57.8\" font-family=\"Times New Roman,serif\" font-size=\"14.00\">Yes</text>\n",
       "</g>\n",
       "<!-- 95 -->\n",
       "<g id=\"node96\" class=\"node\">\n",
       "<title>95</title>\n",
       "<polygon fill=\"none\" stroke=\"red\" points=\"3830,-36 3717,-36 3717,0 3830,0 3830,-36\"/>\n",
       "<text text-anchor=\"middle\" x=\"3773.5\" y=\"-14.3\" font-family=\"Times New Roman,serif\" font-size=\"14.00\">val = 131492.071</text>\n",
       "</g>\n",
       "<!-- 47&#45;&gt;95 -->\n",
       "<g id=\"edge95\" class=\"edge\">\n",
       "<title>47&#45;&gt;95</title>\n",
       "<path fill=\"none\" stroke=\"black\" d=\"M3873.59,-87.61C3854.83,-74.75 3828.48,-56.69 3807.52,-42.32\"/>\n",
       "<polygon fill=\"black\" stroke=\"black\" points=\"3809.84,-38.98 3799.61,-36.21 3805.88,-44.75 3809.84,-38.98\"/>\n",
       "<text text-anchor=\"middle\" x=\"3852.5\" y=\"-57.8\" font-family=\"Times New Roman,serif\" font-size=\"14.00\">No</text>\n",
       "</g>\n",
       "<!-- 96 -->\n",
       "<g id=\"node97\" class=\"node\">\n",
       "<title>96</title>\n",
       "<polygon fill=\"none\" stroke=\"red\" points=\"3947,-36 3848,-36 3848,0 3947,0 3947,-36\"/>\n",
       "<text text-anchor=\"middle\" x=\"3897.5\" y=\"-14.3\" font-family=\"Times New Roman,serif\" font-size=\"14.00\">val = 2246.652</text>\n",
       "</g>\n",
       "<!-- 47&#45;&gt;96 -->\n",
       "<g id=\"edge96\" class=\"edge\">\n",
       "<title>47&#45;&gt;96</title>\n",
       "<path fill=\"none\" stroke=\"black\" d=\"M3897.5,-86.8C3897.5,-75.47 3897.5,-60.36 3897.5,-47.29\"/>\n",
       "<polygon fill=\"black\" stroke=\"black\" points=\"3901,-47.47 3897.5,-37.47 3894,-47.47 3901,-47.47\"/>\n",
       "<text text-anchor=\"middle\" x=\"3908.5\" y=\"-57.8\" font-family=\"Times New Roman,serif\" font-size=\"14.00\">Yes</text>\n",
       "</g>\n",
       "<!-- 97 -->\n",
       "<g id=\"node98\" class=\"node\">\n",
       "<title>97</title>\n",
       "<polygon fill=\"none\" stroke=\"red\" points=\"4071.5,-36 3965.5,-36 3965.5,0 4071.5,0 4071.5,-36\"/>\n",
       "<text text-anchor=\"middle\" x=\"4018.5\" y=\"-14.3\" font-family=\"Times New Roman,serif\" font-size=\"14.00\">val = 30966.649</text>\n",
       "</g>\n",
       "<!-- 48&#45;&gt;97 -->\n",
       "<g id=\"edge97\" class=\"edge\">\n",
       "<title>48&#45;&gt;97</title>\n",
       "<path fill=\"none\" stroke=\"black\" d=\"M4073.07,-87.21C4063.41,-75.14 4050.22,-58.65 4039.22,-44.9\"/>\n",
       "<polygon fill=\"black\" stroke=\"black\" points=\"4041.35,-42.96 4032.37,-37.34 4035.89,-47.34 4041.35,-42.96\"/>\n",
       "<text text-anchor=\"middle\" x=\"4066.5\" y=\"-57.8\" font-family=\"Times New Roman,serif\" font-size=\"14.00\">No</text>\n",
       "</g>\n",
       "<!-- 98 -->\n",
       "<g id=\"node99\" class=\"node\">\n",
       "<title>98</title>\n",
       "<polygon fill=\"none\" stroke=\"red\" points=\"4193.5,-36 4089.5,-36 4089.5,0 4193.5,0 4193.5,-36\"/>\n",
       "<text text-anchor=\"middle\" x=\"4141.5\" y=\"-14.3\" font-family=\"Times New Roman,serif\" font-size=\"14.00\">val = &#45;2863.995</text>\n",
       "</g>\n",
       "<!-- 48&#45;&gt;98 -->\n",
       "<g id=\"edge98\" class=\"edge\">\n",
       "<title>48&#45;&gt;98</title>\n",
       "<path fill=\"none\" stroke=\"black\" d=\"M4097.63,-86.8C4105.33,-74.9 4115.73,-58.83 4124.47,-45.32\"/>\n",
       "<polygon fill=\"black\" stroke=\"black\" points=\"4127.7,-47.76 4130.2,-37.47 4121.83,-43.96 4127.7,-47.76\"/>\n",
       "<text text-anchor=\"middle\" x=\"4128.5\" y=\"-57.8\" font-family=\"Times New Roman,serif\" font-size=\"14.00\">Yes</text>\n",
       "</g>\n",
       "<!-- 99 -->\n",
       "<g id=\"node100\" class=\"node\">\n",
       "<title>99</title>\n",
       "<polygon fill=\"none\" stroke=\"red\" points=\"4291,-36 4212,-36 4212,0 4291,0 4291,-36\"/>\n",
       "<text text-anchor=\"middle\" x=\"4251.5\" y=\"-14.3\" font-family=\"Times New Roman,serif\" font-size=\"14.00\">val = 0.000</text>\n",
       "</g>\n",
       "<!-- 49&#45;&gt;99 -->\n",
       "<g id=\"edge99\" class=\"edge\">\n",
       "<title>49&#45;&gt;99</title>\n",
       "<path fill=\"none\" stroke=\"black\" d=\"M4300.16,-86.8C4291.61,-74.9 4280.08,-58.83 4270.39,-45.32\"/>\n",
       "<polygon fill=\"black\" stroke=\"black\" points=\"4272.71,-43.55 4264.04,-37.47 4267.02,-47.63 4272.71,-43.55\"/>\n",
       "<text text-anchor=\"middle\" x=\"4295.5\" y=\"-57.8\" font-family=\"Times New Roman,serif\" font-size=\"14.00\">No</text>\n",
       "</g>\n",
       "<!-- 100 -->\n",
       "<g id=\"node101\" class=\"node\">\n",
       "<title>100</title>\n",
       "<polygon fill=\"none\" stroke=\"red\" points=\"4388,-36 4309,-36 4309,0 4388,0 4388,-36\"/>\n",
       "<text text-anchor=\"middle\" x=\"4348.5\" y=\"-14.3\" font-family=\"Times New Roman,serif\" font-size=\"14.00\">val = 0.000</text>\n",
       "</g>\n",
       "<!-- 49&#45;&gt;100 -->\n",
       "<g id=\"edge100\" class=\"edge\">\n",
       "<title>49&#45;&gt;100</title>\n",
       "<path fill=\"none\" stroke=\"black\" d=\"M4319.79,-86.8C4324.68,-75.24 4331.24,-59.75 4336.85,-46.5\"/>\n",
       "<polygon fill=\"black\" stroke=\"black\" points=\"4340.43,-48.04 4341.1,-37.47 4333.98,-45.31 4340.43,-48.04\"/>\n",
       "<text text-anchor=\"middle\" x=\"4344.5\" y=\"-57.8\" font-family=\"Times New Roman,serif\" font-size=\"14.00\">Yes</text>\n",
       "</g>\n",
       "<!-- 101 -->\n",
       "<g id=\"node102\" class=\"node\">\n",
       "<title>101</title>\n",
       "<polygon fill=\"none\" stroke=\"red\" points=\"4485,-36 4406,-36 4406,0 4485,0 4485,-36\"/>\n",
       "<text text-anchor=\"middle\" x=\"4445.5\" y=\"-14.3\" font-family=\"Times New Roman,serif\" font-size=\"14.00\">val = 0.000</text>\n",
       "</g>\n",
       "<!-- 50&#45;&gt;101 -->\n",
       "<g id=\"edge101\" class=\"edge\">\n",
       "<title>50&#45;&gt;101</title>\n",
       "<path fill=\"none\" stroke=\"black\" d=\"M4474.21,-86.8C4469.32,-75.24 4462.76,-59.75 4457.15,-46.5\"/>\n",
       "<polygon fill=\"black\" stroke=\"black\" points=\"4460.02,-45.31 4452.9,-37.47 4453.57,-48.04 4460.02,-45.31\"/>\n",
       "<text text-anchor=\"middle\" x=\"4475.5\" y=\"-57.8\" font-family=\"Times New Roman,serif\" font-size=\"14.00\">No</text>\n",
       "</g>\n",
       "<!-- 102 -->\n",
       "<g id=\"node103\" class=\"node\">\n",
       "<title>102</title>\n",
       "<polygon fill=\"none\" stroke=\"red\" points=\"4582,-36 4503,-36 4503,0 4582,0 4582,-36\"/>\n",
       "<text text-anchor=\"middle\" x=\"4542.5\" y=\"-14.3\" font-family=\"Times New Roman,serif\" font-size=\"14.00\">val = 0.000</text>\n",
       "</g>\n",
       "<!-- 50&#45;&gt;102 -->\n",
       "<g id=\"edge102\" class=\"edge\">\n",
       "<title>50&#45;&gt;102</title>\n",
       "<path fill=\"none\" stroke=\"black\" d=\"M4493.84,-86.8C4502.39,-74.9 4513.92,-58.83 4523.61,-45.32\"/>\n",
       "<polygon fill=\"black\" stroke=\"black\" points=\"4526.98,-47.63 4529.96,-37.47 4521.29,-43.55 4526.98,-47.63\"/>\n",
       "<text text-anchor=\"middle\" x=\"4527.5\" y=\"-57.8\" font-family=\"Times New Roman,serif\" font-size=\"14.00\">Yes</text>\n",
       "</g>\n",
       "<!-- 103 -->\n",
       "<g id=\"node104\" class=\"node\">\n",
       "<title>103</title>\n",
       "<polygon fill=\"none\" stroke=\"red\" points=\"4713,-36 4600,-36 4600,0 4713,0 4713,-36\"/>\n",
       "<text text-anchor=\"middle\" x=\"4656.5\" y=\"-14.3\" font-family=\"Times New Roman,serif\" font-size=\"14.00\">val = 148587.536</text>\n",
       "</g>\n",
       "<!-- 51&#45;&gt;103 -->\n",
       "<g id=\"edge103\" class=\"edge\">\n",
       "<title>51&#45;&gt;103</title>\n",
       "<path fill=\"none\" stroke=\"black\" d=\"M4749.86,-87.41C4732.56,-74.73 4708.46,-57.08 4689.09,-42.88\"/>\n",
       "<polygon fill=\"black\" stroke=\"black\" points=\"4691.42,-39.51 4681.28,-36.43 4687.28,-45.16 4691.42,-39.51\"/>\n",
       "<text text-anchor=\"middle\" x=\"4730.5\" y=\"-57.8\" font-family=\"Times New Roman,serif\" font-size=\"14.00\">No</text>\n",
       "</g>\n",
       "<!-- 104 -->\n",
       "<g id=\"node105\" class=\"node\">\n",
       "<title>104</title>\n",
       "<polygon fill=\"none\" stroke=\"red\" points=\"4830,-36 4731,-36 4731,0 4830,0 4830,-36\"/>\n",
       "<text text-anchor=\"middle\" x=\"4780.5\" y=\"-14.3\" font-family=\"Times New Roman,serif\" font-size=\"14.00\">val = 2698.333</text>\n",
       "</g>\n",
       "<!-- 51&#45;&gt;104 -->\n",
       "<g id=\"edge104\" class=\"edge\">\n",
       "<title>51&#45;&gt;104</title>\n",
       "<path fill=\"none\" stroke=\"black\" d=\"M4774.12,-86.8C4775.19,-75.47 4776.61,-60.36 4777.84,-47.29\"/>\n",
       "<polygon fill=\"black\" stroke=\"black\" points=\"4781.4,-47.75 4778.86,-37.47 4774.43,-47.1 4781.4,-47.75\"/>\n",
       "<text text-anchor=\"middle\" x=\"4788.5\" y=\"-57.8\" font-family=\"Times New Roman,serif\" font-size=\"14.00\">Yes</text>\n",
       "</g>\n",
       "<!-- 105 -->\n",
       "<g id=\"node106\" class=\"node\">\n",
       "<title>105</title>\n",
       "<polygon fill=\"none\" stroke=\"red\" points=\"4954.5,-36 4848.5,-36 4848.5,0 4954.5,0 4954.5,-36\"/>\n",
       "<text text-anchor=\"middle\" x=\"4901.5\" y=\"-14.3\" font-family=\"Times New Roman,serif\" font-size=\"14.00\">val = 57955.909</text>\n",
       "</g>\n",
       "<!-- 52&#45;&gt;105 -->\n",
       "<g id=\"edge105\" class=\"edge\">\n",
       "<title>52&#45;&gt;105</title>\n",
       "<path fill=\"none\" stroke=\"black\" d=\"M4933.41,-86.8C4927.91,-75.12 4920.53,-59.45 4914.26,-46.11\"/>\n",
       "<polygon fill=\"black\" stroke=\"black\" points=\"4917.14,-45.03 4909.72,-37.47 4910.81,-48.01 4917.14,-45.03\"/>\n",
       "<text text-anchor=\"middle\" x=\"4933.5\" y=\"-57.8\" font-family=\"Times New Roman,serif\" font-size=\"14.00\">No</text>\n",
       "</g>\n",
       "<!-- 106 -->\n",
       "<g id=\"node107\" class=\"node\">\n",
       "<title>106</title>\n",
       "<polygon fill=\"none\" stroke=\"red\" points=\"5064.5,-36 4972.5,-36 4972.5,0 5064.5,0 5064.5,-36\"/>\n",
       "<text text-anchor=\"middle\" x=\"5018.5\" y=\"-14.3\" font-family=\"Times New Roman,serif\" font-size=\"14.00\">val = 590.687</text>\n",
       "</g>\n",
       "<!-- 52&#45;&gt;106 -->\n",
       "<g id=\"edge106\" class=\"edge\">\n",
       "<title>52&#45;&gt;106</title>\n",
       "<path fill=\"none\" stroke=\"black\" d=\"M4956.71,-87.21C4967.85,-74.91 4983.15,-58.02 4995.74,-44.12\"/>\n",
       "<polygon fill=\"black\" stroke=\"black\" points=\"4997.67,-47.1 5001.79,-37.34 4992.48,-42.4 4997.67,-47.1\"/>\n",
       "<text text-anchor=\"middle\" x=\"4996.5\" y=\"-57.8\" font-family=\"Times New Roman,serif\" font-size=\"14.00\">Yes</text>\n",
       "</g>\n",
       "<!-- 107 -->\n",
       "<g id=\"node108\" class=\"node\">\n",
       "<title>107</title>\n",
       "<polygon fill=\"none\" stroke=\"red\" points=\"5162,-36 5083,-36 5083,0 5162,0 5162,-36\"/>\n",
       "<text text-anchor=\"middle\" x=\"5122.5\" y=\"-14.3\" font-family=\"Times New Roman,serif\" font-size=\"14.00\">val = 0.000</text>\n",
       "</g>\n",
       "<!-- 53&#45;&gt;107 -->\n",
       "<g id=\"edge107\" class=\"edge\">\n",
       "<title>53&#45;&gt;107</title>\n",
       "<path fill=\"none\" stroke=\"black\" d=\"M5136.06,-86.8C5133.77,-75.35 5130.71,-60.06 5128.08,-46.89\"/>\n",
       "<polygon fill=\"black\" stroke=\"black\" points=\"5131.39,-46.59 5125.99,-37.47 5124.52,-47.96 5131.39,-46.59\"/>\n",
       "<text text-anchor=\"middle\" x=\"5141.5\" y=\"-57.8\" font-family=\"Times New Roman,serif\" font-size=\"14.00\">No</text>\n",
       "</g>\n",
       "<!-- 108 -->\n",
       "<g id=\"node109\" class=\"node\">\n",
       "<title>108</title>\n",
       "<polygon fill=\"none\" stroke=\"red\" points=\"5259,-36 5180,-36 5180,0 5259,0 5259,-36\"/>\n",
       "<text text-anchor=\"middle\" x=\"5219.5\" y=\"-14.3\" font-family=\"Times New Roman,serif\" font-size=\"14.00\">val = 0.000</text>\n",
       "</g>\n",
       "<!-- 53&#45;&gt;108 -->\n",
       "<g id=\"edge108\" class=\"edge\">\n",
       "<title>53&#45;&gt;108</title>\n",
       "<path fill=\"none\" stroke=\"black\" d=\"M5155.31,-87.21C5166.88,-74.91 5182.78,-58.02 5195.86,-44.12\"/>\n",
       "<polygon fill=\"black\" stroke=\"black\" points=\"5197.87,-47.02 5202.18,-37.34 5192.78,-42.23 5197.87,-47.02\"/>\n",
       "<text text-anchor=\"middle\" x=\"5195.5\" y=\"-57.8\" font-family=\"Times New Roman,serif\" font-size=\"14.00\">Yes</text>\n",
       "</g>\n",
       "<!-- 109 -->\n",
       "<g id=\"node110\" class=\"node\">\n",
       "<title>109</title>\n",
       "<polygon fill=\"none\" stroke=\"red\" points=\"5356,-36 5277,-36 5277,0 5356,0 5356,-36\"/>\n",
       "<text text-anchor=\"middle\" x=\"5316.5\" y=\"-14.3\" font-family=\"Times New Roman,serif\" font-size=\"14.00\">val = 0.000</text>\n",
       "</g>\n",
       "<!-- 54&#45;&gt;109 -->\n",
       "<g id=\"edge109\" class=\"edge\">\n",
       "<title>54&#45;&gt;109</title>\n",
       "<path fill=\"none\" stroke=\"black\" d=\"M5316.5,-86.8C5316.5,-75.47 5316.5,-60.36 5316.5,-47.29\"/>\n",
       "<polygon fill=\"black\" stroke=\"black\" points=\"5320,-47.47 5316.5,-37.47 5313,-47.47 5320,-47.47\"/>\n",
       "<text text-anchor=\"middle\" x=\"5325.5\" y=\"-57.8\" font-family=\"Times New Roman,serif\" font-size=\"14.00\">No</text>\n",
       "</g>\n",
       "<!-- 110 -->\n",
       "<g id=\"node111\" class=\"node\">\n",
       "<title>110</title>\n",
       "<polygon fill=\"none\" stroke=\"red\" points=\"5453,-36 5374,-36 5374,0 5453,0 5453,-36\"/>\n",
       "<text text-anchor=\"middle\" x=\"5413.5\" y=\"-14.3\" font-family=\"Times New Roman,serif\" font-size=\"14.00\">val = 0.000</text>\n",
       "</g>\n",
       "<!-- 54&#45;&gt;110 -->\n",
       "<g id=\"edge110\" class=\"edge\">\n",
       "<title>54&#45;&gt;110</title>\n",
       "<path fill=\"none\" stroke=\"black\" d=\"M5335.66,-87.21C5349.96,-74.68 5369.7,-57.39 5385.72,-43.35\"/>\n",
       "<polygon fill=\"black\" stroke=\"black\" points=\"5387.5,-45.56 5392.71,-36.34 5382.88,-40.3 5387.5,-45.56\"/>\n",
       "<text text-anchor=\"middle\" x=\"5382.5\" y=\"-57.8\" font-family=\"Times New Roman,serif\" font-size=\"14.00\">Yes</text>\n",
       "</g>\n",
       "<!-- 111 -->\n",
       "<g id=\"node112\" class=\"node\">\n",
       "<title>111</title>\n",
       "<polygon fill=\"none\" stroke=\"red\" points=\"5584,-36 5471,-36 5471,0 5584,0 5584,-36\"/>\n",
       "<text text-anchor=\"middle\" x=\"5527.5\" y=\"-14.3\" font-family=\"Times New Roman,serif\" font-size=\"14.00\">val = 183730.711</text>\n",
       "</g>\n",
       "<!-- 55&#45;&gt;111 -->\n",
       "<g id=\"edge111\" class=\"edge\">\n",
       "<title>55&#45;&gt;111</title>\n",
       "<path fill=\"none\" stroke=\"black\" d=\"M5627.59,-87.61C5608.83,-74.75 5582.48,-56.69 5561.52,-42.32\"/>\n",
       "<polygon fill=\"black\" stroke=\"black\" points=\"5563.84,-38.98 5553.61,-36.21 5559.88,-44.75 5563.84,-38.98\"/>\n",
       "<text text-anchor=\"middle\" x=\"5606.5\" y=\"-57.8\" font-family=\"Times New Roman,serif\" font-size=\"14.00\">No</text>\n",
       "</g>\n",
       "<!-- 112 -->\n",
       "<g id=\"node113\" class=\"node\">\n",
       "<title>112</title>\n",
       "<polygon fill=\"none\" stroke=\"red\" points=\"5701,-36 5602,-36 5602,0 5701,0 5701,-36\"/>\n",
       "<text text-anchor=\"middle\" x=\"5651.5\" y=\"-14.3\" font-family=\"Times New Roman,serif\" font-size=\"14.00\">val = 5407.460</text>\n",
       "</g>\n",
       "<!-- 55&#45;&gt;112 -->\n",
       "<g id=\"edge112\" class=\"edge\">\n",
       "<title>55&#45;&gt;112</title>\n",
       "<path fill=\"none\" stroke=\"black\" d=\"M5651.5,-86.8C5651.5,-75.47 5651.5,-60.36 5651.5,-47.29\"/>\n",
       "<polygon fill=\"black\" stroke=\"black\" points=\"5655,-47.47 5651.5,-37.47 5648,-47.47 5655,-47.47\"/>\n",
       "<text text-anchor=\"middle\" x=\"5662.5\" y=\"-57.8\" font-family=\"Times New Roman,serif\" font-size=\"14.00\">Yes</text>\n",
       "</g>\n",
       "<!-- 113 -->\n",
       "<g id=\"node114\" class=\"node\">\n",
       "<title>113</title>\n",
       "<polygon fill=\"none\" stroke=\"red\" points=\"5825.5,-36 5719.5,-36 5719.5,0 5825.5,0 5825.5,-36\"/>\n",
       "<text text-anchor=\"middle\" x=\"5772.5\" y=\"-14.3\" font-family=\"Times New Roman,serif\" font-size=\"14.00\">val = 73636.444</text>\n",
       "</g>\n",
       "<!-- 56&#45;&gt;113 -->\n",
       "<g id=\"edge113\" class=\"edge\">\n",
       "<title>56&#45;&gt;113</title>\n",
       "<path fill=\"none\" stroke=\"black\" d=\"M5818.76,-86.8C5810.64,-74.9 5799.68,-58.83 5790.46,-45.32\"/>\n",
       "<polygon fill=\"black\" stroke=\"black\" points=\"5792.95,-43.75 5784.42,-37.47 5787.16,-47.7 5792.95,-43.75\"/>\n",
       "<text text-anchor=\"middle\" x=\"5814.5\" y=\"-57.8\" font-family=\"Times New Roman,serif\" font-size=\"14.00\">No</text>\n",
       "</g>\n",
       "<!-- 114 -->\n",
       "<g id=\"node115\" class=\"node\">\n",
       "<title>114</title>\n",
       "<polygon fill=\"none\" stroke=\"red\" points=\"5947.5,-36 5843.5,-36 5843.5,0 5947.5,0 5947.5,-36\"/>\n",
       "<text text-anchor=\"middle\" x=\"5895.5\" y=\"-14.3\" font-family=\"Times New Roman,serif\" font-size=\"14.00\">val = &#45;1906.815</text>\n",
       "</g>\n",
       "<!-- 56&#45;&gt;114 -->\n",
       "<g id=\"edge114\" class=\"edge\">\n",
       "<title>56&#45;&gt;114</title>\n",
       "<path fill=\"none\" stroke=\"black\" d=\"M5843.65,-86.8C5852.84,-74.78 5865.28,-58.52 5875.67,-44.94\"/>\n",
       "<polygon fill=\"black\" stroke=\"black\" points=\"5878.85,-47.54 5882.14,-37.47 5873.29,-43.28 5878.85,-47.54\"/>\n",
       "<text text-anchor=\"middle\" x=\"5878.5\" y=\"-57.8\" font-family=\"Times New Roman,serif\" font-size=\"14.00\">Yes</text>\n",
       "</g>\n",
       "<!-- 115 -->\n",
       "<g id=\"node116\" class=\"node\">\n",
       "<title>115</title>\n",
       "<polygon fill=\"none\" stroke=\"red\" points=\"6071.5,-36 5965.5,-36 5965.5,0 6071.5,0 6071.5,-36\"/>\n",
       "<text text-anchor=\"middle\" x=\"6018.5\" y=\"-14.3\" font-family=\"Times New Roman,serif\" font-size=\"14.00\">val = 73856.273</text>\n",
       "</g>\n",
       "<!-- 57&#45;&gt;115 -->\n",
       "<g id=\"edge115\" class=\"edge\">\n",
       "<title>57&#45;&gt;115</title>\n",
       "<path fill=\"none\" stroke=\"black\" d=\"M6060.77,-86.8C6053.42,-75.01 6043.53,-59.14 6035.16,-45.72\"/>\n",
       "<polygon fill=\"black\" stroke=\"black\" points=\"6037.65,-44.1 6029.39,-37.47 6031.71,-47.8 6037.65,-44.1\"/>\n",
       "<text text-anchor=\"middle\" x=\"6057.5\" y=\"-57.8\" font-family=\"Times New Roman,serif\" font-size=\"14.00\">No</text>\n",
       "</g>\n",
       "<!-- 116 -->\n",
       "<g id=\"node117\" class=\"node\">\n",
       "<title>116</title>\n",
       "<polygon fill=\"none\" stroke=\"red\" points=\"6189,-36 6090,-36 6090,0 6189,0 6189,-36\"/>\n",
       "<text text-anchor=\"middle\" x=\"6139.5\" y=\"-14.3\" font-family=\"Times New Roman,serif\" font-size=\"14.00\">val = 3970.350</text>\n",
       "</g>\n",
       "<!-- 57&#45;&gt;116 -->\n",
       "<g id=\"edge116\" class=\"edge\">\n",
       "<title>57&#45;&gt;116</title>\n",
       "<path fill=\"none\" stroke=\"black\" d=\"M6084.93,-87.21C6094.59,-75.14 6107.78,-58.65 6118.78,-44.9\"/>\n",
       "<polygon fill=\"black\" stroke=\"black\" points=\"6122.11,-47.34 6125.63,-37.34 6116.65,-42.96 6122.11,-47.34\"/>\n",
       "<text text-anchor=\"middle\" x=\"6121.5\" y=\"-57.8\" font-family=\"Times New Roman,serif\" font-size=\"14.00\">Yes</text>\n",
       "</g>\n",
       "<!-- 117 -->\n",
       "<g id=\"node118\" class=\"node\">\n",
       "<title>117</title>\n",
       "<polygon fill=\"none\" stroke=\"red\" points=\"6313.5,-36 6207.5,-36 6207.5,0 6313.5,0 6313.5,-36\"/>\n",
       "<text text-anchor=\"middle\" x=\"6260.5\" y=\"-14.3\" font-family=\"Times New Roman,serif\" font-size=\"14.00\">val = 31784.718</text>\n",
       "</g>\n",
       "<!-- 58&#45;&gt;117 -->\n",
       "<g id=\"edge117\" class=\"edge\">\n",
       "<title>58&#45;&gt;117</title>\n",
       "<path fill=\"none\" stroke=\"black\" d=\"M6260.5,-86.8C6260.5,-75.47 6260.5,-60.36 6260.5,-47.29\"/>\n",
       "<polygon fill=\"black\" stroke=\"black\" points=\"6264,-47.47 6260.5,-37.47 6257,-47.47 6264,-47.47\"/>\n",
       "<text text-anchor=\"middle\" x=\"6269.5\" y=\"-57.8\" font-family=\"Times New Roman,serif\" font-size=\"14.00\">No</text>\n",
       "</g>\n",
       "<!-- 118 -->\n",
       "<g id=\"node119\" class=\"node\">\n",
       "<title>118</title>\n",
       "<polygon fill=\"none\" stroke=\"red\" points=\"6435.5,-36 6331.5,-36 6331.5,0 6435.5,0 6435.5,-36\"/>\n",
       "<text text-anchor=\"middle\" x=\"6383.5\" y=\"-14.3\" font-family=\"Times New Roman,serif\" font-size=\"14.00\">val = &#45;3568.801</text>\n",
       "</g>\n",
       "<!-- 58&#45;&gt;118 -->\n",
       "<g id=\"edge118\" class=\"edge\">\n",
       "<title>58&#45;&gt;118</title>\n",
       "<path fill=\"none\" stroke=\"black\" d=\"M6284.22,-87.61C6302.82,-74.75 6328.97,-56.69 6349.76,-42.32\"/>\n",
       "<polygon fill=\"black\" stroke=\"black\" points=\"6351.35,-44.78 6357.59,-36.21 6347.37,-39.02 6351.35,-44.78\"/>\n",
       "<text text-anchor=\"middle\" x=\"6340.5\" y=\"-57.8\" font-family=\"Times New Roman,serif\" font-size=\"14.00\">Yes</text>\n",
       "</g>\n",
       "<!-- 119 -->\n",
       "<g id=\"node120\" class=\"node\">\n",
       "<title>119</title>\n",
       "<polygon fill=\"none\" stroke=\"red\" points=\"6567,-36 6454,-36 6454,0 6567,0 6567,-36\"/>\n",
       "<text text-anchor=\"middle\" x=\"6510.5\" y=\"-14.3\" font-family=\"Times New Roman,serif\" font-size=\"14.00\">val = 202015.887</text>\n",
       "</g>\n",
       "<!-- 59&#45;&gt;119 -->\n",
       "<g id=\"edge119\" class=\"edge\">\n",
       "<title>59&#45;&gt;119</title>\n",
       "<path fill=\"none\" stroke=\"black\" d=\"M6590.74,-87.21C6576.01,-74.68 6555.66,-57.39 6539.14,-43.35\"/>\n",
       "<polygon fill=\"black\" stroke=\"black\" points=\"6541.79,-40.15 6531.9,-36.34 6537.25,-45.49 6541.79,-40.15\"/>\n",
       "<text text-anchor=\"middle\" x=\"6575.5\" y=\"-57.8\" font-family=\"Times New Roman,serif\" font-size=\"14.00\">No</text>\n",
       "</g>\n",
       "<!-- 120 -->\n",
       "<g id=\"node121\" class=\"node\">\n",
       "<title>120</title>\n",
       "<polygon fill=\"none\" stroke=\"red\" points=\"6684,-36 6585,-36 6585,0 6684,0 6684,-36\"/>\n",
       "<text text-anchor=\"middle\" x=\"6634.5\" y=\"-14.3\" font-family=\"Times New Roman,serif\" font-size=\"14.00\">val = 7864.782</text>\n",
       "</g>\n",
       "<!-- 59&#45;&gt;120 -->\n",
       "<g id=\"edge120\" class=\"edge\">\n",
       "<title>59&#45;&gt;120</title>\n",
       "<path fill=\"none\" stroke=\"black\" d=\"M6615.36,-86.8C6618.59,-75.35 6622.91,-60.06 6626.62,-46.89\"/>\n",
       "<polygon fill=\"black\" stroke=\"black\" points=\"6630.22,-48.04 6629.57,-37.47 6623.48,-46.14 6630.22,-48.04\"/>\n",
       "<text text-anchor=\"middle\" x=\"6635.5\" y=\"-57.8\" font-family=\"Times New Roman,serif\" font-size=\"14.00\">Yes</text>\n",
       "</g>\n",
       "<!-- 121 -->\n",
       "<g id=\"node122\" class=\"node\">\n",
       "<title>121</title>\n",
       "<polygon fill=\"none\" stroke=\"red\" points=\"6808.5,-36 6702.5,-36 6702.5,0 6808.5,0 6808.5,-36\"/>\n",
       "<text text-anchor=\"middle\" x=\"6755.5\" y=\"-14.3\" font-family=\"Times New Roman,serif\" font-size=\"14.00\">val = 92466.153</text>\n",
       "</g>\n",
       "<!-- 60&#45;&gt;121 -->\n",
       "<g id=\"edge121\" class=\"edge\">\n",
       "<title>60&#45;&gt;121</title>\n",
       "<path fill=\"none\" stroke=\"black\" d=\"M6774.64,-86.8C6771.41,-75.35 6767.09,-60.06 6763.38,-46.89\"/>\n",
       "<polygon fill=\"black\" stroke=\"black\" points=\"6766.52,-46.14 6760.43,-37.47 6759.78,-48.04 6766.52,-46.14\"/>\n",
       "<text text-anchor=\"middle\" x=\"6778.5\" y=\"-57.8\" font-family=\"Times New Roman,serif\" font-size=\"14.00\">No</text>\n",
       "</g>\n",
       "<!-- 122 -->\n",
       "<g id=\"node123\" class=\"node\">\n",
       "<title>122</title>\n",
       "<polygon fill=\"none\" stroke=\"red\" points=\"6926,-36 6827,-36 6827,0 6926,0 6926,-36\"/>\n",
       "<text text-anchor=\"middle\" x=\"6876.5\" y=\"-14.3\" font-family=\"Times New Roman,serif\" font-size=\"14.00\">val = 1501.047</text>\n",
       "</g>\n",
       "<!-- 60&#45;&gt;122 -->\n",
       "<g id=\"edge122\" class=\"edge\">\n",
       "<title>60&#45;&gt;122</title>\n",
       "<path fill=\"none\" stroke=\"black\" d=\"M6798.66,-87.21C6812.96,-74.68 6832.7,-57.39 6848.72,-43.35\"/>\n",
       "<polygon fill=\"black\" stroke=\"black\" points=\"6850.5,-45.56 6855.71,-36.34 6845.88,-40.3 6850.5,-45.56\"/>\n",
       "<text text-anchor=\"middle\" x=\"6845.5\" y=\"-57.8\" font-family=\"Times New Roman,serif\" font-size=\"14.00\">Yes</text>\n",
       "</g>\n",
       "<!-- 123 -->\n",
       "<g id=\"node124\" class=\"node\">\n",
       "<title>123</title>\n",
       "<polygon fill=\"none\" stroke=\"red\" points=\"7057,-36 6944,-36 6944,0 7057,0 7057,-36\"/>\n",
       "<text text-anchor=\"middle\" x=\"7000.5\" y=\"-14.3\" font-family=\"Times New Roman,serif\" font-size=\"14.00\">val = 104807.730</text>\n",
       "</g>\n",
       "<!-- 61&#45;&gt;123 -->\n",
       "<g id=\"edge123\" class=\"edge\">\n",
       "<title>61&#45;&gt;123</title>\n",
       "<path fill=\"none\" stroke=\"black\" d=\"M7030.81,-86.8C7025.64,-75.24 7018.72,-59.75 7012.79,-46.5\"/>\n",
       "<polygon fill=\"black\" stroke=\"black\" points=\"7015.59,-45.17 7008.31,-37.47 7009.19,-48.02 7015.59,-45.17\"/>\n",
       "<text text-anchor=\"middle\" x=\"7031.5\" y=\"-57.8\" font-family=\"Times New Roman,serif\" font-size=\"14.00\">No</text>\n",
       "</g>\n",
       "<!-- 124 -->\n",
       "<g id=\"node125\" class=\"node\">\n",
       "<title>124</title>\n",
       "<polygon fill=\"none\" stroke=\"red\" points=\"7174,-36 7075,-36 7075,0 7174,0 7174,-36\"/>\n",
       "<text text-anchor=\"middle\" x=\"7124.5\" y=\"-14.3\" font-family=\"Times New Roman,serif\" font-size=\"14.00\">val = 2622.169</text>\n",
       "</g>\n",
       "<!-- 61&#45;&gt;124 -->\n",
       "<g id=\"edge124\" class=\"edge\">\n",
       "<title>61&#45;&gt;124</title>\n",
       "<path fill=\"none\" stroke=\"black\" d=\"M7055.49,-87.21C7068.05,-74.8 7085.34,-57.7 7099.48,-43.73\"/>\n",
       "<polygon fill=\"black\" stroke=\"black\" points=\"7101.3,-46.86 7105.95,-37.34 7096.38,-41.88 7101.3,-46.86\"/>\n",
       "<text text-anchor=\"middle\" x=\"7098.5\" y=\"-57.8\" font-family=\"Times New Roman,serif\" font-size=\"14.00\">Yes</text>\n",
       "</g>\n",
       "<!-- 125 -->\n",
       "<g id=\"node126\" class=\"node\">\n",
       "<title>125</title>\n",
       "<polygon fill=\"none\" stroke=\"red\" points=\"7298.5,-36 7192.5,-36 7192.5,0 7298.5,0 7298.5,-36\"/>\n",
       "<text text-anchor=\"middle\" x=\"7245.5\" y=\"-14.3\" font-family=\"Times New Roman,serif\" font-size=\"14.00\">val = 64717.300</text>\n",
       "</g>\n",
       "<!-- 62&#45;&gt;125 -->\n",
       "<g id=\"edge125\" class=\"edge\">\n",
       "<title>62&#45;&gt;125</title>\n",
       "<path fill=\"none\" stroke=\"black\" d=\"M7245.5,-86.8C7245.5,-75.47 7245.5,-60.36 7245.5,-47.29\"/>\n",
       "<polygon fill=\"black\" stroke=\"black\" points=\"7249,-47.47 7245.5,-37.47 7242,-47.47 7249,-47.47\"/>\n",
       "<text text-anchor=\"middle\" x=\"7254.5\" y=\"-57.8\" font-family=\"Times New Roman,serif\" font-size=\"14.00\">No</text>\n",
       "</g>\n",
       "<!-- 126 -->\n",
       "<g id=\"node127\" class=\"node\">\n",
       "<title>126</title>\n",
       "<polygon fill=\"none\" stroke=\"red\" points=\"7420.5,-36 7316.5,-36 7316.5,0 7420.5,0 7420.5,-36\"/>\n",
       "<text text-anchor=\"middle\" x=\"7368.5\" y=\"-14.3\" font-family=\"Times New Roman,serif\" font-size=\"14.00\">val = &#45;1203.371</text>\n",
       "</g>\n",
       "<!-- 62&#45;&gt;126 -->\n",
       "<g id=\"edge126\" class=\"edge\">\n",
       "<title>62&#45;&gt;126</title>\n",
       "<path fill=\"none\" stroke=\"black\" d=\"M7269.22,-87.61C7287.82,-74.75 7313.97,-56.69 7334.76,-42.32\"/>\n",
       "<polygon fill=\"black\" stroke=\"black\" points=\"7336.35,-44.78 7342.59,-36.21 7332.37,-39.02 7336.35,-44.78\"/>\n",
       "<text text-anchor=\"middle\" x=\"7325.5\" y=\"-57.8\" font-family=\"Times New Roman,serif\" font-size=\"14.00\">Yes</text>\n",
       "</g>\n",
       "</g>\n",
       "</svg>\n"
      ],
      "text/plain": [
       "<graphviz.graphs.Digraph at 0x186cba58670>"
      ]
     },
     "execution_count": 244,
     "metadata": {},
     "output_type": "execute_result"
    }
   ],
   "source": [
    "model.plot_tree(tree_idx=0, pool=X_test)"
   ]
  },
  {
   "cell_type": "code",
   "execution_count": 237,
   "id": "6fceb30d",
   "metadata": {},
   "outputs": [],
   "source": [
    "prediction = model.predict(X_test[selected])"
   ]
  },
  {
   "cell_type": "code",
   "execution_count": 238,
   "id": "9e9d5d1d",
   "metadata": {},
   "outputs": [
    {
     "data": {
      "text/plain": [
       "array([70291.59261695, 29153.43185127, 17866.25402873, ...,\n",
       "       35694.5216227 , 31435.36604569, 24123.39583773])"
      ]
     },
     "execution_count": 238,
     "metadata": {},
     "output_type": "execute_result"
    }
   ],
   "source": [
    "prediction"
   ]
  },
  {
   "cell_type": "code",
   "execution_count": 239,
   "id": "e8d6d7cf",
   "metadata": {},
   "outputs": [
    {
     "name": "stdout",
     "output_type": "stream",
     "text": [
      "Y test\n",
      "count    1.821400e+04\n",
      "mean     5.271214e+04\n",
      "std      1.232284e+05\n",
      "min      1.700000e+01\n",
      "25%      2.000000e+04\n",
      "50%      3.200000e+04\n",
      "75%      5.700000e+04\n",
      "max      2.567400e+06\n",
      "Name: price, dtype: float64\n",
      "\n",
      "Y pred\n",
      "count    1.821400e+04\n",
      "mean     5.283666e+04\n",
      "std      1.201121e+05\n",
      "min     -1.762079e+04\n",
      "25%      2.063196e+04\n",
      "50%      3.411136e+04\n",
      "75%      5.924214e+04\n",
      "max      2.476567e+06\n",
      "dtype: float64\n",
      "\n"
     ]
    }
   ],
   "source": [
    "print('Y test')\n",
    "print(y_test.describe())\n",
    "print()\n",
    "print('Y pred')\n",
    "print(pd.Series(prediction).describe())\n",
    "print()\n"
   ]
  },
  {
   "cell_type": "code",
   "execution_count": 240,
   "id": "67a2f14e",
   "metadata": {},
   "outputs": [
    {
     "name": "stdout",
     "output_type": "stream",
     "text": [
      "MAE: 10073.93637969401\n",
      "MSE: 506385065.50764114\n",
      "RMSE: 22503.001255557916\n",
      "R2: 0.9666509822592115\n",
      "MAPE: 2.368018311346091\n"
     ]
    }
   ],
   "source": [
    "from sklearn import metrics\n",
    "\n",
    "def print_metrics(preds, gts):\n",
    "    print(f\"MAE: {metrics.mean_absolute_error(gts, preds)}\")\n",
    "    print(f\"MSE: {metrics.mean_squared_error(gts, preds)}\")\n",
    "    print(f\"RMSE: {metrics.root_mean_squared_error(gts, preds)}\")\n",
    "    print(f\"R2: {metrics.r2_score(gts, preds)}\")\n",
    "    print(f\"MAPE: {metrics.mean_absolute_percentage_error(gts, preds)}\")\n",
    "\n",
    "\n",
    "print_metrics(prediction, y_test)"
   ]
  },
  {
   "cell_type": "markdown",
   "id": "edb061cc",
   "metadata": {},
   "source": [
    "default + All\n",
    "MAE: 12685.260942046447\n",
    "MSE: 1884201637.0192149\n",
    "RMSE: 43407.39150213031\n",
    "R2: 0.8759120714644607\n",
    "MAPE: 2.479405372105791\n",
    "\n",
    "default + Important 0.1 (from all)\n",
    "MAE: 12660.003927921938\n",
    "MSE: 1857534224.7071507\n",
    "RMSE: 43099.120927313015\n",
    "R2: 0.8776683081050584\n",
    "MAPE: 2.4674582345198726\n",
    "\n",
    "default + Important 0.2 (from 0.1)\n",
    "MAE: 12598.315785151302\n",
    "MSE: 1816768356.4734898\n",
    "RMSE: 42623.56574095473\n",
    "R2: 0.8803530272161564\n",
    "MAPE: 2.467720767547896\n",
    "\n",
    "\n",
    "mae + {'depth': 8, 'l2_leaf_reg': 1, 'iterations': 500, 'learning_rate': 0.1}\n",
    "MAE: 12187.250663391844\n",
    "MSE: 2337699684.329189\n",
    "RMSE: 48349.7640566031\n",
    "R2: 0.846046035802465\n",
    "MAPE: 2.355927033709212\n",
    "\n",
    "\n",
    "rmse with uncertanty + {'depth': 6, 'l2_leaf_reg': 3, 'iterations': 200, 'learning_rate': 0.1}\n",
    "MAE: 13611.386657664354\n",
    "MSE: 1946929097.5812862\n",
    "RMSE: 44124.01950844105\n",
    "R2: 0.871781027052592\n",
    "MAPE: 2.765250145617463\n",
    "\n",
    "rmse + {'depth': 6, 'iterations': 500, 'learning_rate': 0.1, 'l2_leaf_reg': 0.5}\n",
    "MAE: 12781.091155105873\n",
    "MSE: 1959357291.3993628\n",
    "RMSE: 44264.62799345955\n",
    "R2: 0.8709625430878062\n",
    "MAPE: 2.5610253097465705\n",
    "\n",
    "rent only + {'depth': 6, 'iterations': 500, 'learning_rate': 0.1, 'l2_leaf_reg': 0.2}\n",
    "MAE: 10714.122395386801\n",
    "MSE: 739843920.1140379\n",
    "RMSE: 27200.072060824357\n",
    "R2: 0.6617022067964718\n",
    "MAPE: 2.623073551022946\n",
    "\n",
    "sell only + {'depth': 4, 'l2_leaf_reg': 1, 'iterations': 500, 'learning_rate': 0.1}\n",
    "MAE: 262692.69712599774\n",
    "MSE: 132045417635.70651\n",
    "RMSE: 363380.5410801554\n",
    "R2: 0.6491855548003518\n",
    "MAPE: 0.2932232645064311\n",
    "\n",
    "select 30\n",
    "MAE: 10393.651831574554\n",
    "MSE: 551612322.3686267\n",
    "RMSE: 23486.428471962838\n",
    "R2: 0.963672449332076\n",
    "MAPE: 2.39605070919952\n",
    "\n",
    "select 35\n",
    "MAE: 10368.797760826727\n",
    "MSE: 555312979.1254269\n",
    "RMSE: 23565.07965455298\n",
    "R2: 0.9634287350595956\n",
    "MAPE: 2.388146405311896"
   ]
  },
  {
   "cell_type": "code",
   "execution_count": 168,
   "id": "4fd104cc",
   "metadata": {},
   "outputs": [
    {
     "data": {
      "text/plain": [
       "array([ 1.69589455,  0.15408224,  0.61033098,  1.69501638,  4.51016247,\n",
       "        0.55632021,  0.75900613,  0.5258138 ,  0.51722813,  0.2730924 ,\n",
       "        5.68924926,  4.01121077,  0.40181947,  0.47923263,  5.1253933 ,\n",
       "        0.53507002,  1.28069979,  6.41352334,  0.63489231,  0.27537062,\n",
       "        0.16199627, 12.95756138, 49.66320464,  0.10905167,  0.39827668,\n",
       "        0.56650057])"
      ]
     },
     "execution_count": 168,
     "metadata": {},
     "output_type": "execute_result"
    }
   ],
   "source": [
    "model.get_feature_importance()[model.get_feature_importance() != 0]"
   ]
  },
  {
   "cell_type": "code",
   "execution_count": 186,
   "id": "e1529cd3",
   "metadata": {},
   "outputs": [
    {
     "data": {
      "text/plain": [
       "Text(0.5, 1.0, 'Feature Importance')"
      ]
     },
     "execution_count": 186,
     "metadata": {},
     "output_type": "execute_result"
    },
    {
     "data": {
      "image/png": "[encoded data removed]",
      "text/plain": [
       "<Figure size 1200x600 with 1 Axes>"
      ]
     },
     "metadata": {},
     "output_type": "display_data"
    }
   ],
   "source": [
    "import numpy as np\n",
    "\n",
    "\n",
    "feature_importance = model.get_feature_importance() # [model.get_feature_importance() != 0]\n",
    "sorted_idx = np.argsort(feature_importance)\n",
    "\n",
    "for split in range(len(sorted_idx)-1, -1, -1):\n",
    "    if feature_importance[sorted_idx[split]] == 0:\n",
    "        sorted_idx = sorted_idx[split+1:]\n",
    "        break\n",
    "\n",
    "ignore_k = -100\n",
    "\n",
    "fig = plt.figure(figsize=(12, 6))\n",
    "plt.barh(range(len(sorted_idx))[:-ignore_k], feature_importance[sorted_idx][:-ignore_k], align='center')\n",
    "\n",
    "plt.yticks(range(len(sorted_idx))[:-ignore_k], np.array(X_test.columns)[sorted_idx][:-ignore_k])\n",
    "plt.title('Feature Importance')"
   ]
  },
  {
   "cell_type": "code",
   "execution_count": null,
   "id": "83a55898",
   "metadata": {},
   "outputs": [],
   "source": []
  },
  {
   "cell_type": "code",
   "execution_count": null,
   "id": "3937bca7",
   "metadata": {},
   "outputs": [],
   "source": []
  },
  {
   "cell_type": "code",
   "execution_count": null,
   "id": "674508ad",
   "metadata": {},
   "outputs": [],
   "source": []
  },
  {
   "cell_type": "code",
   "execution_count": null,
   "id": "4b818821",
   "metadata": {},
   "outputs": [],
   "source": []
  },
  {
   "cell_type": "code",
   "execution_count": null,
   "id": "8cdca751",
   "metadata": {},
   "outputs": [],
   "source": []
  },
  {
   "cell_type": "code",
   "execution_count": 73,
   "id": "e2c10cec",
   "metadata": {},
   "outputs": [
    {
     "name": "stdout",
     "output_type": "stream",
     "text": [
      "Best found columns is base model (no split)\n"
     ]
    },
    {
     "data": {
      "text/plain": [
       "['advertiser_type_normal_marketer',\n",
       " 'advertiser_type_agent',\n",
       " 'all_inclusive',\n",
       " 'rent_period_1.0',\n",
       " 'is_store',\n",
       " 'furnished',\n",
       " 'beds',\n",
       " 'rent_period_2.0',\n",
       " 'user.review',\n",
       " 'street_width',\n",
       " 'street_direction',\n",
       " 'is_land',\n",
       " 'create_time',\n",
       " 'ac',\n",
       " 'rent_period_3.0',\n",
       " 'city_id',\n",
       " 'age',\n",
       " 'is_villa',\n",
       " 'number_of_rooms',\n",
       " 'livings',\n",
       " 'wc',\n",
       " 'is_appartement',\n",
       " 'category',\n",
       " 'location.lng',\n",
       " 'area',\n",
       " 'district_id',\n",
       " 'location.lat',\n",
       " 'is_sell',\n",
       " 'is_rent']"
      ]
     },
     "execution_count": 73,
     "metadata": {},
     "output_type": "execute_result"
    }
   ],
   "source": [
    "print('Best found columns is base model (no split)')\n",
    "important"
   ]
  },
  {
   "cell_type": "code",
   "execution_count": 30,
   "id": "21f2aa75",
   "metadata": {},
   "outputs": [
    {
     "data": {
      "text/plain": [
       "['__class__',\n",
       " '__copy__',\n",
       " '__deepcopy__',\n",
       " '__delattr__',\n",
       " '__dict__',\n",
       " '__dir__',\n",
       " '__doc__',\n",
       " '__eq__',\n",
       " '__format__',\n",
       " '__ge__',\n",
       " '__getattribute__',\n",
       " '__getstate__',\n",
       " '__gt__',\n",
       " '__hash__',\n",
       " '__init__',\n",
       " '__init_subclass__',\n",
       " '__le__',\n",
       " '__lt__',\n",
       " '__module__',\n",
       " '__ne__',\n",
       " '__new__',\n",
       " '__reduce__',\n",
       " '__reduce_ex__',\n",
       " '__repr__',\n",
       " '__setattr__',\n",
       " '__setstate__',\n",
       " '__sizeof__',\n",
       " '__str__',\n",
       " '__subclasshook__',\n",
       " '__weakref__',\n",
       " '_base_calc_leaf_indexes',\n",
       " '_base_drop_unused_features',\n",
       " '_base_eval_metrics',\n",
       " '_base_predict',\n",
       " '_base_shrink',\n",
       " '_base_virtual_ensembles_predict',\n",
       " '_calc_fstr',\n",
       " '_calc_leaf_indexes',\n",
       " '_calc_ostr',\n",
       " '_check_is_compatible_loss',\n",
       " '_convert_to_asymmetric_representation',\n",
       " '_dataset_train_eval_split',\n",
       " '_deserialize_model',\n",
       " '_estimator_type',\n",
       " '_eval_metrics',\n",
       " '_fit',\n",
       " '_get_borders',\n",
       " '_get_cat_feature_indices',\n",
       " '_get_default_prediction_type',\n",
       " '_get_embedding_feature_indices',\n",
       " '_get_float_feature_indices',\n",
       " '_get_nan_treatments',\n",
       " '_get_params',\n",
       " '_get_tags',\n",
       " '_get_text_feature_indices',\n",
       " '_get_tree_leaf_values',\n",
       " '_get_tree_node_to_leaf',\n",
       " '_get_tree_splits',\n",
       " '_get_tree_step_nodes',\n",
       " '_init_params',\n",
       " '_is_classification_objective',\n",
       " '_is_comparable_to',\n",
       " '_is_fitted_',\n",
       " '_is_multiregression_objective',\n",
       " '_is_multitarget_objective',\n",
       " '_is_ranking_objective',\n",
       " '_is_regression_objective',\n",
       " '_is_survivalregression_objective',\n",
       " '_iterate_leaf_indexes',\n",
       " '_leaf_indexes_iterator',\n",
       " '_learning_rate',\n",
       " '_load_from_stream',\n",
       " '_load_from_string',\n",
       " '_load_model',\n",
       " '_n_features_in',\n",
       " '_object',\n",
       " '_plot_nonsymmetric_tree',\n",
       " '_plot_oblivious_tree',\n",
       " '_predict',\n",
       " '_prediction_values_change',\n",
       " '_prepare_train_params',\n",
       " '_process_predict_input_data',\n",
       " '_random_seed',\n",
       " '_save_borders',\n",
       " '_save_model',\n",
       " '_serialize_model',\n",
       " '_set_test_evals',\n",
       " '_set_trained_model_attributes',\n",
       " '_staged_predict',\n",
       " '_staged_predict_iterator',\n",
       " '_sum_models',\n",
       " '_train',\n",
       " '_tree_count',\n",
       " '_tune_hyperparams',\n",
       " '_validate_prediction_type',\n",
       " '_virtual_ensembles_predict',\n",
       " 'best_iteration_',\n",
       " 'best_score_',\n",
       " 'calc_feature_statistics',\n",
       " 'calc_leaf_indexes',\n",
       " 'classes_',\n",
       " 'compare',\n",
       " 'copy',\n",
       " 'create_metric_calcer',\n",
       " 'drop_unused_features',\n",
       " 'eval_metrics',\n",
       " 'evals_result_',\n",
       " 'feature_importances_',\n",
       " 'feature_names_',\n",
       " 'fit',\n",
       " 'get_all_params',\n",
       " 'get_best_iteration',\n",
       " 'get_best_score',\n",
       " 'get_borders',\n",
       " 'get_cat_feature_indices',\n",
       " 'get_embedding_feature_indices',\n",
       " 'get_evals_result',\n",
       " 'get_feature_importance',\n",
       " 'get_leaf_values',\n",
       " 'get_leaf_weights',\n",
       " 'get_metadata',\n",
       " 'get_n_features_in',\n",
       " 'get_object_importance',\n",
       " 'get_param',\n",
       " 'get_params',\n",
       " 'get_scale_and_bias',\n",
       " 'get_test_eval',\n",
       " 'get_test_evals',\n",
       " 'get_text_feature_indices',\n",
       " 'get_tree_leaf_counts',\n",
       " 'grid_search',\n",
       " 'is_fitted',\n",
       " 'iterate_leaf_indexes',\n",
       " 'learning_rate_',\n",
       " 'load_model',\n",
       " 'n_features_in_',\n",
       " 'plot_partial_dependence',\n",
       " 'plot_predictions',\n",
       " 'plot_tree',\n",
       " 'predict',\n",
       " 'random_seed_',\n",
       " 'randomized_search',\n",
       " 'save_borders',\n",
       " 'save_model',\n",
       " 'score',\n",
       " 'select_features',\n",
       " 'set_feature_names',\n",
       " 'set_leaf_values',\n",
       " 'set_params',\n",
       " 'set_scale_and_bias',\n",
       " 'shrink',\n",
       " 'staged_predict',\n",
       " 'tree_count_',\n",
       " 'virtual_ensembles_predict']"
      ]
     },
     "execution_count": 30,
     "metadata": {},
     "output_type": "execute_result"
    }
   ],
   "source": [
    "dir(model)"
   ]
  },
  {
   "cell_type": "code",
   "execution_count": 242,
   "id": "b308a625",
   "metadata": {},
   "outputs": [
    {
     "data": {
      "text/plain": [
       "[]"
      ]
     },
     "execution_count": 242,
     "metadata": {},
     "output_type": "execute_result"
    }
   ],
   "source": [
    "model.get_embedding_feature_indices()"
   ]
  },
  {
   "cell_type": "code",
   "execution_count": null,
   "id": "5b8125cb",
   "metadata": {},
   "outputs": [],
   "source": []
  }
 ],
 "metadata": {
  "kernelspec": {
   "display_name": "Python 3 (ipykernel)",
   "language": "python",
   "name": "python3"
  },
  "language_info": {
   "codemirror_mode": {
    "name": "ipython",
    "version": 3
   },
   "file_extension": ".py",
   "mimetype": "text/x-python",
   "name": "python",
   "nbconvert_exporter": "python",
   "pygments_lexer": "ipython3",
   "version": "3.9.6"
  }
 },
 "nbformat": 4,
 "nbformat_minor": 5
}
